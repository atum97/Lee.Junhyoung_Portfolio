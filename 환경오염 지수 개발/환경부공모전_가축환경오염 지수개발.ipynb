{
 "cells": [
  {
   "cell_type": "code",
   "execution_count": 3,
   "id": "c9f36958",
   "metadata": {
    "executionInfo": {
     "elapsed": 3083,
     "status": "ok",
     "timestamp": 1669702959802,
     "user": {
      "displayName": "이준형",
      "userId": "12900679336039541903"
     },
     "user_tz": -540
    },
    "id": "c9f36958"
   },
   "outputs": [],
   "source": [
    "import pandas as pd\n",
    "import numpy as np\n",
    "\n",
    "# 시각화 라이브러리 불러오기\n",
    "import matplotlib.pyplot as plt\n",
    "import plotly.express as px\n",
    "import seaborn as sns\n",
    "\n",
    "# 기타 설정\n",
    "%matplotlib inline\n",
    "color = sns.color_palette()\n",
    "sns.set_style('darkgrid')"
   ]
  },
  {
   "cell_type": "code",
   "execution_count": 4,
   "id": "1f035e83",
   "metadata": {
    "executionInfo": {
     "elapsed": 818,
     "status": "ok",
     "timestamp": 1669702970514,
     "user": {
      "displayName": "이준형",
      "userId": "12900679336039541903"
     },
     "user_tz": -540
    },
    "id": "1f035e83"
   },
   "outputs": [],
   "source": [
    "from scipy import stats\n",
    "from scipy.stats import norm, skew      # for some statistics"
   ]
  },
  {
   "cell_type": "markdown",
   "id": "0595fef6-57ff-4ad6-b316-e6d998cf3d76",
   "metadata": {},
   "source": [
    "# 1. 데이터 전처리"
   ]
  },
  {
   "cell_type": "markdown",
   "id": "67136b27-f84e-42b0-a209-471a4f79e75c",
   "metadata": {},
   "source": [
    "## 1.1. 농가수 전처리"
   ]
  },
  {
   "cell_type": "code",
   "execution_count": 108,
   "id": "096b4d96-f7cb-461e-b37c-8fba37aab3dc",
   "metadata": {},
   "outputs": [
    {
     "name": "stderr",
     "output_type": "stream",
     "text": [
      "C:\\Users\\User\\AppData\\Local\\Temp\\ipykernel_4472\\2719431314.py:11: SettingWithCopyWarning: \n",
      "A value is trying to be set on a copy of a slice from a DataFrame.\n",
      "Try using .loc[row_indexer,col_indexer] = value instead\n",
      "\n",
      "See the caveats in the documentation: https://pandas.pydata.org/pandas-docs/stable/user_guide/indexing.html#returning-a-view-versus-a-copy\n",
      "  idx['읍면동_x'] = idx['읍면동_y']\n"
     ]
    }
   ],
   "source": [
    "import pandas as pd\n",
    "import numpy as np\n",
    "주소 = pd.DataFrame(pd.read_excel('C:/Users/User/Desktop/공모전데이터/행정동_주소 (1).xlsx'))\n",
    "dt = pd.DataFrame(pd.read_excel('C:/Users/User/Desktop/공모전데이터/fulldata.xlsx'))\n",
    "dict_add = {}\n",
    "주소['key'] = 주소['시군']+주소['법정동']\n",
    "dt['key'] = dt['시군']+dt['읍면동']\n",
    "dt1 = pd.merge(dt, 주소[['key','읍면동']],on='key',how='left')\n",
    "# dt1[dt1['읍면동_y'].isnull().to_list()]\n",
    "idx = dt1[dt1['읍면동_y'].notnull().to_list()]\n",
    "idx['읍면동_x'] = idx['읍면동_y']\n",
    "dt1 = dt1.drop(idx.index)\n",
    "dt1 = pd.concat([dt1, idx])[dt1.columns[:-2]]\n",
    "dt1 = dt1.rename(columns={'읍면동_x':'읍면동'})\n",
    "dt1.to_excel('C:/Users/User/Desktop/공모전데이터/fulldata.xlsx',index=False)"
   ]
  },
  {
   "cell_type": "code",
   "execution_count": 109,
   "id": "b9f30227-0ebe-46e4-9d0d-83c15c0fe068",
   "metadata": {},
   "outputs": [
    {
     "data": {
      "text/html": [
       "<div>\n",
       "<style scoped>\n",
       "    .dataframe tbody tr th:only-of-type {\n",
       "        vertical-align: middle;\n",
       "    }\n",
       "\n",
       "    .dataframe tbody tr th {\n",
       "        vertical-align: top;\n",
       "    }\n",
       "\n",
       "    .dataframe thead th {\n",
       "        text-align: right;\n",
       "    }\n",
       "</style>\n",
       "<table border=\"1\" class=\"dataframe\">\n",
       "  <thead>\n",
       "    <tr style=\"text-align: right;\">\n",
       "      <th></th>\n",
       "      <th>시도</th>\n",
       "      <th>시군</th>\n",
       "      <th>읍면동</th>\n",
       "      <th>주사육업종</th>\n",
       "    </tr>\n",
       "  </thead>\n",
       "  <tbody>\n",
       "    <tr>\n",
       "      <th>0</th>\n",
       "      <td>충청남도</td>\n",
       "      <td>보령시</td>\n",
       "      <td>(남곡동)</td>\n",
       "      <td>한우</td>\n",
       "    </tr>\n",
       "    <tr>\n",
       "      <th>1</th>\n",
       "      <td>충청남도</td>\n",
       "      <td>공주시</td>\n",
       "      <td>장기면</td>\n",
       "      <td>한우</td>\n",
       "    </tr>\n",
       "    <tr>\n",
       "      <th>2</th>\n",
       "      <td>충청남도</td>\n",
       "      <td>홍성군</td>\n",
       "      <td>홍북면</td>\n",
       "      <td>한우</td>\n",
       "    </tr>\n",
       "    <tr>\n",
       "      <th>3</th>\n",
       "      <td>대구광역시</td>\n",
       "      <td>달성군</td>\n",
       "      <td>현풍면</td>\n",
       "      <td>한우</td>\n",
       "    </tr>\n",
       "    <tr>\n",
       "      <th>4</th>\n",
       "      <td>대구광역시</td>\n",
       "      <td>달성군</td>\n",
       "      <td>현풍면</td>\n",
       "      <td>젖소</td>\n",
       "    </tr>\n",
       "    <tr>\n",
       "      <th>...</th>\n",
       "      <td>...</td>\n",
       "      <td>...</td>\n",
       "      <td>...</td>\n",
       "      <td>...</td>\n",
       "    </tr>\n",
       "    <tr>\n",
       "      <th>193001</th>\n",
       "      <td>강원도</td>\n",
       "      <td>철원군</td>\n",
       "      <td>동송읍</td>\n",
       "      <td>한우</td>\n",
       "    </tr>\n",
       "    <tr>\n",
       "      <th>193002</th>\n",
       "      <td>충청북도</td>\n",
       "      <td>옥천군</td>\n",
       "      <td>동이면</td>\n",
       "      <td>한우</td>\n",
       "    </tr>\n",
       "    <tr>\n",
       "      <th>193003</th>\n",
       "      <td>충청북도</td>\n",
       "      <td>옥천군</td>\n",
       "      <td>이원면</td>\n",
       "      <td>한우</td>\n",
       "    </tr>\n",
       "    <tr>\n",
       "      <th>193004</th>\n",
       "      <td>강원도</td>\n",
       "      <td>강릉시</td>\n",
       "      <td>주문진읍</td>\n",
       "      <td>한우</td>\n",
       "    </tr>\n",
       "    <tr>\n",
       "      <th>193005</th>\n",
       "      <td>경상북도</td>\n",
       "      <td>군위군</td>\n",
       "      <td>효령면</td>\n",
       "      <td>한우</td>\n",
       "    </tr>\n",
       "  </tbody>\n",
       "</table>\n",
       "<p>193006 rows × 4 columns</p>\n",
       "</div>"
      ],
      "text/plain": [
       "           시도   시군    읍면동 주사육업종\n",
       "0        충청남도  보령시  (남곡동)    한우\n",
       "1        충청남도  공주시    장기면    한우\n",
       "2        충청남도  홍성군    홍북면    한우\n",
       "3       대구광역시  달성군    현풍면    한우\n",
       "4       대구광역시  달성군    현풍면    젖소\n",
       "...       ...  ...    ...   ...\n",
       "193001    강원도  철원군    동송읍    한우\n",
       "193002   충청북도  옥천군    동이면    한우\n",
       "193003   충청북도  옥천군    이원면    한우\n",
       "193004    강원도  강릉시   주문진읍    한우\n",
       "193005   경상북도  군위군    효령면    한우\n",
       "\n",
       "[193006 rows x 4 columns]"
      ]
     },
     "execution_count": 109,
     "metadata": {},
     "output_type": "execute_result"
    }
   ],
   "source": [
    "df = pd.read_excel('C:/Users/User/Desktop/공모전데이터/fulldata.xlsx')\n",
    "df"
   ]
  },
  {
   "cell_type": "code",
   "execution_count": 110,
   "id": "0245ba38-c19e-4820-968c-797ac3e2bf22",
   "metadata": {},
   "outputs": [
    {
     "name": "stderr",
     "output_type": "stream",
     "text": [
      "C:\\Users\\User\\AppData\\Local\\Temp\\ipykernel_4472\\2458616300.py:1: FutureWarning: The default value of regex will change from True to False in a future version. In addition, single character regular expressions will *not* be treated as literal strings when regex=True.\n",
      "  df['읍면동']=df['읍면동'].str.replace(\"(\", \"\")\n",
      "C:\\Users\\User\\AppData\\Local\\Temp\\ipykernel_4472\\2458616300.py:2: FutureWarning: The default value of regex will change from True to False in a future version. In addition, single character regular expressions will *not* be treated as literal strings when regex=True.\n",
      "  df['읍면동']=df['읍면동'].str.replace(\")\", \"\")\n"
     ]
    },
    {
     "data": {
      "text/html": [
       "<div>\n",
       "<style scoped>\n",
       "    .dataframe tbody tr th:only-of-type {\n",
       "        vertical-align: middle;\n",
       "    }\n",
       "\n",
       "    .dataframe tbody tr th {\n",
       "        vertical-align: top;\n",
       "    }\n",
       "\n",
       "    .dataframe thead th {\n",
       "        text-align: right;\n",
       "    }\n",
       "</style>\n",
       "<table border=\"1\" class=\"dataframe\">\n",
       "  <thead>\n",
       "    <tr style=\"text-align: right;\">\n",
       "      <th></th>\n",
       "      <th>시도</th>\n",
       "      <th>시군</th>\n",
       "      <th>읍면동</th>\n",
       "      <th>주사육업종</th>\n",
       "    </tr>\n",
       "  </thead>\n",
       "  <tbody>\n",
       "    <tr>\n",
       "      <th>0</th>\n",
       "      <td>충청남도</td>\n",
       "      <td>보령시</td>\n",
       "      <td>남곡동</td>\n",
       "      <td>한우</td>\n",
       "    </tr>\n",
       "    <tr>\n",
       "      <th>1</th>\n",
       "      <td>충청남도</td>\n",
       "      <td>공주시</td>\n",
       "      <td>장기면</td>\n",
       "      <td>한우</td>\n",
       "    </tr>\n",
       "    <tr>\n",
       "      <th>2</th>\n",
       "      <td>충청남도</td>\n",
       "      <td>홍성군</td>\n",
       "      <td>홍북면</td>\n",
       "      <td>한우</td>\n",
       "    </tr>\n",
       "    <tr>\n",
       "      <th>3</th>\n",
       "      <td>대구광역시</td>\n",
       "      <td>달성군</td>\n",
       "      <td>현풍면</td>\n",
       "      <td>한우</td>\n",
       "    </tr>\n",
       "    <tr>\n",
       "      <th>4</th>\n",
       "      <td>대구광역시</td>\n",
       "      <td>달성군</td>\n",
       "      <td>현풍면</td>\n",
       "      <td>젖소</td>\n",
       "    </tr>\n",
       "    <tr>\n",
       "      <th>...</th>\n",
       "      <td>...</td>\n",
       "      <td>...</td>\n",
       "      <td>...</td>\n",
       "      <td>...</td>\n",
       "    </tr>\n",
       "    <tr>\n",
       "      <th>193001</th>\n",
       "      <td>강원도</td>\n",
       "      <td>철원군</td>\n",
       "      <td>동송읍</td>\n",
       "      <td>한우</td>\n",
       "    </tr>\n",
       "    <tr>\n",
       "      <th>193002</th>\n",
       "      <td>충청북도</td>\n",
       "      <td>옥천군</td>\n",
       "      <td>동이면</td>\n",
       "      <td>한우</td>\n",
       "    </tr>\n",
       "    <tr>\n",
       "      <th>193003</th>\n",
       "      <td>충청북도</td>\n",
       "      <td>옥천군</td>\n",
       "      <td>이원면</td>\n",
       "      <td>한우</td>\n",
       "    </tr>\n",
       "    <tr>\n",
       "      <th>193004</th>\n",
       "      <td>강원도</td>\n",
       "      <td>강릉시</td>\n",
       "      <td>주문진읍</td>\n",
       "      <td>한우</td>\n",
       "    </tr>\n",
       "    <tr>\n",
       "      <th>193005</th>\n",
       "      <td>경상북도</td>\n",
       "      <td>군위군</td>\n",
       "      <td>효령면</td>\n",
       "      <td>한우</td>\n",
       "    </tr>\n",
       "  </tbody>\n",
       "</table>\n",
       "<p>193006 rows × 4 columns</p>\n",
       "</div>"
      ],
      "text/plain": [
       "           시도   시군   읍면동 주사육업종\n",
       "0        충청남도  보령시   남곡동    한우\n",
       "1        충청남도  공주시   장기면    한우\n",
       "2        충청남도  홍성군   홍북면    한우\n",
       "3       대구광역시  달성군   현풍면    한우\n",
       "4       대구광역시  달성군   현풍면    젖소\n",
       "...       ...  ...   ...   ...\n",
       "193001    강원도  철원군   동송읍    한우\n",
       "193002   충청북도  옥천군   동이면    한우\n",
       "193003   충청북도  옥천군   이원면    한우\n",
       "193004    강원도  강릉시  주문진읍    한우\n",
       "193005   경상북도  군위군   효령면    한우\n",
       "\n",
       "[193006 rows x 4 columns]"
      ]
     },
     "execution_count": 110,
     "metadata": {},
     "output_type": "execute_result"
    }
   ],
   "source": [
    "#해당 컬럼에 있는 속성값에서 문자열 삭제할 때는 str함수도 같이 써줘야함 \n",
    "df['읍면동']=df['읍면동'].str.replace(\"(\", \"\")\n",
    "df['읍면동']=df['읍면동'].str.replace(\")\", \"\")\n",
    "df"
   ]
  },
  {
   "cell_type": "code",
   "execution_count": 111,
   "id": "a5b42e15-670d-45db-a02e-a8d8a0df9a75",
   "metadata": {},
   "outputs": [
    {
     "data": {
      "text/html": [
       "<div>\n",
       "<style scoped>\n",
       "    .dataframe tbody tr th:only-of-type {\n",
       "        vertical-align: middle;\n",
       "    }\n",
       "\n",
       "    .dataframe tbody tr th {\n",
       "        vertical-align: top;\n",
       "    }\n",
       "\n",
       "    .dataframe thead th {\n",
       "        text-align: right;\n",
       "    }\n",
       "</style>\n",
       "<table border=\"1\" class=\"dataframe\">\n",
       "  <thead>\n",
       "    <tr style=\"text-align: right;\">\n",
       "      <th></th>\n",
       "      <th>시도</th>\n",
       "      <th>시군</th>\n",
       "      <th>읍면동</th>\n",
       "      <th>주사육업종</th>\n",
       "      <th>읍면동별_축종별_농가수</th>\n",
       "    </tr>\n",
       "  </thead>\n",
       "  <tbody>\n",
       "    <tr>\n",
       "      <th>0</th>\n",
       "      <td>강원도</td>\n",
       "      <td>강릉시</td>\n",
       "      <td>강남동</td>\n",
       "      <td>산양</td>\n",
       "      <td>1</td>\n",
       "    </tr>\n",
       "    <tr>\n",
       "      <th>1</th>\n",
       "      <td>강원도</td>\n",
       "      <td>강릉시</td>\n",
       "      <td>강남동</td>\n",
       "      <td>육계</td>\n",
       "      <td>1</td>\n",
       "    </tr>\n",
       "    <tr>\n",
       "      <th>2</th>\n",
       "      <td>강원도</td>\n",
       "      <td>강릉시</td>\n",
       "      <td>강남동</td>\n",
       "      <td>한우</td>\n",
       "      <td>21</td>\n",
       "    </tr>\n",
       "    <tr>\n",
       "      <th>3</th>\n",
       "      <td>강원도</td>\n",
       "      <td>강릉시</td>\n",
       "      <td>강동면</td>\n",
       "      <td>돼지</td>\n",
       "      <td>5</td>\n",
       "    </tr>\n",
       "    <tr>\n",
       "      <th>4</th>\n",
       "      <td>강원도</td>\n",
       "      <td>강릉시</td>\n",
       "      <td>강동면</td>\n",
       "      <td>사슴</td>\n",
       "      <td>1</td>\n",
       "    </tr>\n",
       "    <tr>\n",
       "      <th>...</th>\n",
       "      <td>...</td>\n",
       "      <td>...</td>\n",
       "      <td>...</td>\n",
       "      <td>...</td>\n",
       "      <td>...</td>\n",
       "    </tr>\n",
       "    <tr>\n",
       "      <th>13774</th>\n",
       "      <td>충청북도</td>\n",
       "      <td>충주시</td>\n",
       "      <td>칠금.금릉동</td>\n",
       "      <td>젖소</td>\n",
       "      <td>1</td>\n",
       "    </tr>\n",
       "    <tr>\n",
       "      <th>13775</th>\n",
       "      <td>충청북도</td>\n",
       "      <td>충주시</td>\n",
       "      <td>칠금.금릉동</td>\n",
       "      <td>한우</td>\n",
       "      <td>2</td>\n",
       "    </tr>\n",
       "    <tr>\n",
       "      <th>13776</th>\n",
       "      <td>충청북도</td>\n",
       "      <td>충주시</td>\n",
       "      <td>풍동</td>\n",
       "      <td>한우</td>\n",
       "      <td>3</td>\n",
       "    </tr>\n",
       "    <tr>\n",
       "      <th>13777</th>\n",
       "      <td>충청북도</td>\n",
       "      <td>충주시</td>\n",
       "      <td>호암.직동</td>\n",
       "      <td>돼지</td>\n",
       "      <td>1</td>\n",
       "    </tr>\n",
       "    <tr>\n",
       "      <th>13778</th>\n",
       "      <td>충청북도</td>\n",
       "      <td>충주시</td>\n",
       "      <td>호암.직동</td>\n",
       "      <td>한우</td>\n",
       "      <td>2</td>\n",
       "    </tr>\n",
       "  </tbody>\n",
       "</table>\n",
       "<p>13779 rows × 5 columns</p>\n",
       "</div>"
      ],
      "text/plain": [
       "         시도   시군     읍면동 주사육업종  읍면동별_축종별_농가수\n",
       "0       강원도  강릉시     강남동    산양             1\n",
       "1       강원도  강릉시     강남동    육계             1\n",
       "2       강원도  강릉시     강남동    한우            21\n",
       "3       강원도  강릉시     강동면    돼지             5\n",
       "4       강원도  강릉시     강동면    사슴             1\n",
       "...     ...  ...     ...   ...           ...\n",
       "13774  충청북도  충주시  칠금.금릉동    젖소             1\n",
       "13775  충청북도  충주시  칠금.금릉동    한우             2\n",
       "13776  충청북도  충주시      풍동    한우             3\n",
       "13777  충청북도  충주시   호암.직동    돼지             1\n",
       "13778  충청북도  충주시   호암.직동    한우             2\n",
       "\n",
       "[13779 rows x 5 columns]"
      ]
     },
     "execution_count": 111,
     "metadata": {},
     "output_type": "execute_result"
    }
   ],
   "source": [
    "df['읍면동별_축종별_농가수'] = \"\"\n",
    "df = pd.DataFrame(df.groupby(['시도', '시군', '읍면동', '주사육업종']).count().reset_index())\n",
    "df\n"
   ]
  },
  {
   "cell_type": "markdown",
   "id": "cc2759f3-f65a-4661-93cb-550c2c5056df",
   "metadata": {},
   "source": [
    "## 1.2. 읍면동별 대기오염도 도출"
   ]
  },
  {
   "cell_type": "code",
   "execution_count": null,
   "id": "77e50890-8c07-4ba2-8512-1663eccb0f2f",
   "metadata": {},
   "outputs": [],
   "source": [
    "for i in np.arange(1,13):\n",
    "    df = pd.read_excel(f'./Data/종속변수/2020_대기오염/2020년 {i}월.xlsx')\n",
    "    \n",
    "    df = df[df['측정소명'].str[-1] != 1]    #끝글자 1을 포함하지 않는 행만 선택\n",
    "    df = pd.concat([df[(df['측정소명'].str[-1] == '읍')|(df['측정소명'].str[-1] == '면')|(df['측정소명'].str[-1] == '동')],\n",
    "                    df[df['측정소명'].str.contains('\\)')][df[df['측정소명'].str.contains('\\)')]['측정소명'].str[-2] == '읍'], \n",
    "                    df[df['측정소명'].str.contains('\\)')][df[df['측정소명'].str.contains('\\)')]['측정소명'].str[-2] == '면'], \n",
    "                    df[df['측정소명'].str.contains('\\)')][df[df['측정소명'].str.contains('\\)')]['측정소명'].str[-2] == '동']])    \n",
    "    #'읍','면','동'으로 끝나고 ()안에 읍면동이 있다면 안에서 읍면동으로 끝나는 행만 선텍\n",
    "    # ex. 상록구(사동)\n",
    "    # str.contains() 에 \\ 는 기호도 문자열로 인식하게 해줌\n",
    "    \n",
    "    df = df[['지역','측정소명','SO2', 'CO', 'O3', 'NO2', 'PM10','PM25']].groupby(by=['지역','측정소명']).mean().reset_index()\n",
    "    df['atmosphere'] = df_5.sum(axis=1)\n",
    "    # df.to_excel(f'./Data/종속변수/대기오염_{i}월.xlsx', index=False, encoding='utf-8-sig')"
   ]
  },
  {
   "cell_type": "markdown",
   "id": "27c63f03-c357-4685-9997-5de1ae4de316",
   "metadata": {
    "id": "27c63f03-c357-4685-9997-5de1ae4de316"
   },
   "source": [
    "# 2. EDA\n",
    "- 농가수 대비 두수\n",
    "- 농가수 대비 처리시설 개수\n",
    "- 읍면동별_농가수 는 EDA용\n",
    "- 면적대비 파생변수를 만들어 모델링용 변수 생성"
   ]
  },
  {
   "cell_type": "code",
   "execution_count": null,
   "id": "d900aa55-8ed1-41d4-8810-bf453a00e08c",
   "metadata": {
    "id": "d900aa55-8ed1-41d4-8810-bf453a00e08c",
    "outputId": "1a384c0d-7713-4f60-c05d-2ecec92e35b5"
   },
   "outputs": [
    {
     "name": "stderr",
     "output_type": "stream",
     "text": [
      "C:\\Users\\Juns\\AppData\\Local\\Temp/ipykernel_21480/1625021434.py:23: MatplotlibDeprecationWarning: normalize=None does not normalize if the sum is less than 1 but this behavior is deprecated since 3.3 until two minor releases later. After the deprecation period the default value will be normalize=True. To prevent normalization pass normalize=False \n",
      "  plt.pie(pd.DataFrame(df.groupby(by='시도').sum()['읍면동별_농가수']/df.groupby(by='시도').sum()['읍면동_면적']).reset_index().sort_values(by=0, ascending=False)[0],\n"
     ]
    },
    {
     "data": {
      "image/png": "[encoded data removed]",
      "text/plain": [
       "<Figure size 1440x1440 with 5 Axes>"
      ]
     },
     "metadata": {},
     "output_type": "display_data"
    }
   ],
   "source": [
    "plt.figure(figsize=[20,20])\n",
    "plt.subplots_adjust(hspace=.3, wspace=.5)\n",
    "\n",
    "plt.subplot(321)\n",
    "plt.pie(df[['시도','시군별_대기오염도']].groupby(by='시도').mean().reset_index().sort_values(by='시군별_대기오염도', ascending=False)['시군별_대기오염도'],\n",
    "       labels=df[['시도','시군별_대기오염도']].groupby(by='시도').mean().reset_index().sort_values(by='시군별_대기오염도', ascending=False)['시도'],\n",
    "       autopct='%1.1f%%')\n",
    "plt.title('시도별 대기오염도')\n",
    "\n",
    "plt.subplot(322)\n",
    "plt.pie(df[['시도','두수_소계']].groupby(by='시도').mean().fillna(0).reset_index().sort_values(by='두수_소계', ascending=False)['두수_소계'],\n",
    "       labels=df[['시도','두수_소계']].groupby(by='시도').mean().reset_index().sort_values(by='두수_소계', ascending=False)['시도'],\n",
    "       autopct='%1.1f%%')\n",
    "plt.title('두수_소계')\n",
    "\n",
    "plt.subplot(323)\n",
    "plt.pie(df[['시도','읍면동별_농가수']].groupby(by='시도').mean().fillna(0).reset_index().sort_values(by='읍면동별_농가수', ascending=False)['읍면동별_농가수'],\n",
    "       labels=df[['시도','읍면동별_농가수']].groupby(by='시도').mean().reset_index().sort_values(by='읍면동별_농가수', ascending=False)['시도'],\n",
    "       autopct='%1.1f%%')\n",
    "plt.title('읍면동별_농가수')\n",
    "\n",
    "plt.subplot(325)\n",
    "plt.pie(pd.DataFrame(df.groupby(by='시도').sum()['읍면동별_농가수']/df.groupby(by='시도').sum()['읍면동_면적']).reset_index().sort_values(by=0, ascending=False)[0],\n",
    "       labels=pd.DataFrame(df.groupby(by='시도').sum()['읍면동별_농가수']/df.groupby(by='시도').sum()['읍면동_면적']).reset_index().sort_values(by=0, ascending=False)['시도'],\n",
    "       autopct='%1.1f%%')\n",
    "plt.title('읍면동 면적 대비 농가수')\n",
    "\n",
    "plt.subplot(324)\n",
    "plt.pie(pd.DataFrame(df.groupby(by='시도').sum()['두수_소계']/df.groupby(by='시도').sum()['읍면동별_농가수']).reset_index().fillna(0).sort_values(by=0, ascending=False)[0],\n",
    "       labels=pd.DataFrame(df.groupby(by='시도').sum()['두수_소계']/df.groupby(by='시도').sum()['읍면동별_농가수']).reset_index().sort_values(by=0, ascending=False)['시도'],\n",
    "       autopct='%1.1f%%')\n",
    "plt.title('시도별 농가수 대비 두수 비율')\n",
    "\n",
    "plt.show()"
   ]
  },
  {
   "cell_type": "code",
   "execution_count": null,
   "id": "4fc2e5e8-4e8a-4cdb-a446-3040e7fde1c3",
   "metadata": {
    "id": "4fc2e5e8-4e8a-4cdb-a446-3040e7fde1c3",
    "outputId": "62f0c4de-4699-43b5-9b2f-b60d5747932f"
   },
   "outputs": [
    {
     "data": {
      "image/png": "[encoded data removed]",
      "text/plain": [
       "<Figure size 1440x720 with 2 Axes>"
      ]
     },
     "metadata": {},
     "output_type": "display_data"
    }
   ],
   "source": [
    "plt.figure(figsize=[20,10])\n",
    "\n",
    "plt.subplot(121)\n",
    "sns.barplot(x='시도', y='시군별_대기오염도', data=df, ci=False)\n",
    "plt.title('시도별 대기오염도')\n",
    "plt.ylabel('대기오염도')\n",
    "plt.xticks(rotation=45)\n",
    "\n",
    "plt.subplot(122)\n",
    "sns.barplot(x=pd.DataFrame(df.groupby(by='시도').sum()['읍면동별_농가수']/df.groupby(by='시도').sum()['읍면동_총거주자수']).reset_index().fillna(0).sort_values(by=0, ascending=False)['시도'],\n",
    "       y=pd.DataFrame(df.groupby(by='시도').sum()['읍면동별_농가수']/df.groupby(by='시도').sum()['읍면동_총거주자수']).reset_index().sort_values(by=0, ascending=False)[0])\n",
    "plt.title('시도별 인구수 대비 농가수')\n",
    "plt.ylabel('인구 대비 농가비율')\n",
    "plt.xticks(rotation=45)\n",
    "\n",
    "plt.show()"
   ]
  },
  {
   "cell_type": "code",
   "execution_count": 50,
   "id": "0c9a3756-a3fa-4655-a13d-4fa914a5ff15",
   "metadata": {
    "colab": {
     "base_uri": "https://localhost:8080/",
     "height": 542
    },
    "executionInfo": {
     "elapsed": 297,
     "status": "ok",
     "timestamp": 1665310346911,
     "user": {
      "displayName": "이준형",
      "userId": "12900679336039541903"
     },
     "user_tz": -540
    },
    "id": "Ra8Vd3X-eR5-",
    "outputId": "fe1168a5-714e-4440-9045-af1bbc4dcbf1"
   },
   "outputs": [
    {
     "data": {
      "application/vnd.plotly.v1+json": {
       "config": {
        "plotlyServerURL": "https://plot.ly"
       },
       "data": [
        {
         "alignmentgroup": "True",
         "hovertemplate": "시도=%{x}<br>가축수_비율=%{text}<extra></extra>",
         "legendgroup": "경상북도",
         "marker": {
          "color": "#636efa",
          "pattern": {
           "shape": ""
          }
         },
         "name": "경상북도",
         "offsetgroup": "경상북도",
         "orientation": "v",
         "showlegend": true,
         "text": [
          11.1
         ],
         "textposition": "auto",
         "type": "bar",
         "x": [
          "경상북도"
         ],
         "xaxis": "x",
         "y": [
          11.1
         ],
         "yaxis": "y"
        },
        {
         "alignmentgroup": "True",
         "hovertemplate": "시도=%{x}<br>가축수_비율=%{text}<extra></extra>",
         "legendgroup": "전라남도",
         "marker": {
          "color": "#EF553B",
          "pattern": {
           "shape": ""
          }
         },
         "name": "전라남도",
         "offsetgroup": "전라남도",
         "orientation": "v",
         "showlegend": true,
         "text": [
          19.1
         ],
         "textposition": "auto",
         "type": "bar",
         "x": [
          "전라남도"
         ],
         "xaxis": "x",
         "y": [
          19.1
         ],
         "yaxis": "y"
        },
        {
         "alignmentgroup": "True",
         "hovertemplate": "시도=%{x}<br>가축수_비율=%{text}<extra></extra>",
         "legendgroup": "충청남도",
         "marker": {
          "color": "#00cc96",
          "pattern": {
           "shape": ""
          }
         },
         "name": "충청남도",
         "offsetgroup": "충청남도",
         "orientation": "v",
         "showlegend": true,
         "text": [
          12.3
         ],
         "textposition": "auto",
         "type": "bar",
         "x": [
          "충청남도"
         ],
         "xaxis": "x",
         "y": [
          12.3
         ],
         "yaxis": "y"
        },
        {
         "alignmentgroup": "True",
         "hovertemplate": "시도=%{x}<br>가축수_비율=%{text}<extra></extra>",
         "legendgroup": "경상남도",
         "marker": {
          "color": "#ab63fa",
          "pattern": {
           "shape": ""
          }
         },
         "name": "경상남도",
         "offsetgroup": "경상남도",
         "orientation": "v",
         "showlegend": true,
         "text": [
          2.9
         ],
         "textposition": "auto",
         "type": "bar",
         "x": [
          "경상남도"
         ],
         "xaxis": "x",
         "y": [
          2.9
         ],
         "yaxis": "y"
        },
        {
         "alignmentgroup": "True",
         "hovertemplate": "시도=%{x}<br>가축수_비율=%{text}<extra></extra>",
         "legendgroup": "경기도",
         "marker": {
          "color": "#FFA15A",
          "pattern": {
           "shape": ""
          }
         },
         "name": "경기도",
         "offsetgroup": "경기도",
         "orientation": "v",
         "showlegend": true,
         "text": [
          2.4
         ],
         "textposition": "auto",
         "type": "bar",
         "x": [
          "경기도"
         ],
         "xaxis": "x",
         "y": [
          2.4
         ],
         "yaxis": "y"
        },
        {
         "alignmentgroup": "True",
         "hovertemplate": "시도=%{x}<br>가축수_비율=%{text}<extra></extra>",
         "legendgroup": "강원도",
         "marker": {
          "color": "#19d3f3",
          "pattern": {
           "shape": ""
          }
         },
         "name": "강원도",
         "offsetgroup": "강원도",
         "orientation": "v",
         "showlegend": true,
         "text": [
          4.8
         ],
         "textposition": "auto",
         "type": "bar",
         "x": [
          "강원도"
         ],
         "xaxis": "x",
         "y": [
          4.8
         ],
         "yaxis": "y"
        },
        {
         "alignmentgroup": "True",
         "hovertemplate": "시도=%{x}<br>가축수_비율=%{text}<extra></extra>",
         "legendgroup": "전라북도",
         "marker": {
          "color": "#FF6692",
          "pattern": {
           "shape": ""
          }
         },
         "name": "전라북도",
         "offsetgroup": "전라북도",
         "orientation": "v",
         "showlegend": true,
         "text": [
          20.1
         ],
         "textposition": "auto",
         "type": "bar",
         "x": [
          "전라북도"
         ],
         "xaxis": "x",
         "y": [
          20.1
         ],
         "yaxis": "y"
        },
        {
         "alignmentgroup": "True",
         "hovertemplate": "시도=%{x}<br>가축수_비율=%{text}<extra></extra>",
         "legendgroup": "충청북도",
         "marker": {
          "color": "#B6E880",
          "pattern": {
           "shape": ""
          }
         },
         "name": "충청북도",
         "offsetgroup": "충청북도",
         "orientation": "v",
         "showlegend": true,
         "text": [
          5.7
         ],
         "textposition": "auto",
         "type": "bar",
         "x": [
          "충청북도"
         ],
         "xaxis": "x",
         "y": [
          5.7
         ],
         "yaxis": "y"
        },
        {
         "alignmentgroup": "True",
         "hovertemplate": "시도=%{x}<br>가축수_비율=%{text}<extra></extra>",
         "legendgroup": "울산광역시",
         "marker": {
          "color": "#FF97FF",
          "pattern": {
           "shape": ""
          }
         },
         "name": "울산광역시",
         "offsetgroup": "울산광역시",
         "orientation": "v",
         "showlegend": true,
         "text": [
          0.3
         ],
         "textposition": "auto",
         "type": "bar",
         "x": [
          "울산광역시"
         ],
         "xaxis": "x",
         "y": [
          0.3
         ],
         "yaxis": "y"
        },
        {
         "alignmentgroup": "True",
         "hovertemplate": "시도=%{x}<br>가축수_비율=%{text}<extra></extra>",
         "legendgroup": "대구광역시",
         "marker": {
          "color": "#FECB52",
          "pattern": {
           "shape": ""
          }
         },
         "name": "대구광역시",
         "offsetgroup": "대구광역시",
         "orientation": "v",
         "showlegend": true,
         "text": [
          0.4
         ],
         "textposition": "auto",
         "type": "bar",
         "x": [
          "대구광역시"
         ],
         "xaxis": "x",
         "y": [
          0.4
         ],
         "yaxis": "y"
        },
        {
         "alignmentgroup": "True",
         "hovertemplate": "시도=%{x}<br>가축수_비율=%{text}<extra></extra>",
         "legendgroup": "인천광역시",
         "marker": {
          "color": "#636efa",
          "pattern": {
           "shape": ""
          }
         },
         "name": "인천광역시",
         "offsetgroup": "인천광역시",
         "orientation": "v",
         "showlegend": true,
         "text": [
          0.4
         ],
         "textposition": "auto",
         "type": "bar",
         "x": [
          "인천광역시"
         ],
         "xaxis": "x",
         "y": [
          0.4
         ],
         "yaxis": "y"
        },
        {
         "alignmentgroup": "True",
         "hovertemplate": "시도=%{x}<br>가축수_비율=%{text}<extra></extra>",
         "legendgroup": "제주특별자치도",
         "marker": {
          "color": "#EF553B",
          "pattern": {
           "shape": ""
          }
         },
         "name": "제주특별자치도",
         "offsetgroup": "제주특별자치도",
         "orientation": "v",
         "showlegend": true,
         "text": [
          2.6
         ],
         "textposition": "auto",
         "type": "bar",
         "x": [
          "제주특별자치도"
         ],
         "xaxis": "x",
         "y": [
          2.6
         ],
         "yaxis": "y"
        },
        {
         "alignmentgroup": "True",
         "hovertemplate": "시도=%{x}<br>가축수_비율=%{text}<extra></extra>",
         "legendgroup": "대전광역시",
         "marker": {
          "color": "#00cc96",
          "pattern": {
           "shape": ""
          }
         },
         "name": "대전광역시",
         "offsetgroup": "대전광역시",
         "orientation": "v",
         "showlegend": true,
         "text": [
          0.1
         ],
         "textposition": "auto",
         "type": "bar",
         "x": [
          "대전광역시"
         ],
         "xaxis": "x",
         "y": [
          0.1
         ],
         "yaxis": "y"
        },
        {
         "alignmentgroup": "True",
         "hovertemplate": "시도=%{x}<br>가축수_비율=%{text}<extra></extra>",
         "legendgroup": "서울특별시",
         "marker": {
          "color": "#ab63fa",
          "pattern": {
           "shape": ""
          }
         },
         "name": "서울특별시",
         "offsetgroup": "서울특별시",
         "orientation": "v",
         "showlegend": true,
         "text": [
          0.1
         ],
         "textposition": "auto",
         "type": "bar",
         "x": [
          "서울특별시"
         ],
         "xaxis": "x",
         "y": [
          0.1
         ],
         "yaxis": "y"
        },
        {
         "alignmentgroup": "True",
         "hovertemplate": "시도=%{x}<br>가축수_비율=%{text}<extra></extra>",
         "legendgroup": "부산광역시",
         "marker": {
          "color": "#FFA15A",
          "pattern": {
           "shape": ""
          }
         },
         "name": "부산광역시",
         "offsetgroup": "부산광역시",
         "orientation": "v",
         "showlegend": true,
         "text": [
          0.2
         ],
         "textposition": "auto",
         "type": "bar",
         "x": [
          "부산광역시"
         ],
         "xaxis": "x",
         "y": [
          0.2
         ],
         "yaxis": "y"
        },
        {
         "alignmentgroup": "True",
         "hovertemplate": "시도=%{x}<br>가축수_비율=%{text}<extra></extra>",
         "legendgroup": "광주광역시",
         "marker": {
          "color": "#19d3f3",
          "pattern": {
           "shape": ""
          }
         },
         "name": "광주광역시",
         "offsetgroup": "광주광역시",
         "orientation": "v",
         "showlegend": true,
         "text": [
          0
         ],
         "textposition": "auto",
         "type": "bar",
         "x": [
          "광주광역시"
         ],
         "xaxis": "x",
         "y": [
          0
         ],
         "yaxis": "y"
        }
       ],
       "layout": {
        "autosize": true,
        "barmode": "relative",
        "legend": {
         "title": {
          "text": "시도"
         },
         "tracegroupgap": 0
        },
        "template": {
         "data": {
          "bar": [
           {
            "error_x": {
             "color": "#2a3f5f"
            },
            "error_y": {
             "color": "#2a3f5f"
            },
            "marker": {
             "line": {
              "color": "#E5ECF6",
              "width": 0.5
             },
             "pattern": {
              "fillmode": "overlay",
              "size": 10,
              "solidity": 0.2
             }
            },
            "type": "bar"
           }
          ],
          "barpolar": [
           {
            "marker": {
             "line": {
              "color": "#E5ECF6",
              "width": 0.5
             },
             "pattern": {
              "fillmode": "overlay",
              "size": 10,
              "solidity": 0.2
             }
            },
            "type": "barpolar"
           }
          ],
          "carpet": [
           {
            "aaxis": {
             "endlinecolor": "#2a3f5f",
             "gridcolor": "white",
             "linecolor": "white",
             "minorgridcolor": "white",
             "startlinecolor": "#2a3f5f"
            },
            "baxis": {
             "endlinecolor": "#2a3f5f",
             "gridcolor": "white",
             "linecolor": "white",
             "minorgridcolor": "white",
             "startlinecolor": "#2a3f5f"
            },
            "type": "carpet"
           }
          ],
          "choropleth": [
           {
            "colorbar": {
             "outlinewidth": 0,
             "ticks": ""
            },
            "type": "choropleth"
           }
          ],
          "contour": [
           {
            "colorbar": {
             "outlinewidth": 0,
             "ticks": ""
            },
            "colorscale": [
             [
              0,
              "#0d0887"
             ],
             [
              0.1111111111111111,
              "#46039f"
             ],
             [
              0.2222222222222222,
              "#7201a8"
             ],
             [
              0.3333333333333333,
              "#9c179e"
             ],
             [
              0.4444444444444444,
              "#bd3786"
             ],
             [
              0.5555555555555556,
              "#d8576b"
             ],
             [
              0.6666666666666666,
              "#ed7953"
             ],
             [
              0.7777777777777778,
              "#fb9f3a"
             ],
             [
              0.8888888888888888,
              "#fdca26"
             ],
             [
              1,
              "#f0f921"
             ]
            ],
            "type": "contour"
           }
          ],
          "contourcarpet": [
           {
            "colorbar": {
             "outlinewidth": 0,
             "ticks": ""
            },
            "type": "contourcarpet"
           }
          ],
          "heatmap": [
           {
            "colorbar": {
             "outlinewidth": 0,
             "ticks": ""
            },
            "colorscale": [
             [
              0,
              "#0d0887"
             ],
             [
              0.1111111111111111,
              "#46039f"
             ],
             [
              0.2222222222222222,
              "#7201a8"
             ],
             [
              0.3333333333333333,
              "#9c179e"
             ],
             [
              0.4444444444444444,
              "#bd3786"
             ],
             [
              0.5555555555555556,
              "#d8576b"
             ],
             [
              0.6666666666666666,
              "#ed7953"
             ],
             [
              0.7777777777777778,
              "#fb9f3a"
             ],
             [
              0.8888888888888888,
              "#fdca26"
             ],
             [
              1,
              "#f0f921"
             ]
            ],
            "type": "heatmap"
           }
          ],
          "heatmapgl": [
           {
            "colorbar": {
             "outlinewidth": 0,
             "ticks": ""
            },
            "colorscale": [
             [
              0,
              "#0d0887"
             ],
             [
              0.1111111111111111,
              "#46039f"
             ],
             [
              0.2222222222222222,
              "#7201a8"
             ],
             [
              0.3333333333333333,
              "#9c179e"
             ],
             [
              0.4444444444444444,
              "#bd3786"
             ],
             [
              0.5555555555555556,
              "#d8576b"
             ],
             [
              0.6666666666666666,
              "#ed7953"
             ],
             [
              0.7777777777777778,
              "#fb9f3a"
             ],
             [
              0.8888888888888888,
              "#fdca26"
             ],
             [
              1,
              "#f0f921"
             ]
            ],
            "type": "heatmapgl"
           }
          ],
          "histogram": [
           {
            "marker": {
             "pattern": {
              "fillmode": "overlay",
              "size": 10,
              "solidity": 0.2
             }
            },
            "type": "histogram"
           }
          ],
          "histogram2d": [
           {
            "colorbar": {
             "outlinewidth": 0,
             "ticks": ""
            },
            "colorscale": [
             [
              0,
              "#0d0887"
             ],
             [
              0.1111111111111111,
              "#46039f"
             ],
             [
              0.2222222222222222,
              "#7201a8"
             ],
             [
              0.3333333333333333,
              "#9c179e"
             ],
             [
              0.4444444444444444,
              "#bd3786"
             ],
             [
              0.5555555555555556,
              "#d8576b"
             ],
             [
              0.6666666666666666,
              "#ed7953"
             ],
             [
              0.7777777777777778,
              "#fb9f3a"
             ],
             [
              0.8888888888888888,
              "#fdca26"
             ],
             [
              1,
              "#f0f921"
             ]
            ],
            "type": "histogram2d"
           }
          ],
          "histogram2dcontour": [
           {
            "colorbar": {
             "outlinewidth": 0,
             "ticks": ""
            },
            "colorscale": [
             [
              0,
              "#0d0887"
             ],
             [
              0.1111111111111111,
              "#46039f"
             ],
             [
              0.2222222222222222,
              "#7201a8"
             ],
             [
              0.3333333333333333,
              "#9c179e"
             ],
             [
              0.4444444444444444,
              "#bd3786"
             ],
             [
              0.5555555555555556,
              "#d8576b"
             ],
             [
              0.6666666666666666,
              "#ed7953"
             ],
             [
              0.7777777777777778,
              "#fb9f3a"
             ],
             [
              0.8888888888888888,
              "#fdca26"
             ],
             [
              1,
              "#f0f921"
             ]
            ],
            "type": "histogram2dcontour"
           }
          ],
          "mesh3d": [
           {
            "colorbar": {
             "outlinewidth": 0,
             "ticks": ""
            },
            "type": "mesh3d"
           }
          ],
          "parcoords": [
           {
            "line": {
             "colorbar": {
              "outlinewidth": 0,
              "ticks": ""
             }
            },
            "type": "parcoords"
           }
          ],
          "pie": [
           {
            "automargin": true,
            "type": "pie"
           }
          ],
          "scatter": [
           {
            "marker": {
             "colorbar": {
              "outlinewidth": 0,
              "ticks": ""
             }
            },
            "type": "scatter"
           }
          ],
          "scatter3d": [
           {
            "line": {
             "colorbar": {
              "outlinewidth": 0,
              "ticks": ""
             }
            },
            "marker": {
             "colorbar": {
              "outlinewidth": 0,
              "ticks": ""
             }
            },
            "type": "scatter3d"
           }
          ],
          "scattercarpet": [
           {
            "marker": {
             "colorbar": {
              "outlinewidth": 0,
              "ticks": ""
             }
            },
            "type": "scattercarpet"
           }
          ],
          "scattergeo": [
           {
            "marker": {
             "colorbar": {
              "outlinewidth": 0,
              "ticks": ""
             }
            },
            "type": "scattergeo"
           }
          ],
          "scattergl": [
           {
            "marker": {
             "colorbar": {
              "outlinewidth": 0,
              "ticks": ""
             }
            },
            "type": "scattergl"
           }
          ],
          "scattermapbox": [
           {
            "marker": {
             "colorbar": {
              "outlinewidth": 0,
              "ticks": ""
             }
            },
            "type": "scattermapbox"
           }
          ],
          "scatterpolar": [
           {
            "marker": {
             "colorbar": {
              "outlinewidth": 0,
              "ticks": ""
             }
            },
            "type": "scatterpolar"
           }
          ],
          "scatterpolargl": [
           {
            "marker": {
             "colorbar": {
              "outlinewidth": 0,
              "ticks": ""
             }
            },
            "type": "scatterpolargl"
           }
          ],
          "scatterternary": [
           {
            "marker": {
             "colorbar": {
              "outlinewidth": 0,
              "ticks": ""
             }
            },
            "type": "scatterternary"
           }
          ],
          "surface": [
           {
            "colorbar": {
             "outlinewidth": 0,
             "ticks": ""
            },
            "colorscale": [
             [
              0,
              "#0d0887"
             ],
             [
              0.1111111111111111,
              "#46039f"
             ],
             [
              0.2222222222222222,
              "#7201a8"
             ],
             [
              0.3333333333333333,
              "#9c179e"
             ],
             [
              0.4444444444444444,
              "#bd3786"
             ],
             [
              0.5555555555555556,
              "#d8576b"
             ],
             [
              0.6666666666666666,
              "#ed7953"
             ],
             [
              0.7777777777777778,
              "#fb9f3a"
             ],
             [
              0.8888888888888888,
              "#fdca26"
             ],
             [
              1,
              "#f0f921"
             ]
            ],
            "type": "surface"
           }
          ],
          "table": [
           {
            "cells": {
             "fill": {
              "color": "#EBF0F8"
             },
             "line": {
              "color": "white"
             }
            },
            "header": {
             "fill": {
              "color": "#C8D4E3"
             },
             "line": {
              "color": "white"
             }
            },
            "type": "table"
           }
          ]
         },
         "layout": {
          "annotationdefaults": {
           "arrowcolor": "#2a3f5f",
           "arrowhead": 0,
           "arrowwidth": 1
          },
          "autotypenumbers": "strict",
          "coloraxis": {
           "colorbar": {
            "outlinewidth": 0,
            "ticks": ""
           }
          },
          "colorscale": {
           "diverging": [
            [
             0,
             "#8e0152"
            ],
            [
             0.1,
             "#c51b7d"
            ],
            [
             0.2,
             "#de77ae"
            ],
            [
             0.3,
             "#f1b6da"
            ],
            [
             0.4,
             "#fde0ef"
            ],
            [
             0.5,
             "#f7f7f7"
            ],
            [
             0.6,
             "#e6f5d0"
            ],
            [
             0.7,
             "#b8e186"
            ],
            [
             0.8,
             "#7fbc41"
            ],
            [
             0.9,
             "#4d9221"
            ],
            [
             1,
             "#276419"
            ]
           ],
           "sequential": [
            [
             0,
             "#0d0887"
            ],
            [
             0.1111111111111111,
             "#46039f"
            ],
            [
             0.2222222222222222,
             "#7201a8"
            ],
            [
             0.3333333333333333,
             "#9c179e"
            ],
            [
             0.4444444444444444,
             "#bd3786"
            ],
            [
             0.5555555555555556,
             "#d8576b"
            ],
            [
             0.6666666666666666,
             "#ed7953"
            ],
            [
             0.7777777777777778,
             "#fb9f3a"
            ],
            [
             0.8888888888888888,
             "#fdca26"
            ],
            [
             1,
             "#f0f921"
            ]
           ],
           "sequentialminus": [
            [
             0,
             "#0d0887"
            ],
            [
             0.1111111111111111,
             "#46039f"
            ],
            [
             0.2222222222222222,
             "#7201a8"
            ],
            [
             0.3333333333333333,
             "#9c179e"
            ],
            [
             0.4444444444444444,
             "#bd3786"
            ],
            [
             0.5555555555555556,
             "#d8576b"
            ],
            [
             0.6666666666666666,
             "#ed7953"
            ],
            [
             0.7777777777777778,
             "#fb9f3a"
            ],
            [
             0.8888888888888888,
             "#fdca26"
            ],
            [
             1,
             "#f0f921"
            ]
           ]
          },
          "colorway": [
           "#636efa",
           "#EF553B",
           "#00cc96",
           "#ab63fa",
           "#FFA15A",
           "#19d3f3",
           "#FF6692",
           "#B6E880",
           "#FF97FF",
           "#FECB52"
          ],
          "font": {
           "color": "#2a3f5f"
          },
          "geo": {
           "bgcolor": "white",
           "lakecolor": "white",
           "landcolor": "#E5ECF6",
           "showlakes": true,
           "showland": true,
           "subunitcolor": "white"
          },
          "hoverlabel": {
           "align": "left"
          },
          "hovermode": "closest",
          "mapbox": {
           "style": "light"
          },
          "paper_bgcolor": "white",
          "plot_bgcolor": "#E5ECF6",
          "polar": {
           "angularaxis": {
            "gridcolor": "white",
            "linecolor": "white",
            "ticks": ""
           },
           "bgcolor": "#E5ECF6",
           "radialaxis": {
            "gridcolor": "white",
            "linecolor": "white",
            "ticks": ""
           }
          },
          "scene": {
           "xaxis": {
            "backgroundcolor": "#E5ECF6",
            "gridcolor": "white",
            "gridwidth": 2,
            "linecolor": "white",
            "showbackground": true,
            "ticks": "",
            "zerolinecolor": "white"
           },
           "yaxis": {
            "backgroundcolor": "#E5ECF6",
            "gridcolor": "white",
            "gridwidth": 2,
            "linecolor": "white",
            "showbackground": true,
            "ticks": "",
            "zerolinecolor": "white"
           },
           "zaxis": {
            "backgroundcolor": "#E5ECF6",
            "gridcolor": "white",
            "gridwidth": 2,
            "linecolor": "white",
            "showbackground": true,
            "ticks": "",
            "zerolinecolor": "white"
           }
          },
          "shapedefaults": {
           "line": {
            "color": "#2a3f5f"
           }
          },
          "ternary": {
           "aaxis": {
            "gridcolor": "white",
            "linecolor": "white",
            "ticks": ""
           },
           "baxis": {
            "gridcolor": "white",
            "linecolor": "white",
            "ticks": ""
           },
           "bgcolor": "#E5ECF6",
           "caxis": {
            "gridcolor": "white",
            "linecolor": "white",
            "ticks": ""
           }
          },
          "title": {
           "x": 0.05
          },
          "xaxis": {
           "automargin": true,
           "gridcolor": "white",
           "linecolor": "white",
           "ticks": "",
           "title": {
            "standoff": 15
           },
           "zerolinecolor": "white",
           "zerolinewidth": 2
          },
          "yaxis": {
           "automargin": true,
           "gridcolor": "white",
           "linecolor": "white",
           "ticks": "",
           "title": {
            "standoff": 15
           },
           "zerolinecolor": "white",
           "zerolinewidth": 2
          }
         }
        },
        "title": {
         "text": "시도별 인구수 대비 가축수"
        },
        "xaxis": {
         "anchor": "y",
         "autorange": true,
         "categoryarray": [
          "경상북도",
          "전라남도",
          "충청남도",
          "경상남도",
          "경기도",
          "강원도",
          "전라북도",
          "충청북도",
          "울산광역시",
          "대구광역시",
          "인천광역시",
          "제주특별자치도",
          "대전광역시",
          "서울특별시",
          "부산광역시",
          "광주광역시"
         ],
         "categoryorder": "array",
         "domain": [
          0,
          1
         ],
         "range": [
          -0.5,
          15.5
         ],
         "title": {
          "text": "시도"
         },
         "type": "category"
        },
        "yaxis": {
         "anchor": "x",
         "autorange": true,
         "domain": [
          0,
          1
         ],
         "range": [
          0,
          21.157894736842106
         ],
         "title": {
          "text": "가축수_비율"
         },
         "type": "linear"
        }
       }
      },
      "image/png": "[encoded data removed]",
      "text/html": [
       "<div>                            <div id=\"dade0651-1c9f-4657-83d9-33743d6e2491\" class=\"plotly-graph-div\" style=\"height:525px; width:100%;\"></div>            <script type=\"text/javascript\">                require([\"plotly\"], function(Plotly) {                    window.PLOTLYENV=window.PLOTLYENV || {};                                    if (document.getElementById(\"dade0651-1c9f-4657-83d9-33743d6e2491\")) {                    Plotly.newPlot(                        \"dade0651-1c9f-4657-83d9-33743d6e2491\",                        [{\"alignmentgroup\":\"True\",\"hovertemplate\":\"\\uc2dc\\ub3c4=%{x}<br>\\uac00\\ucd95\\uc218_\\ube44\\uc728=%{text}<extra></extra>\",\"legendgroup\":\"\\uacbd\\uc0c1\\ubd81\\ub3c4\",\"marker\":{\"color\":\"#636efa\",\"pattern\":{\"shape\":\"\"}},\"name\":\"\\uacbd\\uc0c1\\ubd81\\ub3c4\",\"offsetgroup\":\"\\uacbd\\uc0c1\\ubd81\\ub3c4\",\"orientation\":\"v\",\"showlegend\":true,\"text\":[11.1],\"textposition\":\"auto\",\"x\":[\"\\uacbd\\uc0c1\\ubd81\\ub3c4\"],\"xaxis\":\"x\",\"y\":[11.1],\"yaxis\":\"y\",\"type\":\"bar\"},{\"alignmentgroup\":\"True\",\"hovertemplate\":\"\\uc2dc\\ub3c4=%{x}<br>\\uac00\\ucd95\\uc218_\\ube44\\uc728=%{text}<extra></extra>\",\"legendgroup\":\"\\uc804\\ub77c\\ub0a8\\ub3c4\",\"marker\":{\"color\":\"#EF553B\",\"pattern\":{\"shape\":\"\"}},\"name\":\"\\uc804\\ub77c\\ub0a8\\ub3c4\",\"offsetgroup\":\"\\uc804\\ub77c\\ub0a8\\ub3c4\",\"orientation\":\"v\",\"showlegend\":true,\"text\":[19.1],\"textposition\":\"auto\",\"x\":[\"\\uc804\\ub77c\\ub0a8\\ub3c4\"],\"xaxis\":\"x\",\"y\":[19.1],\"yaxis\":\"y\",\"type\":\"bar\"},{\"alignmentgroup\":\"True\",\"hovertemplate\":\"\\uc2dc\\ub3c4=%{x}<br>\\uac00\\ucd95\\uc218_\\ube44\\uc728=%{text}<extra></extra>\",\"legendgroup\":\"\\ucda9\\uccad\\ub0a8\\ub3c4\",\"marker\":{\"color\":\"#00cc96\",\"pattern\":{\"shape\":\"\"}},\"name\":\"\\ucda9\\uccad\\ub0a8\\ub3c4\",\"offsetgroup\":\"\\ucda9\\uccad\\ub0a8\\ub3c4\",\"orientation\":\"v\",\"showlegend\":true,\"text\":[12.3],\"textposition\":\"auto\",\"x\":[\"\\ucda9\\uccad\\ub0a8\\ub3c4\"],\"xaxis\":\"x\",\"y\":[12.3],\"yaxis\":\"y\",\"type\":\"bar\"},{\"alignmentgroup\":\"True\",\"hovertemplate\":\"\\uc2dc\\ub3c4=%{x}<br>\\uac00\\ucd95\\uc218_\\ube44\\uc728=%{text}<extra></extra>\",\"legendgroup\":\"\\uacbd\\uc0c1\\ub0a8\\ub3c4\",\"marker\":{\"color\":\"#ab63fa\",\"pattern\":{\"shape\":\"\"}},\"name\":\"\\uacbd\\uc0c1\\ub0a8\\ub3c4\",\"offsetgroup\":\"\\uacbd\\uc0c1\\ub0a8\\ub3c4\",\"orientation\":\"v\",\"showlegend\":true,\"text\":[2.9],\"textposition\":\"auto\",\"x\":[\"\\uacbd\\uc0c1\\ub0a8\\ub3c4\"],\"xaxis\":\"x\",\"y\":[2.9],\"yaxis\":\"y\",\"type\":\"bar\"},{\"alignmentgroup\":\"True\",\"hovertemplate\":\"\\uc2dc\\ub3c4=%{x}<br>\\uac00\\ucd95\\uc218_\\ube44\\uc728=%{text}<extra></extra>\",\"legendgroup\":\"\\uacbd\\uae30\\ub3c4\",\"marker\":{\"color\":\"#FFA15A\",\"pattern\":{\"shape\":\"\"}},\"name\":\"\\uacbd\\uae30\\ub3c4\",\"offsetgroup\":\"\\uacbd\\uae30\\ub3c4\",\"orientation\":\"v\",\"showlegend\":true,\"text\":[2.4],\"textposition\":\"auto\",\"x\":[\"\\uacbd\\uae30\\ub3c4\"],\"xaxis\":\"x\",\"y\":[2.4],\"yaxis\":\"y\",\"type\":\"bar\"},{\"alignmentgroup\":\"True\",\"hovertemplate\":\"\\uc2dc\\ub3c4=%{x}<br>\\uac00\\ucd95\\uc218_\\ube44\\uc728=%{text}<extra></extra>\",\"legendgroup\":\"\\uac15\\uc6d0\\ub3c4\",\"marker\":{\"color\":\"#19d3f3\",\"pattern\":{\"shape\":\"\"}},\"name\":\"\\uac15\\uc6d0\\ub3c4\",\"offsetgroup\":\"\\uac15\\uc6d0\\ub3c4\",\"orientation\":\"v\",\"showlegend\":true,\"text\":[4.8],\"textposition\":\"auto\",\"x\":[\"\\uac15\\uc6d0\\ub3c4\"],\"xaxis\":\"x\",\"y\":[4.8],\"yaxis\":\"y\",\"type\":\"bar\"},{\"alignmentgroup\":\"True\",\"hovertemplate\":\"\\uc2dc\\ub3c4=%{x}<br>\\uac00\\ucd95\\uc218_\\ube44\\uc728=%{text}<extra></extra>\",\"legendgroup\":\"\\uc804\\ub77c\\ubd81\\ub3c4\",\"marker\":{\"color\":\"#FF6692\",\"pattern\":{\"shape\":\"\"}},\"name\":\"\\uc804\\ub77c\\ubd81\\ub3c4\",\"offsetgroup\":\"\\uc804\\ub77c\\ubd81\\ub3c4\",\"orientation\":\"v\",\"showlegend\":true,\"text\":[20.1],\"textposition\":\"auto\",\"x\":[\"\\uc804\\ub77c\\ubd81\\ub3c4\"],\"xaxis\":\"x\",\"y\":[20.1],\"yaxis\":\"y\",\"type\":\"bar\"},{\"alignmentgroup\":\"True\",\"hovertemplate\":\"\\uc2dc\\ub3c4=%{x}<br>\\uac00\\ucd95\\uc218_\\ube44\\uc728=%{text}<extra></extra>\",\"legendgroup\":\"\\ucda9\\uccad\\ubd81\\ub3c4\",\"marker\":{\"color\":\"#B6E880\",\"pattern\":{\"shape\":\"\"}},\"name\":\"\\ucda9\\uccad\\ubd81\\ub3c4\",\"offsetgroup\":\"\\ucda9\\uccad\\ubd81\\ub3c4\",\"orientation\":\"v\",\"showlegend\":true,\"text\":[5.7],\"textposition\":\"auto\",\"x\":[\"\\ucda9\\uccad\\ubd81\\ub3c4\"],\"xaxis\":\"x\",\"y\":[5.7],\"yaxis\":\"y\",\"type\":\"bar\"},{\"alignmentgroup\":\"True\",\"hovertemplate\":\"\\uc2dc\\ub3c4=%{x}<br>\\uac00\\ucd95\\uc218_\\ube44\\uc728=%{text}<extra></extra>\",\"legendgroup\":\"\\uc6b8\\uc0b0\\uad11\\uc5ed\\uc2dc\",\"marker\":{\"color\":\"#FF97FF\",\"pattern\":{\"shape\":\"\"}},\"name\":\"\\uc6b8\\uc0b0\\uad11\\uc5ed\\uc2dc\",\"offsetgroup\":\"\\uc6b8\\uc0b0\\uad11\\uc5ed\\uc2dc\",\"orientation\":\"v\",\"showlegend\":true,\"text\":[0.3],\"textposition\":\"auto\",\"x\":[\"\\uc6b8\\uc0b0\\uad11\\uc5ed\\uc2dc\"],\"xaxis\":\"x\",\"y\":[0.3],\"yaxis\":\"y\",\"type\":\"bar\"},{\"alignmentgroup\":\"True\",\"hovertemplate\":\"\\uc2dc\\ub3c4=%{x}<br>\\uac00\\ucd95\\uc218_\\ube44\\uc728=%{text}<extra></extra>\",\"legendgroup\":\"\\ub300\\uad6c\\uad11\\uc5ed\\uc2dc\",\"marker\":{\"color\":\"#FECB52\",\"pattern\":{\"shape\":\"\"}},\"name\":\"\\ub300\\uad6c\\uad11\\uc5ed\\uc2dc\",\"offsetgroup\":\"\\ub300\\uad6c\\uad11\\uc5ed\\uc2dc\",\"orientation\":\"v\",\"showlegend\":true,\"text\":[0.4],\"textposition\":\"auto\",\"x\":[\"\\ub300\\uad6c\\uad11\\uc5ed\\uc2dc\"],\"xaxis\":\"x\",\"y\":[0.4],\"yaxis\":\"y\",\"type\":\"bar\"},{\"alignmentgroup\":\"True\",\"hovertemplate\":\"\\uc2dc\\ub3c4=%{x}<br>\\uac00\\ucd95\\uc218_\\ube44\\uc728=%{text}<extra></extra>\",\"legendgroup\":\"\\uc778\\ucc9c\\uad11\\uc5ed\\uc2dc\",\"marker\":{\"color\":\"#636efa\",\"pattern\":{\"shape\":\"\"}},\"name\":\"\\uc778\\ucc9c\\uad11\\uc5ed\\uc2dc\",\"offsetgroup\":\"\\uc778\\ucc9c\\uad11\\uc5ed\\uc2dc\",\"orientation\":\"v\",\"showlegend\":true,\"text\":[0.4],\"textposition\":\"auto\",\"x\":[\"\\uc778\\ucc9c\\uad11\\uc5ed\\uc2dc\"],\"xaxis\":\"x\",\"y\":[0.4],\"yaxis\":\"y\",\"type\":\"bar\"},{\"alignmentgroup\":\"True\",\"hovertemplate\":\"\\uc2dc\\ub3c4=%{x}<br>\\uac00\\ucd95\\uc218_\\ube44\\uc728=%{text}<extra></extra>\",\"legendgroup\":\"\\uc81c\\uc8fc\\ud2b9\\ubcc4\\uc790\\uce58\\ub3c4\",\"marker\":{\"color\":\"#EF553B\",\"pattern\":{\"shape\":\"\"}},\"name\":\"\\uc81c\\uc8fc\\ud2b9\\ubcc4\\uc790\\uce58\\ub3c4\",\"offsetgroup\":\"\\uc81c\\uc8fc\\ud2b9\\ubcc4\\uc790\\uce58\\ub3c4\",\"orientation\":\"v\",\"showlegend\":true,\"text\":[2.6],\"textposition\":\"auto\",\"x\":[\"\\uc81c\\uc8fc\\ud2b9\\ubcc4\\uc790\\uce58\\ub3c4\"],\"xaxis\":\"x\",\"y\":[2.6],\"yaxis\":\"y\",\"type\":\"bar\"},{\"alignmentgroup\":\"True\",\"hovertemplate\":\"\\uc2dc\\ub3c4=%{x}<br>\\uac00\\ucd95\\uc218_\\ube44\\uc728=%{text}<extra></extra>\",\"legendgroup\":\"\\ub300\\uc804\\uad11\\uc5ed\\uc2dc\",\"marker\":{\"color\":\"#00cc96\",\"pattern\":{\"shape\":\"\"}},\"name\":\"\\ub300\\uc804\\uad11\\uc5ed\\uc2dc\",\"offsetgroup\":\"\\ub300\\uc804\\uad11\\uc5ed\\uc2dc\",\"orientation\":\"v\",\"showlegend\":true,\"text\":[0.1],\"textposition\":\"auto\",\"x\":[\"\\ub300\\uc804\\uad11\\uc5ed\\uc2dc\"],\"xaxis\":\"x\",\"y\":[0.1],\"yaxis\":\"y\",\"type\":\"bar\"},{\"alignmentgroup\":\"True\",\"hovertemplate\":\"\\uc2dc\\ub3c4=%{x}<br>\\uac00\\ucd95\\uc218_\\ube44\\uc728=%{text}<extra></extra>\",\"legendgroup\":\"\\uc11c\\uc6b8\\ud2b9\\ubcc4\\uc2dc\",\"marker\":{\"color\":\"#ab63fa\",\"pattern\":{\"shape\":\"\"}},\"name\":\"\\uc11c\\uc6b8\\ud2b9\\ubcc4\\uc2dc\",\"offsetgroup\":\"\\uc11c\\uc6b8\\ud2b9\\ubcc4\\uc2dc\",\"orientation\":\"v\",\"showlegend\":true,\"text\":[0.1],\"textposition\":\"auto\",\"x\":[\"\\uc11c\\uc6b8\\ud2b9\\ubcc4\\uc2dc\"],\"xaxis\":\"x\",\"y\":[0.1],\"yaxis\":\"y\",\"type\":\"bar\"},{\"alignmentgroup\":\"True\",\"hovertemplate\":\"\\uc2dc\\ub3c4=%{x}<br>\\uac00\\ucd95\\uc218_\\ube44\\uc728=%{text}<extra></extra>\",\"legendgroup\":\"\\ubd80\\uc0b0\\uad11\\uc5ed\\uc2dc\",\"marker\":{\"color\":\"#FFA15A\",\"pattern\":{\"shape\":\"\"}},\"name\":\"\\ubd80\\uc0b0\\uad11\\uc5ed\\uc2dc\",\"offsetgroup\":\"\\ubd80\\uc0b0\\uad11\\uc5ed\\uc2dc\",\"orientation\":\"v\",\"showlegend\":true,\"text\":[0.2],\"textposition\":\"auto\",\"x\":[\"\\ubd80\\uc0b0\\uad11\\uc5ed\\uc2dc\"],\"xaxis\":\"x\",\"y\":[0.2],\"yaxis\":\"y\",\"type\":\"bar\"},{\"alignmentgroup\":\"True\",\"hovertemplate\":\"\\uc2dc\\ub3c4=%{x}<br>\\uac00\\ucd95\\uc218_\\ube44\\uc728=%{text}<extra></extra>\",\"legendgroup\":\"\\uad11\\uc8fc\\uad11\\uc5ed\\uc2dc\",\"marker\":{\"color\":\"#19d3f3\",\"pattern\":{\"shape\":\"\"}},\"name\":\"\\uad11\\uc8fc\\uad11\\uc5ed\\uc2dc\",\"offsetgroup\":\"\\uad11\\uc8fc\\uad11\\uc5ed\\uc2dc\",\"orientation\":\"v\",\"showlegend\":true,\"text\":[0.0],\"textposition\":\"auto\",\"x\":[\"\\uad11\\uc8fc\\uad11\\uc5ed\\uc2dc\"],\"xaxis\":\"x\",\"y\":[0.0],\"yaxis\":\"y\",\"type\":\"bar\"}],                        {\"template\":{\"data\":{\"bar\":[{\"error_x\":{\"color\":\"#2a3f5f\"},\"error_y\":{\"color\":\"#2a3f5f\"},\"marker\":{\"line\":{\"color\":\"#E5ECF6\",\"width\":0.5},\"pattern\":{\"fillmode\":\"overlay\",\"size\":10,\"solidity\":0.2}},\"type\":\"bar\"}],\"barpolar\":[{\"marker\":{\"line\":{\"color\":\"#E5ECF6\",\"width\":0.5},\"pattern\":{\"fillmode\":\"overlay\",\"size\":10,\"solidity\":0.2}},\"type\":\"barpolar\"}],\"carpet\":[{\"aaxis\":{\"endlinecolor\":\"#2a3f5f\",\"gridcolor\":\"white\",\"linecolor\":\"white\",\"minorgridcolor\":\"white\",\"startlinecolor\":\"#2a3f5f\"},\"baxis\":{\"endlinecolor\":\"#2a3f5f\",\"gridcolor\":\"white\",\"linecolor\":\"white\",\"minorgridcolor\":\"white\",\"startlinecolor\":\"#2a3f5f\"},\"type\":\"carpet\"}],\"choropleth\":[{\"colorbar\":{\"outlinewidth\":0,\"ticks\":\"\"},\"type\":\"choropleth\"}],\"contour\":[{\"colorbar\":{\"outlinewidth\":0,\"ticks\":\"\"},\"colorscale\":[[0.0,\"#0d0887\"],[0.1111111111111111,\"#46039f\"],[0.2222222222222222,\"#7201a8\"],[0.3333333333333333,\"#9c179e\"],[0.4444444444444444,\"#bd3786\"],[0.5555555555555556,\"#d8576b\"],[0.6666666666666666,\"#ed7953\"],[0.7777777777777778,\"#fb9f3a\"],[0.8888888888888888,\"#fdca26\"],[1.0,\"#f0f921\"]],\"type\":\"contour\"}],\"contourcarpet\":[{\"colorbar\":{\"outlinewidth\":0,\"ticks\":\"\"},\"type\":\"contourcarpet\"}],\"heatmap\":[{\"colorbar\":{\"outlinewidth\":0,\"ticks\":\"\"},\"colorscale\":[[0.0,\"#0d0887\"],[0.1111111111111111,\"#46039f\"],[0.2222222222222222,\"#7201a8\"],[0.3333333333333333,\"#9c179e\"],[0.4444444444444444,\"#bd3786\"],[0.5555555555555556,\"#d8576b\"],[0.6666666666666666,\"#ed7953\"],[0.7777777777777778,\"#fb9f3a\"],[0.8888888888888888,\"#fdca26\"],[1.0,\"#f0f921\"]],\"type\":\"heatmap\"}],\"heatmapgl\":[{\"colorbar\":{\"outlinewidth\":0,\"ticks\":\"\"},\"colorscale\":[[0.0,\"#0d0887\"],[0.1111111111111111,\"#46039f\"],[0.2222222222222222,\"#7201a8\"],[0.3333333333333333,\"#9c179e\"],[0.4444444444444444,\"#bd3786\"],[0.5555555555555556,\"#d8576b\"],[0.6666666666666666,\"#ed7953\"],[0.7777777777777778,\"#fb9f3a\"],[0.8888888888888888,\"#fdca26\"],[1.0,\"#f0f921\"]],\"type\":\"heatmapgl\"}],\"histogram\":[{\"marker\":{\"pattern\":{\"fillmode\":\"overlay\",\"size\":10,\"solidity\":0.2}},\"type\":\"histogram\"}],\"histogram2d\":[{\"colorbar\":{\"outlinewidth\":0,\"ticks\":\"\"},\"colorscale\":[[0.0,\"#0d0887\"],[0.1111111111111111,\"#46039f\"],[0.2222222222222222,\"#7201a8\"],[0.3333333333333333,\"#9c179e\"],[0.4444444444444444,\"#bd3786\"],[0.5555555555555556,\"#d8576b\"],[0.6666666666666666,\"#ed7953\"],[0.7777777777777778,\"#fb9f3a\"],[0.8888888888888888,\"#fdca26\"],[1.0,\"#f0f921\"]],\"type\":\"histogram2d\"}],\"histogram2dcontour\":[{\"colorbar\":{\"outlinewidth\":0,\"ticks\":\"\"},\"colorscale\":[[0.0,\"#0d0887\"],[0.1111111111111111,\"#46039f\"],[0.2222222222222222,\"#7201a8\"],[0.3333333333333333,\"#9c179e\"],[0.4444444444444444,\"#bd3786\"],[0.5555555555555556,\"#d8576b\"],[0.6666666666666666,\"#ed7953\"],[0.7777777777777778,\"#fb9f3a\"],[0.8888888888888888,\"#fdca26\"],[1.0,\"#f0f921\"]],\"type\":\"histogram2dcontour\"}],\"mesh3d\":[{\"colorbar\":{\"outlinewidth\":0,\"ticks\":\"\"},\"type\":\"mesh3d\"}],\"parcoords\":[{\"line\":{\"colorbar\":{\"outlinewidth\":0,\"ticks\":\"\"}},\"type\":\"parcoords\"}],\"pie\":[{\"automargin\":true,\"type\":\"pie\"}],\"scatter\":[{\"marker\":{\"colorbar\":{\"outlinewidth\":0,\"ticks\":\"\"}},\"type\":\"scatter\"}],\"scatter3d\":[{\"line\":{\"colorbar\":{\"outlinewidth\":0,\"ticks\":\"\"}},\"marker\":{\"colorbar\":{\"outlinewidth\":0,\"ticks\":\"\"}},\"type\":\"scatter3d\"}],\"scattercarpet\":[{\"marker\":{\"colorbar\":{\"outlinewidth\":0,\"ticks\":\"\"}},\"type\":\"scattercarpet\"}],\"scattergeo\":[{\"marker\":{\"colorbar\":{\"outlinewidth\":0,\"ticks\":\"\"}},\"type\":\"scattergeo\"}],\"scattergl\":[{\"marker\":{\"colorbar\":{\"outlinewidth\":0,\"ticks\":\"\"}},\"type\":\"scattergl\"}],\"scattermapbox\":[{\"marker\":{\"colorbar\":{\"outlinewidth\":0,\"ticks\":\"\"}},\"type\":\"scattermapbox\"}],\"scatterpolar\":[{\"marker\":{\"colorbar\":{\"outlinewidth\":0,\"ticks\":\"\"}},\"type\":\"scatterpolar\"}],\"scatterpolargl\":[{\"marker\":{\"colorbar\":{\"outlinewidth\":0,\"ticks\":\"\"}},\"type\":\"scatterpolargl\"}],\"scatterternary\":[{\"marker\":{\"colorbar\":{\"outlinewidth\":0,\"ticks\":\"\"}},\"type\":\"scatterternary\"}],\"surface\":[{\"colorbar\":{\"outlinewidth\":0,\"ticks\":\"\"},\"colorscale\":[[0.0,\"#0d0887\"],[0.1111111111111111,\"#46039f\"],[0.2222222222222222,\"#7201a8\"],[0.3333333333333333,\"#9c179e\"],[0.4444444444444444,\"#bd3786\"],[0.5555555555555556,\"#d8576b\"],[0.6666666666666666,\"#ed7953\"],[0.7777777777777778,\"#fb9f3a\"],[0.8888888888888888,\"#fdca26\"],[1.0,\"#f0f921\"]],\"type\":\"surface\"}],\"table\":[{\"cells\":{\"fill\":{\"color\":\"#EBF0F8\"},\"line\":{\"color\":\"white\"}},\"header\":{\"fill\":{\"color\":\"#C8D4E3\"},\"line\":{\"color\":\"white\"}},\"type\":\"table\"}]},\"layout\":{\"annotationdefaults\":{\"arrowcolor\":\"#2a3f5f\",\"arrowhead\":0,\"arrowwidth\":1},\"autotypenumbers\":\"strict\",\"coloraxis\":{\"colorbar\":{\"outlinewidth\":0,\"ticks\":\"\"}},\"colorscale\":{\"diverging\":[[0,\"#8e0152\"],[0.1,\"#c51b7d\"],[0.2,\"#de77ae\"],[0.3,\"#f1b6da\"],[0.4,\"#fde0ef\"],[0.5,\"#f7f7f7\"],[0.6,\"#e6f5d0\"],[0.7,\"#b8e186\"],[0.8,\"#7fbc41\"],[0.9,\"#4d9221\"],[1,\"#276419\"]],\"sequential\":[[0.0,\"#0d0887\"],[0.1111111111111111,\"#46039f\"],[0.2222222222222222,\"#7201a8\"],[0.3333333333333333,\"#9c179e\"],[0.4444444444444444,\"#bd3786\"],[0.5555555555555556,\"#d8576b\"],[0.6666666666666666,\"#ed7953\"],[0.7777777777777778,\"#fb9f3a\"],[0.8888888888888888,\"#fdca26\"],[1.0,\"#f0f921\"]],\"sequentialminus\":[[0.0,\"#0d0887\"],[0.1111111111111111,\"#46039f\"],[0.2222222222222222,\"#7201a8\"],[0.3333333333333333,\"#9c179e\"],[0.4444444444444444,\"#bd3786\"],[0.5555555555555556,\"#d8576b\"],[0.6666666666666666,\"#ed7953\"],[0.7777777777777778,\"#fb9f3a\"],[0.8888888888888888,\"#fdca26\"],[1.0,\"#f0f921\"]]},\"colorway\":[\"#636efa\",\"#EF553B\",\"#00cc96\",\"#ab63fa\",\"#FFA15A\",\"#19d3f3\",\"#FF6692\",\"#B6E880\",\"#FF97FF\",\"#FECB52\"],\"font\":{\"color\":\"#2a3f5f\"},\"geo\":{\"bgcolor\":\"white\",\"lakecolor\":\"white\",\"landcolor\":\"#E5ECF6\",\"showlakes\":true,\"showland\":true,\"subunitcolor\":\"white\"},\"hoverlabel\":{\"align\":\"left\"},\"hovermode\":\"closest\",\"mapbox\":{\"style\":\"light\"},\"paper_bgcolor\":\"white\",\"plot_bgcolor\":\"#E5ECF6\",\"polar\":{\"angularaxis\":{\"gridcolor\":\"white\",\"linecolor\":\"white\",\"ticks\":\"\"},\"bgcolor\":\"#E5ECF6\",\"radialaxis\":{\"gridcolor\":\"white\",\"linecolor\":\"white\",\"ticks\":\"\"}},\"scene\":{\"xaxis\":{\"backgroundcolor\":\"#E5ECF6\",\"gridcolor\":\"white\",\"gridwidth\":2,\"linecolor\":\"white\",\"showbackground\":true,\"ticks\":\"\",\"zerolinecolor\":\"white\"},\"yaxis\":{\"backgroundcolor\":\"#E5ECF6\",\"gridcolor\":\"white\",\"gridwidth\":2,\"linecolor\":\"white\",\"showbackground\":true,\"ticks\":\"\",\"zerolinecolor\":\"white\"},\"zaxis\":{\"backgroundcolor\":\"#E5ECF6\",\"gridcolor\":\"white\",\"gridwidth\":2,\"linecolor\":\"white\",\"showbackground\":true,\"ticks\":\"\",\"zerolinecolor\":\"white\"}},\"shapedefaults\":{\"line\":{\"color\":\"#2a3f5f\"}},\"ternary\":{\"aaxis\":{\"gridcolor\":\"white\",\"linecolor\":\"white\",\"ticks\":\"\"},\"baxis\":{\"gridcolor\":\"white\",\"linecolor\":\"white\",\"ticks\":\"\"},\"bgcolor\":\"#E5ECF6\",\"caxis\":{\"gridcolor\":\"white\",\"linecolor\":\"white\",\"ticks\":\"\"}},\"title\":{\"x\":0.05},\"xaxis\":{\"automargin\":true,\"gridcolor\":\"white\",\"linecolor\":\"white\",\"ticks\":\"\",\"title\":{\"standoff\":15},\"zerolinecolor\":\"white\",\"zerolinewidth\":2},\"yaxis\":{\"automargin\":true,\"gridcolor\":\"white\",\"linecolor\":\"white\",\"ticks\":\"\",\"title\":{\"standoff\":15},\"zerolinecolor\":\"white\",\"zerolinewidth\":2}}},\"xaxis\":{\"anchor\":\"y\",\"domain\":[0.0,1.0],\"title\":{\"text\":\"\\uc2dc\\ub3c4\"},\"categoryorder\":\"array\",\"categoryarray\":[\"\\uacbd\\uc0c1\\ubd81\\ub3c4\",\"\\uc804\\ub77c\\ub0a8\\ub3c4\",\"\\ucda9\\uccad\\ub0a8\\ub3c4\",\"\\uacbd\\uc0c1\\ub0a8\\ub3c4\",\"\\uacbd\\uae30\\ub3c4\",\"\\uac15\\uc6d0\\ub3c4\",\"\\uc804\\ub77c\\ubd81\\ub3c4\",\"\\ucda9\\uccad\\ubd81\\ub3c4\",\"\\uc6b8\\uc0b0\\uad11\\uc5ed\\uc2dc\",\"\\ub300\\uad6c\\uad11\\uc5ed\\uc2dc\",\"\\uc778\\ucc9c\\uad11\\uc5ed\\uc2dc\",\"\\uc81c\\uc8fc\\ud2b9\\ubcc4\\uc790\\uce58\\ub3c4\",\"\\ub300\\uc804\\uad11\\uc5ed\\uc2dc\",\"\\uc11c\\uc6b8\\ud2b9\\ubcc4\\uc2dc\",\"\\ubd80\\uc0b0\\uad11\\uc5ed\\uc2dc\",\"\\uad11\\uc8fc\\uad11\\uc5ed\\uc2dc\"]},\"yaxis\":{\"anchor\":\"x\",\"domain\":[0.0,1.0],\"title\":{\"text\":\"\\uac00\\ucd95\\uc218_\\ube44\\uc728\"}},\"legend\":{\"title\":{\"text\":\"\\uc2dc\\ub3c4\"},\"tracegroupgap\":0},\"title\":{\"text\":\"\\uc2dc\\ub3c4\\ubcc4 \\uc778\\uad6c\\uc218 \\ub300\\ube44 \\uac00\\ucd95\\uc218\"},\"barmode\":\"relative\"},                        {\"responsive\": true}                    ).then(function(){\n",
       "                            \n",
       "var gd = document.getElementById('dade0651-1c9f-4657-83d9-33743d6e2491');\n",
       "var x = new MutationObserver(function (mutations, observer) {{\n",
       "        var display = window.getComputedStyle(gd).display;\n",
       "        if (!display || display === 'none') {{\n",
       "            console.log([gd, 'removed!']);\n",
       "            Plotly.purge(gd);\n",
       "            observer.disconnect();\n",
       "        }}\n",
       "}});\n",
       "\n",
       "// Listen for the removal of the full notebook cells\n",
       "var notebookContainer = gd.closest('#notebook-container');\n",
       "if (notebookContainer) {{\n",
       "    x.observe(notebookContainer, {childList: true});\n",
       "}}\n",
       "\n",
       "// Listen for the clearing of the current output cell\n",
       "var outputEl = gd.closest('.output');\n",
       "if (outputEl) {{\n",
       "    x.observe(outputEl, {childList: true});\n",
       "}}\n",
       "\n",
       "                        })                };                });            </script>        </div>"
      ]
     },
     "metadata": {},
     "output_type": "display_data"
    }
   ],
   "source": [
    "#시각화\n",
    "#인구수 대비 가축 수 \n",
    "df_시도 = df1.groupby('시도').sum().reset_index()\n",
    "df_시도['가축수_비율'] = (df_시도['두수_소계'] / df_시도['읍면동_총거주자수']).round(1)\n",
    "df_시도 = df_시도.sort_values('농가수', ascending=False)\n",
    "fig = px.bar(df_시도, x='시도', y='가축수_비율', color = '시도', text='가축수_비율', title='시도별 인구수 대비 가축수')\n",
    "fig.show(render = 'png')"
   ]
  },
  {
   "cell_type": "code",
   "execution_count": 49,
   "id": "01248f71-5375-4c53-a8c4-60ea584efd25",
   "metadata": {
    "colab": {
     "base_uri": "https://localhost:8080/",
     "height": 542
    },
    "executionInfo": {
     "elapsed": 313,
     "status": "ok",
     "timestamp": 1665310433044,
     "user": {
      "displayName": "이준형",
      "userId": "12900679336039541903"
     },
     "user_tz": -540
    },
    "id": "mzXyOcubkyGv",
    "outputId": "fd370627-ca00-48f0-9cef-252b6881dbb9"
   },
   "outputs": [
    {
     "data": {
      "application/vnd.plotly.v1+json": {
       "config": {
        "plotlyServerURL": "https://plot.ly"
       },
       "data": [
        {
         "alignmentgroup": "True",
         "hovertemplate": "시도=%{x}<br>=%{text}<extra></extra>",
         "legendgroup": "경상북도",
         "marker": {
          "color": "#636efa",
          "pattern": {
           "shape": ""
          }
         },
         "name": "경상북도",
         "offsetgroup": "경상북도",
         "orientation": "v",
         "showlegend": true,
         "text": [
          1113058
         ],
         "textposition": "auto",
         "type": "bar",
         "x": [
          "경상북도"
         ],
         "xaxis": "x",
         "y": [
          1113058
         ],
         "yaxis": "y"
        },
        {
         "alignmentgroup": "True",
         "hovertemplate": "시도=%{x}<br>=%{text}<extra></extra>",
         "legendgroup": "전라남도",
         "marker": {
          "color": "#EF553B",
          "pattern": {
           "shape": ""
          }
         },
         "name": "전라남도",
         "offsetgroup": "전라남도",
         "orientation": "v",
         "showlegend": true,
         "text": [
          231365
         ],
         "textposition": "auto",
         "type": "bar",
         "x": [
          "전라남도"
         ],
         "xaxis": "x",
         "y": [
          231365
         ],
         "yaxis": "y"
        },
        {
         "alignmentgroup": "True",
         "hovertemplate": "시도=%{x}<br>=%{text}<extra></extra>",
         "legendgroup": "충청남도",
         "marker": {
          "color": "#00cc96",
          "pattern": {
           "shape": ""
          }
         },
         "name": "충청남도",
         "offsetgroup": "충청남도",
         "orientation": "v",
         "showlegend": true,
         "text": [
          818629
         ],
         "textposition": "auto",
         "type": "bar",
         "x": [
          "충청남도"
         ],
         "xaxis": "x",
         "y": [
          818629
         ],
         "yaxis": "y"
        },
        {
         "alignmentgroup": "True",
         "hovertemplate": "시도=%{x}<br>=%{text}<extra></extra>",
         "legendgroup": "경상남도",
         "marker": {
          "color": "#ab63fa",
          "pattern": {
           "shape": ""
          }
         },
         "name": "경상남도",
         "offsetgroup": "경상남도",
         "orientation": "v",
         "showlegend": true,
         "text": [
          1673013
         ],
         "textposition": "auto",
         "type": "bar",
         "x": [
          "경상남도"
         ],
         "xaxis": "x",
         "y": [
          1673013
         ],
         "yaxis": "y"
        },
        {
         "alignmentgroup": "True",
         "hovertemplate": "시도=%{x}<br>=%{text}<extra></extra>",
         "legendgroup": "경기도",
         "marker": {
          "color": "#FFA15A",
          "pattern": {
           "shape": ""
          }
         },
         "name": "경기도",
         "offsetgroup": "경기도",
         "orientation": "v",
         "showlegend": true,
         "text": [
          5239400
         ],
         "textposition": "auto",
         "type": "bar",
         "x": [
          "경기도"
         ],
         "xaxis": "x",
         "y": [
          5239400
         ],
         "yaxis": "y"
        },
        {
         "alignmentgroup": "True",
         "hovertemplate": "시도=%{x}<br>=%{text}<extra></extra>",
         "legendgroup": "강원도",
         "marker": {
          "color": "#19d3f3",
          "pattern": {
           "shape": ""
          }
         },
         "name": "강원도",
         "offsetgroup": "강원도",
         "orientation": "v",
         "showlegend": true,
         "text": [
          390398
         ],
         "textposition": "auto",
         "type": "bar",
         "x": [
          "강원도"
         ],
         "xaxis": "x",
         "y": [
          390398
         ],
         "yaxis": "y"
        },
        {
         "alignmentgroup": "True",
         "hovertemplate": "시도=%{x}<br>=%{text}<extra></extra>",
         "legendgroup": "전라북도",
         "marker": {
          "color": "#FF6692",
          "pattern": {
           "shape": ""
          }
         },
         "name": "전라북도",
         "offsetgroup": "전라북도",
         "orientation": "v",
         "showlegend": true,
         "text": [
          456050
         ],
         "textposition": "auto",
         "type": "bar",
         "x": [
          "전라북도"
         ],
         "xaxis": "x",
         "y": [
          456050
         ],
         "yaxis": "y"
        },
        {
         "alignmentgroup": "True",
         "hovertemplate": "시도=%{x}<br>=%{text}<extra></extra>",
         "legendgroup": "충청북도",
         "marker": {
          "color": "#B6E880",
          "pattern": {
           "shape": ""
          }
         },
         "name": "충청북도",
         "offsetgroup": "충청북도",
         "orientation": "v",
         "showlegend": true,
         "text": [
          380633
         ],
         "textposition": "auto",
         "type": "bar",
         "x": [
          "충청북도"
         ],
         "xaxis": "x",
         "y": [
          380633
         ],
         "yaxis": "y"
        },
        {
         "alignmentgroup": "True",
         "hovertemplate": "시도=%{x}<br>=%{text}<extra></extra>",
         "legendgroup": "울산광역시",
         "marker": {
          "color": "#FF97FF",
          "pattern": {
           "shape": ""
          }
         },
         "name": "울산광역시",
         "offsetgroup": "울산광역시",
         "orientation": "v",
         "showlegend": true,
         "text": [
          1497997
         ],
         "textposition": "auto",
         "type": "bar",
         "x": [
          "울산광역시"
         ],
         "xaxis": "x",
         "y": [
          1497997
         ],
         "yaxis": "y"
        },
        {
         "alignmentgroup": "True",
         "hovertemplate": "시도=%{x}<br>=%{text}<extra></extra>",
         "legendgroup": "대구광역시",
         "marker": {
          "color": "#FECB52",
          "pattern": {
           "shape": ""
          }
         },
         "name": "대구광역시",
         "offsetgroup": "대구광역시",
         "orientation": "v",
         "showlegend": true,
         "text": [
          674319
         ],
         "textposition": "auto",
         "type": "bar",
         "x": [
          "대구광역시"
         ],
         "xaxis": "x",
         "y": [
          674319
         ],
         "yaxis": "y"
        },
        {
         "alignmentgroup": "True",
         "hovertemplate": "시도=%{x}<br>=%{text}<extra></extra>",
         "legendgroup": "인천광역시",
         "marker": {
          "color": "#636efa",
          "pattern": {
           "shape": ""
          }
         },
         "name": "인천광역시",
         "offsetgroup": "인천광역시",
         "orientation": "v",
         "showlegend": true,
         "text": [
          785575
         ],
         "textposition": "auto",
         "type": "bar",
         "x": [
          "인천광역시"
         ],
         "xaxis": "x",
         "y": [
          785575
         ],
         "yaxis": "y"
        },
        {
         "alignmentgroup": "True",
         "hovertemplate": "시도=%{x}<br>=%{text}<extra></extra>",
         "legendgroup": "제주특별자치도",
         "marker": {
          "color": "#EF553B",
          "pattern": {
           "shape": ""
          }
         },
         "name": "제주특별자치도",
         "offsetgroup": "제주특별자치도",
         "orientation": "v",
         "showlegend": true,
         "text": [
          5554
         ],
         "textposition": "auto",
         "type": "bar",
         "x": [
          "제주특별자치도"
         ],
         "xaxis": "x",
         "y": [
          5554
         ],
         "yaxis": "y"
        },
        {
         "alignmentgroup": "True",
         "hovertemplate": "시도=%{x}<br>=%{text}<extra></extra>",
         "legendgroup": "대전광역시",
         "marker": {
          "color": "#00cc96",
          "pattern": {
           "shape": ""
          }
         },
         "name": "대전광역시",
         "offsetgroup": "대전광역시",
         "orientation": "v",
         "showlegend": true,
         "text": [
          125593
         ],
         "textposition": "auto",
         "type": "bar",
         "x": [
          "대전광역시"
         ],
         "xaxis": "x",
         "y": [
          125593
         ],
         "yaxis": "y"
        },
        {
         "alignmentgroup": "True",
         "hovertemplate": "시도=%{x}<br>=%{text}<extra></extra>",
         "legendgroup": "서울특별시",
         "marker": {
          "color": "#ab63fa",
          "pattern": {
           "shape": ""
          }
         },
         "name": "서울특별시",
         "offsetgroup": "서울특별시",
         "orientation": "v",
         "showlegend": true,
         "text": [
          642983
         ],
         "textposition": "auto",
         "type": "bar",
         "x": [
          "서울특별시"
         ],
         "xaxis": "x",
         "y": [
          642983
         ],
         "yaxis": "y"
        },
        {
         "alignmentgroup": "True",
         "hovertemplate": "시도=%{x}<br>=%{text}<extra></extra>",
         "legendgroup": "부산광역시",
         "marker": {
          "color": "#FFA15A",
          "pattern": {
           "shape": ""
          }
         },
         "name": "부산광역시",
         "offsetgroup": "부산광역시",
         "orientation": "v",
         "showlegend": true,
         "text": [
          434236
         ],
         "textposition": "auto",
         "type": "bar",
         "x": [
          "부산광역시"
         ],
         "xaxis": "x",
         "y": [
          434236
         ],
         "yaxis": "y"
        },
        {
         "alignmentgroup": "True",
         "hovertemplate": "시도=%{x}<br>=%{text}<extra></extra>",
         "legendgroup": "광주광역시",
         "marker": {
          "color": "#19d3f3",
          "pattern": {
           "shape": ""
          }
         },
         "name": "광주광역시",
         "offsetgroup": "광주광역시",
         "orientation": "v",
         "showlegend": true,
         "text": [
          417819
         ],
         "textposition": "auto",
         "type": "bar",
         "x": [
          "광주광역시"
         ],
         "xaxis": "x",
         "y": [
          417819
         ],
         "yaxis": "y"
        }
       ],
       "layout": {
        "autosize": true,
        "barmode": "relative",
        "legend": {
         "title": {
          "text": "시도"
         },
         "tracegroupgap": 0
        },
        "template": {
         "data": {
          "bar": [
           {
            "error_x": {
             "color": "#2a3f5f"
            },
            "error_y": {
             "color": "#2a3f5f"
            },
            "marker": {
             "line": {
              "color": "#E5ECF6",
              "width": 0.5
             },
             "pattern": {
              "fillmode": "overlay",
              "size": 10,
              "solidity": 0.2
             }
            },
            "type": "bar"
           }
          ],
          "barpolar": [
           {
            "marker": {
             "line": {
              "color": "#E5ECF6",
              "width": 0.5
             },
             "pattern": {
              "fillmode": "overlay",
              "size": 10,
              "solidity": 0.2
             }
            },
            "type": "barpolar"
           }
          ],
          "carpet": [
           {
            "aaxis": {
             "endlinecolor": "#2a3f5f",
             "gridcolor": "white",
             "linecolor": "white",
             "minorgridcolor": "white",
             "startlinecolor": "#2a3f5f"
            },
            "baxis": {
             "endlinecolor": "#2a3f5f",
             "gridcolor": "white",
             "linecolor": "white",
             "minorgridcolor": "white",
             "startlinecolor": "#2a3f5f"
            },
            "type": "carpet"
           }
          ],
          "choropleth": [
           {
            "colorbar": {
             "outlinewidth": 0,
             "ticks": ""
            },
            "type": "choropleth"
           }
          ],
          "contour": [
           {
            "colorbar": {
             "outlinewidth": 0,
             "ticks": ""
            },
            "colorscale": [
             [
              0,
              "#0d0887"
             ],
             [
              0.1111111111111111,
              "#46039f"
             ],
             [
              0.2222222222222222,
              "#7201a8"
             ],
             [
              0.3333333333333333,
              "#9c179e"
             ],
             [
              0.4444444444444444,
              "#bd3786"
             ],
             [
              0.5555555555555556,
              "#d8576b"
             ],
             [
              0.6666666666666666,
              "#ed7953"
             ],
             [
              0.7777777777777778,
              "#fb9f3a"
             ],
             [
              0.8888888888888888,
              "#fdca26"
             ],
             [
              1,
              "#f0f921"
             ]
            ],
            "type": "contour"
           }
          ],
          "contourcarpet": [
           {
            "colorbar": {
             "outlinewidth": 0,
             "ticks": ""
            },
            "type": "contourcarpet"
           }
          ],
          "heatmap": [
           {
            "colorbar": {
             "outlinewidth": 0,
             "ticks": ""
            },
            "colorscale": [
             [
              0,
              "#0d0887"
             ],
             [
              0.1111111111111111,
              "#46039f"
             ],
             [
              0.2222222222222222,
              "#7201a8"
             ],
             [
              0.3333333333333333,
              "#9c179e"
             ],
             [
              0.4444444444444444,
              "#bd3786"
             ],
             [
              0.5555555555555556,
              "#d8576b"
             ],
             [
              0.6666666666666666,
              "#ed7953"
             ],
             [
              0.7777777777777778,
              "#fb9f3a"
             ],
             [
              0.8888888888888888,
              "#fdca26"
             ],
             [
              1,
              "#f0f921"
             ]
            ],
            "type": "heatmap"
           }
          ],
          "heatmapgl": [
           {
            "colorbar": {
             "outlinewidth": 0,
             "ticks": ""
            },
            "colorscale": [
             [
              0,
              "#0d0887"
             ],
             [
              0.1111111111111111,
              "#46039f"
             ],
             [
              0.2222222222222222,
              "#7201a8"
             ],
             [
              0.3333333333333333,
              "#9c179e"
             ],
             [
              0.4444444444444444,
              "#bd3786"
             ],
             [
              0.5555555555555556,
              "#d8576b"
             ],
             [
              0.6666666666666666,
              "#ed7953"
             ],
             [
              0.7777777777777778,
              "#fb9f3a"
             ],
             [
              0.8888888888888888,
              "#fdca26"
             ],
             [
              1,
              "#f0f921"
             ]
            ],
            "type": "heatmapgl"
           }
          ],
          "histogram": [
           {
            "marker": {
             "pattern": {
              "fillmode": "overlay",
              "size": 10,
              "solidity": 0.2
             }
            },
            "type": "histogram"
           }
          ],
          "histogram2d": [
           {
            "colorbar": {
             "outlinewidth": 0,
             "ticks": ""
            },
            "colorscale": [
             [
              0,
              "#0d0887"
             ],
             [
              0.1111111111111111,
              "#46039f"
             ],
             [
              0.2222222222222222,
              "#7201a8"
             ],
             [
              0.3333333333333333,
              "#9c179e"
             ],
             [
              0.4444444444444444,
              "#bd3786"
             ],
             [
              0.5555555555555556,
              "#d8576b"
             ],
             [
              0.6666666666666666,
              "#ed7953"
             ],
             [
              0.7777777777777778,
              "#fb9f3a"
             ],
             [
              0.8888888888888888,
              "#fdca26"
             ],
             [
              1,
              "#f0f921"
             ]
            ],
            "type": "histogram2d"
           }
          ],
          "histogram2dcontour": [
           {
            "colorbar": {
             "outlinewidth": 0,
             "ticks": ""
            },
            "colorscale": [
             [
              0,
              "#0d0887"
             ],
             [
              0.1111111111111111,
              "#46039f"
             ],
             [
              0.2222222222222222,
              "#7201a8"
             ],
             [
              0.3333333333333333,
              "#9c179e"
             ],
             [
              0.4444444444444444,
              "#bd3786"
             ],
             [
              0.5555555555555556,
              "#d8576b"
             ],
             [
              0.6666666666666666,
              "#ed7953"
             ],
             [
              0.7777777777777778,
              "#fb9f3a"
             ],
             [
              0.8888888888888888,
              "#fdca26"
             ],
             [
              1,
              "#f0f921"
             ]
            ],
            "type": "histogram2dcontour"
           }
          ],
          "mesh3d": [
           {
            "colorbar": {
             "outlinewidth": 0,
             "ticks": ""
            },
            "type": "mesh3d"
           }
          ],
          "parcoords": [
           {
            "line": {
             "colorbar": {
              "outlinewidth": 0,
              "ticks": ""
             }
            },
            "type": "parcoords"
           }
          ],
          "pie": [
           {
            "automargin": true,
            "type": "pie"
           }
          ],
          "scatter": [
           {
            "marker": {
             "colorbar": {
              "outlinewidth": 0,
              "ticks": ""
             }
            },
            "type": "scatter"
           }
          ],
          "scatter3d": [
           {
            "line": {
             "colorbar": {
              "outlinewidth": 0,
              "ticks": ""
             }
            },
            "marker": {
             "colorbar": {
              "outlinewidth": 0,
              "ticks": ""
             }
            },
            "type": "scatter3d"
           }
          ],
          "scattercarpet": [
           {
            "marker": {
             "colorbar": {
              "outlinewidth": 0,
              "ticks": ""
             }
            },
            "type": "scattercarpet"
           }
          ],
          "scattergeo": [
           {
            "marker": {
             "colorbar": {
              "outlinewidth": 0,
              "ticks": ""
             }
            },
            "type": "scattergeo"
           }
          ],
          "scattergl": [
           {
            "marker": {
             "colorbar": {
              "outlinewidth": 0,
              "ticks": ""
             }
            },
            "type": "scattergl"
           }
          ],
          "scattermapbox": [
           {
            "marker": {
             "colorbar": {
              "outlinewidth": 0,
              "ticks": ""
             }
            },
            "type": "scattermapbox"
           }
          ],
          "scatterpolar": [
           {
            "marker": {
             "colorbar": {
              "outlinewidth": 0,
              "ticks": ""
             }
            },
            "type": "scatterpolar"
           }
          ],
          "scatterpolargl": [
           {
            "marker": {
             "colorbar": {
              "outlinewidth": 0,
              "ticks": ""
             }
            },
            "type": "scatterpolargl"
           }
          ],
          "scatterternary": [
           {
            "marker": {
             "colorbar": {
              "outlinewidth": 0,
              "ticks": ""
             }
            },
            "type": "scatterternary"
           }
          ],
          "surface": [
           {
            "colorbar": {
             "outlinewidth": 0,
             "ticks": ""
            },
            "colorscale": [
             [
              0,
              "#0d0887"
             ],
             [
              0.1111111111111111,
              "#46039f"
             ],
             [
              0.2222222222222222,
              "#7201a8"
             ],
             [
              0.3333333333333333,
              "#9c179e"
             ],
             [
              0.4444444444444444,
              "#bd3786"
             ],
             [
              0.5555555555555556,
              "#d8576b"
             ],
             [
              0.6666666666666666,
              "#ed7953"
             ],
             [
              0.7777777777777778,
              "#fb9f3a"
             ],
             [
              0.8888888888888888,
              "#fdca26"
             ],
             [
              1,
              "#f0f921"
             ]
            ],
            "type": "surface"
           }
          ],
          "table": [
           {
            "cells": {
             "fill": {
              "color": "#EBF0F8"
             },
             "line": {
              "color": "white"
             }
            },
            "header": {
             "fill": {
              "color": "#C8D4E3"
             },
             "line": {
              "color": "white"
             }
            },
            "type": "table"
           }
          ]
         },
         "layout": {
          "annotationdefaults": {
           "arrowcolor": "#2a3f5f",
           "arrowhead": 0,
           "arrowwidth": 1
          },
          "autotypenumbers": "strict",
          "coloraxis": {
           "colorbar": {
            "outlinewidth": 0,
            "ticks": ""
           }
          },
          "colorscale": {
           "diverging": [
            [
             0,
             "#8e0152"
            ],
            [
             0.1,
             "#c51b7d"
            ],
            [
             0.2,
             "#de77ae"
            ],
            [
             0.3,
             "#f1b6da"
            ],
            [
             0.4,
             "#fde0ef"
            ],
            [
             0.5,
             "#f7f7f7"
            ],
            [
             0.6,
             "#e6f5d0"
            ],
            [
             0.7,
             "#b8e186"
            ],
            [
             0.8,
             "#7fbc41"
            ],
            [
             0.9,
             "#4d9221"
            ],
            [
             1,
             "#276419"
            ]
           ],
           "sequential": [
            [
             0,
             "#0d0887"
            ],
            [
             0.1111111111111111,
             "#46039f"
            ],
            [
             0.2222222222222222,
             "#7201a8"
            ],
            [
             0.3333333333333333,
             "#9c179e"
            ],
            [
             0.4444444444444444,
             "#bd3786"
            ],
            [
             0.5555555555555556,
             "#d8576b"
            ],
            [
             0.6666666666666666,
             "#ed7953"
            ],
            [
             0.7777777777777778,
             "#fb9f3a"
            ],
            [
             0.8888888888888888,
             "#fdca26"
            ],
            [
             1,
             "#f0f921"
            ]
           ],
           "sequentialminus": [
            [
             0,
             "#0d0887"
            ],
            [
             0.1111111111111111,
             "#46039f"
            ],
            [
             0.2222222222222222,
             "#7201a8"
            ],
            [
             0.3333333333333333,
             "#9c179e"
            ],
            [
             0.4444444444444444,
             "#bd3786"
            ],
            [
             0.5555555555555556,
             "#d8576b"
            ],
            [
             0.6666666666666666,
             "#ed7953"
            ],
            [
             0.7777777777777778,
             "#fb9f3a"
            ],
            [
             0.8888888888888888,
             "#fdca26"
            ],
            [
             1,
             "#f0f921"
            ]
           ]
          },
          "colorway": [
           "#636efa",
           "#EF553B",
           "#00cc96",
           "#ab63fa",
           "#FFA15A",
           "#19d3f3",
           "#FF6692",
           "#B6E880",
           "#FF97FF",
           "#FECB52"
          ],
          "font": {
           "color": "#2a3f5f"
          },
          "geo": {
           "bgcolor": "white",
           "lakecolor": "white",
           "landcolor": "#E5ECF6",
           "showlakes": true,
           "showland": true,
           "subunitcolor": "white"
          },
          "hoverlabel": {
           "align": "left"
          },
          "hovermode": "closest",
          "mapbox": {
           "style": "light"
          },
          "paper_bgcolor": "white",
          "plot_bgcolor": "#E5ECF6",
          "polar": {
           "angularaxis": {
            "gridcolor": "white",
            "linecolor": "white",
            "ticks": ""
           },
           "bgcolor": "#E5ECF6",
           "radialaxis": {
            "gridcolor": "white",
            "linecolor": "white",
            "ticks": ""
           }
          },
          "scene": {
           "xaxis": {
            "backgroundcolor": "#E5ECF6",
            "gridcolor": "white",
            "gridwidth": 2,
            "linecolor": "white",
            "showbackground": true,
            "ticks": "",
            "zerolinecolor": "white"
           },
           "yaxis": {
            "backgroundcolor": "#E5ECF6",
            "gridcolor": "white",
            "gridwidth": 2,
            "linecolor": "white",
            "showbackground": true,
            "ticks": "",
            "zerolinecolor": "white"
           },
           "zaxis": {
            "backgroundcolor": "#E5ECF6",
            "gridcolor": "white",
            "gridwidth": 2,
            "linecolor": "white",
            "showbackground": true,
            "ticks": "",
            "zerolinecolor": "white"
           }
          },
          "shapedefaults": {
           "line": {
            "color": "#2a3f5f"
           }
          },
          "ternary": {
           "aaxis": {
            "gridcolor": "white",
            "linecolor": "white",
            "ticks": ""
           },
           "baxis": {
            "gridcolor": "white",
            "linecolor": "white",
            "ticks": ""
           },
           "bgcolor": "#E5ECF6",
           "caxis": {
            "gridcolor": "white",
            "linecolor": "white",
            "ticks": ""
           }
          },
          "title": {
           "x": 0.05
          },
          "xaxis": {
           "automargin": true,
           "gridcolor": "white",
           "linecolor": "white",
           "ticks": "",
           "title": {
            "standoff": 15
           },
           "zerolinecolor": "white",
           "zerolinewidth": 2
          },
          "yaxis": {
           "automargin": true,
           "gridcolor": "white",
           "linecolor": "white",
           "ticks": "",
           "title": {
            "standoff": 15
           },
           "zerolinecolor": "white",
           "zerolinewidth": 2
          }
         }
        },
        "title": {
         "text": "환경오염도"
        },
        "xaxis": {
         "anchor": "y",
         "autorange": true,
         "categoryarray": [
          "경상북도",
          "전라남도",
          "충청남도",
          "경상남도",
          "경기도",
          "강원도",
          "전라북도",
          "충청북도",
          "울산광역시",
          "대구광역시",
          "인천광역시",
          "제주특별자치도",
          "대전광역시",
          "서울특별시",
          "부산광역시",
          "광주광역시"
         ],
         "categoryorder": "array",
         "domain": [
          0,
          1
         ],
         "range": [
          -0.5,
          15.5
         ],
         "title": {
          "text": "시도"
         },
         "type": "category"
        },
        "yaxis": {
         "anchor": "x",
         "autorange": true,
         "domain": [
          0,
          1
         ],
         "range": [
          0,
          5515157.894736842
         ],
         "title": {
          "text": ""
         },
         "type": "linear"
        }
       }
      },
      "image/png": "[encoded data removed]",
      "text/html": [
       "<div>                            <div id=\"2054e7f4-70ad-4148-82b8-cc3dac7cf679\" class=\"plotly-graph-div\" style=\"height:525px; width:100%;\"></div>            <script type=\"text/javascript\">                require([\"plotly\"], function(Plotly) {                    window.PLOTLYENV=window.PLOTLYENV || {};                                    if (document.getElementById(\"2054e7f4-70ad-4148-82b8-cc3dac7cf679\")) {                    Plotly.newPlot(                        \"2054e7f4-70ad-4148-82b8-cc3dac7cf679\",                        [{\"alignmentgroup\":\"True\",\"hovertemplate\":\"\\uc2dc\\ub3c4=%{x}<br>=%{text}<extra></extra>\",\"legendgroup\":\"\\uacbd\\uc0c1\\ubd81\\ub3c4\",\"marker\":{\"color\":\"#636efa\",\"pattern\":{\"shape\":\"\"}},\"name\":\"\\uacbd\\uc0c1\\ubd81\\ub3c4\",\"offsetgroup\":\"\\uacbd\\uc0c1\\ubd81\\ub3c4\",\"orientation\":\"v\",\"showlegend\":true,\"text\":[1113058.0],\"textposition\":\"auto\",\"x\":[\"\\uacbd\\uc0c1\\ubd81\\ub3c4\"],\"xaxis\":\"x\",\"y\":[1113058.0],\"yaxis\":\"y\",\"type\":\"bar\"},{\"alignmentgroup\":\"True\",\"hovertemplate\":\"\\uc2dc\\ub3c4=%{x}<br>=%{text}<extra></extra>\",\"legendgroup\":\"\\uc804\\ub77c\\ub0a8\\ub3c4\",\"marker\":{\"color\":\"#EF553B\",\"pattern\":{\"shape\":\"\"}},\"name\":\"\\uc804\\ub77c\\ub0a8\\ub3c4\",\"offsetgroup\":\"\\uc804\\ub77c\\ub0a8\\ub3c4\",\"orientation\":\"v\",\"showlegend\":true,\"text\":[231365.0],\"textposition\":\"auto\",\"x\":[\"\\uc804\\ub77c\\ub0a8\\ub3c4\"],\"xaxis\":\"x\",\"y\":[231365.0],\"yaxis\":\"y\",\"type\":\"bar\"},{\"alignmentgroup\":\"True\",\"hovertemplate\":\"\\uc2dc\\ub3c4=%{x}<br>=%{text}<extra></extra>\",\"legendgroup\":\"\\ucda9\\uccad\\ub0a8\\ub3c4\",\"marker\":{\"color\":\"#00cc96\",\"pattern\":{\"shape\":\"\"}},\"name\":\"\\ucda9\\uccad\\ub0a8\\ub3c4\",\"offsetgroup\":\"\\ucda9\\uccad\\ub0a8\\ub3c4\",\"orientation\":\"v\",\"showlegend\":true,\"text\":[818629.0],\"textposition\":\"auto\",\"x\":[\"\\ucda9\\uccad\\ub0a8\\ub3c4\"],\"xaxis\":\"x\",\"y\":[818629.0],\"yaxis\":\"y\",\"type\":\"bar\"},{\"alignmentgroup\":\"True\",\"hovertemplate\":\"\\uc2dc\\ub3c4=%{x}<br>=%{text}<extra></extra>\",\"legendgroup\":\"\\uacbd\\uc0c1\\ub0a8\\ub3c4\",\"marker\":{\"color\":\"#ab63fa\",\"pattern\":{\"shape\":\"\"}},\"name\":\"\\uacbd\\uc0c1\\ub0a8\\ub3c4\",\"offsetgroup\":\"\\uacbd\\uc0c1\\ub0a8\\ub3c4\",\"orientation\":\"v\",\"showlegend\":true,\"text\":[1673013.0],\"textposition\":\"auto\",\"x\":[\"\\uacbd\\uc0c1\\ub0a8\\ub3c4\"],\"xaxis\":\"x\",\"y\":[1673013.0],\"yaxis\":\"y\",\"type\":\"bar\"},{\"alignmentgroup\":\"True\",\"hovertemplate\":\"\\uc2dc\\ub3c4=%{x}<br>=%{text}<extra></extra>\",\"legendgroup\":\"\\uacbd\\uae30\\ub3c4\",\"marker\":{\"color\":\"#FFA15A\",\"pattern\":{\"shape\":\"\"}},\"name\":\"\\uacbd\\uae30\\ub3c4\",\"offsetgroup\":\"\\uacbd\\uae30\\ub3c4\",\"orientation\":\"v\",\"showlegend\":true,\"text\":[5239400.0],\"textposition\":\"auto\",\"x\":[\"\\uacbd\\uae30\\ub3c4\"],\"xaxis\":\"x\",\"y\":[5239400.0],\"yaxis\":\"y\",\"type\":\"bar\"},{\"alignmentgroup\":\"True\",\"hovertemplate\":\"\\uc2dc\\ub3c4=%{x}<br>=%{text}<extra></extra>\",\"legendgroup\":\"\\uac15\\uc6d0\\ub3c4\",\"marker\":{\"color\":\"#19d3f3\",\"pattern\":{\"shape\":\"\"}},\"name\":\"\\uac15\\uc6d0\\ub3c4\",\"offsetgroup\":\"\\uac15\\uc6d0\\ub3c4\",\"orientation\":\"v\",\"showlegend\":true,\"text\":[390398.0],\"textposition\":\"auto\",\"x\":[\"\\uac15\\uc6d0\\ub3c4\"],\"xaxis\":\"x\",\"y\":[390398.0],\"yaxis\":\"y\",\"type\":\"bar\"},{\"alignmentgroup\":\"True\",\"hovertemplate\":\"\\uc2dc\\ub3c4=%{x}<br>=%{text}<extra></extra>\",\"legendgroup\":\"\\uc804\\ub77c\\ubd81\\ub3c4\",\"marker\":{\"color\":\"#FF6692\",\"pattern\":{\"shape\":\"\"}},\"name\":\"\\uc804\\ub77c\\ubd81\\ub3c4\",\"offsetgroup\":\"\\uc804\\ub77c\\ubd81\\ub3c4\",\"orientation\":\"v\",\"showlegend\":true,\"text\":[456050.0],\"textposition\":\"auto\",\"x\":[\"\\uc804\\ub77c\\ubd81\\ub3c4\"],\"xaxis\":\"x\",\"y\":[456050.0],\"yaxis\":\"y\",\"type\":\"bar\"},{\"alignmentgroup\":\"True\",\"hovertemplate\":\"\\uc2dc\\ub3c4=%{x}<br>=%{text}<extra></extra>\",\"legendgroup\":\"\\ucda9\\uccad\\ubd81\\ub3c4\",\"marker\":{\"color\":\"#B6E880\",\"pattern\":{\"shape\":\"\"}},\"name\":\"\\ucda9\\uccad\\ubd81\\ub3c4\",\"offsetgroup\":\"\\ucda9\\uccad\\ubd81\\ub3c4\",\"orientation\":\"v\",\"showlegend\":true,\"text\":[380633.0],\"textposition\":\"auto\",\"x\":[\"\\ucda9\\uccad\\ubd81\\ub3c4\"],\"xaxis\":\"x\",\"y\":[380633.0],\"yaxis\":\"y\",\"type\":\"bar\"},{\"alignmentgroup\":\"True\",\"hovertemplate\":\"\\uc2dc\\ub3c4=%{x}<br>=%{text}<extra></extra>\",\"legendgroup\":\"\\uc6b8\\uc0b0\\uad11\\uc5ed\\uc2dc\",\"marker\":{\"color\":\"#FF97FF\",\"pattern\":{\"shape\":\"\"}},\"name\":\"\\uc6b8\\uc0b0\\uad11\\uc5ed\\uc2dc\",\"offsetgroup\":\"\\uc6b8\\uc0b0\\uad11\\uc5ed\\uc2dc\",\"orientation\":\"v\",\"showlegend\":true,\"text\":[1497997.0],\"textposition\":\"auto\",\"x\":[\"\\uc6b8\\uc0b0\\uad11\\uc5ed\\uc2dc\"],\"xaxis\":\"x\",\"y\":[1497997.0],\"yaxis\":\"y\",\"type\":\"bar\"},{\"alignmentgroup\":\"True\",\"hovertemplate\":\"\\uc2dc\\ub3c4=%{x}<br>=%{text}<extra></extra>\",\"legendgroup\":\"\\ub300\\uad6c\\uad11\\uc5ed\\uc2dc\",\"marker\":{\"color\":\"#FECB52\",\"pattern\":{\"shape\":\"\"}},\"name\":\"\\ub300\\uad6c\\uad11\\uc5ed\\uc2dc\",\"offsetgroup\":\"\\ub300\\uad6c\\uad11\\uc5ed\\uc2dc\",\"orientation\":\"v\",\"showlegend\":true,\"text\":[674319.0],\"textposition\":\"auto\",\"x\":[\"\\ub300\\uad6c\\uad11\\uc5ed\\uc2dc\"],\"xaxis\":\"x\",\"y\":[674319.0],\"yaxis\":\"y\",\"type\":\"bar\"},{\"alignmentgroup\":\"True\",\"hovertemplate\":\"\\uc2dc\\ub3c4=%{x}<br>=%{text}<extra></extra>\",\"legendgroup\":\"\\uc778\\ucc9c\\uad11\\uc5ed\\uc2dc\",\"marker\":{\"color\":\"#636efa\",\"pattern\":{\"shape\":\"\"}},\"name\":\"\\uc778\\ucc9c\\uad11\\uc5ed\\uc2dc\",\"offsetgroup\":\"\\uc778\\ucc9c\\uad11\\uc5ed\\uc2dc\",\"orientation\":\"v\",\"showlegend\":true,\"text\":[785575.0],\"textposition\":\"auto\",\"x\":[\"\\uc778\\ucc9c\\uad11\\uc5ed\\uc2dc\"],\"xaxis\":\"x\",\"y\":[785575.0],\"yaxis\":\"y\",\"type\":\"bar\"},{\"alignmentgroup\":\"True\",\"hovertemplate\":\"\\uc2dc\\ub3c4=%{x}<br>=%{text}<extra></extra>\",\"legendgroup\":\"\\uc81c\\uc8fc\\ud2b9\\ubcc4\\uc790\\uce58\\ub3c4\",\"marker\":{\"color\":\"#EF553B\",\"pattern\":{\"shape\":\"\"}},\"name\":\"\\uc81c\\uc8fc\\ud2b9\\ubcc4\\uc790\\uce58\\ub3c4\",\"offsetgroup\":\"\\uc81c\\uc8fc\\ud2b9\\ubcc4\\uc790\\uce58\\ub3c4\",\"orientation\":\"v\",\"showlegend\":true,\"text\":[5554.0],\"textposition\":\"auto\",\"x\":[\"\\uc81c\\uc8fc\\ud2b9\\ubcc4\\uc790\\uce58\\ub3c4\"],\"xaxis\":\"x\",\"y\":[5554.0],\"yaxis\":\"y\",\"type\":\"bar\"},{\"alignmentgroup\":\"True\",\"hovertemplate\":\"\\uc2dc\\ub3c4=%{x}<br>=%{text}<extra></extra>\",\"legendgroup\":\"\\ub300\\uc804\\uad11\\uc5ed\\uc2dc\",\"marker\":{\"color\":\"#00cc96\",\"pattern\":{\"shape\":\"\"}},\"name\":\"\\ub300\\uc804\\uad11\\uc5ed\\uc2dc\",\"offsetgroup\":\"\\ub300\\uc804\\uad11\\uc5ed\\uc2dc\",\"orientation\":\"v\",\"showlegend\":true,\"text\":[125593.0],\"textposition\":\"auto\",\"x\":[\"\\ub300\\uc804\\uad11\\uc5ed\\uc2dc\"],\"xaxis\":\"x\",\"y\":[125593.0],\"yaxis\":\"y\",\"type\":\"bar\"},{\"alignmentgroup\":\"True\",\"hovertemplate\":\"\\uc2dc\\ub3c4=%{x}<br>=%{text}<extra></extra>\",\"legendgroup\":\"\\uc11c\\uc6b8\\ud2b9\\ubcc4\\uc2dc\",\"marker\":{\"color\":\"#ab63fa\",\"pattern\":{\"shape\":\"\"}},\"name\":\"\\uc11c\\uc6b8\\ud2b9\\ubcc4\\uc2dc\",\"offsetgroup\":\"\\uc11c\\uc6b8\\ud2b9\\ubcc4\\uc2dc\",\"orientation\":\"v\",\"showlegend\":true,\"text\":[642983.0],\"textposition\":\"auto\",\"x\":[\"\\uc11c\\uc6b8\\ud2b9\\ubcc4\\uc2dc\"],\"xaxis\":\"x\",\"y\":[642983.0],\"yaxis\":\"y\",\"type\":\"bar\"},{\"alignmentgroup\":\"True\",\"hovertemplate\":\"\\uc2dc\\ub3c4=%{x}<br>=%{text}<extra></extra>\",\"legendgroup\":\"\\ubd80\\uc0b0\\uad11\\uc5ed\\uc2dc\",\"marker\":{\"color\":\"#FFA15A\",\"pattern\":{\"shape\":\"\"}},\"name\":\"\\ubd80\\uc0b0\\uad11\\uc5ed\\uc2dc\",\"offsetgroup\":\"\\ubd80\\uc0b0\\uad11\\uc5ed\\uc2dc\",\"orientation\":\"v\",\"showlegend\":true,\"text\":[434236.0],\"textposition\":\"auto\",\"x\":[\"\\ubd80\\uc0b0\\uad11\\uc5ed\\uc2dc\"],\"xaxis\":\"x\",\"y\":[434236.0],\"yaxis\":\"y\",\"type\":\"bar\"},{\"alignmentgroup\":\"True\",\"hovertemplate\":\"\\uc2dc\\ub3c4=%{x}<br>=%{text}<extra></extra>\",\"legendgroup\":\"\\uad11\\uc8fc\\uad11\\uc5ed\\uc2dc\",\"marker\":{\"color\":\"#19d3f3\",\"pattern\":{\"shape\":\"\"}},\"name\":\"\\uad11\\uc8fc\\uad11\\uc5ed\\uc2dc\",\"offsetgroup\":\"\\uad11\\uc8fc\\uad11\\uc5ed\\uc2dc\",\"orientation\":\"v\",\"showlegend\":true,\"text\":[417819.0],\"textposition\":\"auto\",\"x\":[\"\\uad11\\uc8fc\\uad11\\uc5ed\\uc2dc\"],\"xaxis\":\"x\",\"y\":[417819.0],\"yaxis\":\"y\",\"type\":\"bar\"}],                        {\"template\":{\"data\":{\"bar\":[{\"error_x\":{\"color\":\"#2a3f5f\"},\"error_y\":{\"color\":\"#2a3f5f\"},\"marker\":{\"line\":{\"color\":\"#E5ECF6\",\"width\":0.5},\"pattern\":{\"fillmode\":\"overlay\",\"size\":10,\"solidity\":0.2}},\"type\":\"bar\"}],\"barpolar\":[{\"marker\":{\"line\":{\"color\":\"#E5ECF6\",\"width\":0.5},\"pattern\":{\"fillmode\":\"overlay\",\"size\":10,\"solidity\":0.2}},\"type\":\"barpolar\"}],\"carpet\":[{\"aaxis\":{\"endlinecolor\":\"#2a3f5f\",\"gridcolor\":\"white\",\"linecolor\":\"white\",\"minorgridcolor\":\"white\",\"startlinecolor\":\"#2a3f5f\"},\"baxis\":{\"endlinecolor\":\"#2a3f5f\",\"gridcolor\":\"white\",\"linecolor\":\"white\",\"minorgridcolor\":\"white\",\"startlinecolor\":\"#2a3f5f\"},\"type\":\"carpet\"}],\"choropleth\":[{\"colorbar\":{\"outlinewidth\":0,\"ticks\":\"\"},\"type\":\"choropleth\"}],\"contour\":[{\"colorbar\":{\"outlinewidth\":0,\"ticks\":\"\"},\"colorscale\":[[0.0,\"#0d0887\"],[0.1111111111111111,\"#46039f\"],[0.2222222222222222,\"#7201a8\"],[0.3333333333333333,\"#9c179e\"],[0.4444444444444444,\"#bd3786\"],[0.5555555555555556,\"#d8576b\"],[0.6666666666666666,\"#ed7953\"],[0.7777777777777778,\"#fb9f3a\"],[0.8888888888888888,\"#fdca26\"],[1.0,\"#f0f921\"]],\"type\":\"contour\"}],\"contourcarpet\":[{\"colorbar\":{\"outlinewidth\":0,\"ticks\":\"\"},\"type\":\"contourcarpet\"}],\"heatmap\":[{\"colorbar\":{\"outlinewidth\":0,\"ticks\":\"\"},\"colorscale\":[[0.0,\"#0d0887\"],[0.1111111111111111,\"#46039f\"],[0.2222222222222222,\"#7201a8\"],[0.3333333333333333,\"#9c179e\"],[0.4444444444444444,\"#bd3786\"],[0.5555555555555556,\"#d8576b\"],[0.6666666666666666,\"#ed7953\"],[0.7777777777777778,\"#fb9f3a\"],[0.8888888888888888,\"#fdca26\"],[1.0,\"#f0f921\"]],\"type\":\"heatmap\"}],\"heatmapgl\":[{\"colorbar\":{\"outlinewidth\":0,\"ticks\":\"\"},\"colorscale\":[[0.0,\"#0d0887\"],[0.1111111111111111,\"#46039f\"],[0.2222222222222222,\"#7201a8\"],[0.3333333333333333,\"#9c179e\"],[0.4444444444444444,\"#bd3786\"],[0.5555555555555556,\"#d8576b\"],[0.6666666666666666,\"#ed7953\"],[0.7777777777777778,\"#fb9f3a\"],[0.8888888888888888,\"#fdca26\"],[1.0,\"#f0f921\"]],\"type\":\"heatmapgl\"}],\"histogram\":[{\"marker\":{\"pattern\":{\"fillmode\":\"overlay\",\"size\":10,\"solidity\":0.2}},\"type\":\"histogram\"}],\"histogram2d\":[{\"colorbar\":{\"outlinewidth\":0,\"ticks\":\"\"},\"colorscale\":[[0.0,\"#0d0887\"],[0.1111111111111111,\"#46039f\"],[0.2222222222222222,\"#7201a8\"],[0.3333333333333333,\"#9c179e\"],[0.4444444444444444,\"#bd3786\"],[0.5555555555555556,\"#d8576b\"],[0.6666666666666666,\"#ed7953\"],[0.7777777777777778,\"#fb9f3a\"],[0.8888888888888888,\"#fdca26\"],[1.0,\"#f0f921\"]],\"type\":\"histogram2d\"}],\"histogram2dcontour\":[{\"colorbar\":{\"outlinewidth\":0,\"ticks\":\"\"},\"colorscale\":[[0.0,\"#0d0887\"],[0.1111111111111111,\"#46039f\"],[0.2222222222222222,\"#7201a8\"],[0.3333333333333333,\"#9c179e\"],[0.4444444444444444,\"#bd3786\"],[0.5555555555555556,\"#d8576b\"],[0.6666666666666666,\"#ed7953\"],[0.7777777777777778,\"#fb9f3a\"],[0.8888888888888888,\"#fdca26\"],[1.0,\"#f0f921\"]],\"type\":\"histogram2dcontour\"}],\"mesh3d\":[{\"colorbar\":{\"outlinewidth\":0,\"ticks\":\"\"},\"type\":\"mesh3d\"}],\"parcoords\":[{\"line\":{\"colorbar\":{\"outlinewidth\":0,\"ticks\":\"\"}},\"type\":\"parcoords\"}],\"pie\":[{\"automargin\":true,\"type\":\"pie\"}],\"scatter\":[{\"marker\":{\"colorbar\":{\"outlinewidth\":0,\"ticks\":\"\"}},\"type\":\"scatter\"}],\"scatter3d\":[{\"line\":{\"colorbar\":{\"outlinewidth\":0,\"ticks\":\"\"}},\"marker\":{\"colorbar\":{\"outlinewidth\":0,\"ticks\":\"\"}},\"type\":\"scatter3d\"}],\"scattercarpet\":[{\"marker\":{\"colorbar\":{\"outlinewidth\":0,\"ticks\":\"\"}},\"type\":\"scattercarpet\"}],\"scattergeo\":[{\"marker\":{\"colorbar\":{\"outlinewidth\":0,\"ticks\":\"\"}},\"type\":\"scattergeo\"}],\"scattergl\":[{\"marker\":{\"colorbar\":{\"outlinewidth\":0,\"ticks\":\"\"}},\"type\":\"scattergl\"}],\"scattermapbox\":[{\"marker\":{\"colorbar\":{\"outlinewidth\":0,\"ticks\":\"\"}},\"type\":\"scattermapbox\"}],\"scatterpolar\":[{\"marker\":{\"colorbar\":{\"outlinewidth\":0,\"ticks\":\"\"}},\"type\":\"scatterpolar\"}],\"scatterpolargl\":[{\"marker\":{\"colorbar\":{\"outlinewidth\":0,\"ticks\":\"\"}},\"type\":\"scatterpolargl\"}],\"scatterternary\":[{\"marker\":{\"colorbar\":{\"outlinewidth\":0,\"ticks\":\"\"}},\"type\":\"scatterternary\"}],\"surface\":[{\"colorbar\":{\"outlinewidth\":0,\"ticks\":\"\"},\"colorscale\":[[0.0,\"#0d0887\"],[0.1111111111111111,\"#46039f\"],[0.2222222222222222,\"#7201a8\"],[0.3333333333333333,\"#9c179e\"],[0.4444444444444444,\"#bd3786\"],[0.5555555555555556,\"#d8576b\"],[0.6666666666666666,\"#ed7953\"],[0.7777777777777778,\"#fb9f3a\"],[0.8888888888888888,\"#fdca26\"],[1.0,\"#f0f921\"]],\"type\":\"surface\"}],\"table\":[{\"cells\":{\"fill\":{\"color\":\"#EBF0F8\"},\"line\":{\"color\":\"white\"}},\"header\":{\"fill\":{\"color\":\"#C8D4E3\"},\"line\":{\"color\":\"white\"}},\"type\":\"table\"}]},\"layout\":{\"annotationdefaults\":{\"arrowcolor\":\"#2a3f5f\",\"arrowhead\":0,\"arrowwidth\":1},\"autotypenumbers\":\"strict\",\"coloraxis\":{\"colorbar\":{\"outlinewidth\":0,\"ticks\":\"\"}},\"colorscale\":{\"diverging\":[[0,\"#8e0152\"],[0.1,\"#c51b7d\"],[0.2,\"#de77ae\"],[0.3,\"#f1b6da\"],[0.4,\"#fde0ef\"],[0.5,\"#f7f7f7\"],[0.6,\"#e6f5d0\"],[0.7,\"#b8e186\"],[0.8,\"#7fbc41\"],[0.9,\"#4d9221\"],[1,\"#276419\"]],\"sequential\":[[0.0,\"#0d0887\"],[0.1111111111111111,\"#46039f\"],[0.2222222222222222,\"#7201a8\"],[0.3333333333333333,\"#9c179e\"],[0.4444444444444444,\"#bd3786\"],[0.5555555555555556,\"#d8576b\"],[0.6666666666666666,\"#ed7953\"],[0.7777777777777778,\"#fb9f3a\"],[0.8888888888888888,\"#fdca26\"],[1.0,\"#f0f921\"]],\"sequentialminus\":[[0.0,\"#0d0887\"],[0.1111111111111111,\"#46039f\"],[0.2222222222222222,\"#7201a8\"],[0.3333333333333333,\"#9c179e\"],[0.4444444444444444,\"#bd3786\"],[0.5555555555555556,\"#d8576b\"],[0.6666666666666666,\"#ed7953\"],[0.7777777777777778,\"#fb9f3a\"],[0.8888888888888888,\"#fdca26\"],[1.0,\"#f0f921\"]]},\"colorway\":[\"#636efa\",\"#EF553B\",\"#00cc96\",\"#ab63fa\",\"#FFA15A\",\"#19d3f3\",\"#FF6692\",\"#B6E880\",\"#FF97FF\",\"#FECB52\"],\"font\":{\"color\":\"#2a3f5f\"},\"geo\":{\"bgcolor\":\"white\",\"lakecolor\":\"white\",\"landcolor\":\"#E5ECF6\",\"showlakes\":true,\"showland\":true,\"subunitcolor\":\"white\"},\"hoverlabel\":{\"align\":\"left\"},\"hovermode\":\"closest\",\"mapbox\":{\"style\":\"light\"},\"paper_bgcolor\":\"white\",\"plot_bgcolor\":\"#E5ECF6\",\"polar\":{\"angularaxis\":{\"gridcolor\":\"white\",\"linecolor\":\"white\",\"ticks\":\"\"},\"bgcolor\":\"#E5ECF6\",\"radialaxis\":{\"gridcolor\":\"white\",\"linecolor\":\"white\",\"ticks\":\"\"}},\"scene\":{\"xaxis\":{\"backgroundcolor\":\"#E5ECF6\",\"gridcolor\":\"white\",\"gridwidth\":2,\"linecolor\":\"white\",\"showbackground\":true,\"ticks\":\"\",\"zerolinecolor\":\"white\"},\"yaxis\":{\"backgroundcolor\":\"#E5ECF6\",\"gridcolor\":\"white\",\"gridwidth\":2,\"linecolor\":\"white\",\"showbackground\":true,\"ticks\":\"\",\"zerolinecolor\":\"white\"},\"zaxis\":{\"backgroundcolor\":\"#E5ECF6\",\"gridcolor\":\"white\",\"gridwidth\":2,\"linecolor\":\"white\",\"showbackground\":true,\"ticks\":\"\",\"zerolinecolor\":\"white\"}},\"shapedefaults\":{\"line\":{\"color\":\"#2a3f5f\"}},\"ternary\":{\"aaxis\":{\"gridcolor\":\"white\",\"linecolor\":\"white\",\"ticks\":\"\"},\"baxis\":{\"gridcolor\":\"white\",\"linecolor\":\"white\",\"ticks\":\"\"},\"bgcolor\":\"#E5ECF6\",\"caxis\":{\"gridcolor\":\"white\",\"linecolor\":\"white\",\"ticks\":\"\"}},\"title\":{\"x\":0.05},\"xaxis\":{\"automargin\":true,\"gridcolor\":\"white\",\"linecolor\":\"white\",\"ticks\":\"\",\"title\":{\"standoff\":15},\"zerolinecolor\":\"white\",\"zerolinewidth\":2},\"yaxis\":{\"automargin\":true,\"gridcolor\":\"white\",\"linecolor\":\"white\",\"ticks\":\"\",\"title\":{\"standoff\":15},\"zerolinecolor\":\"white\",\"zerolinewidth\":2}}},\"xaxis\":{\"anchor\":\"y\",\"domain\":[0.0,1.0],\"title\":{\"text\":\"\\uc2dc\\ub3c4\"},\"categoryorder\":\"array\",\"categoryarray\":[\"\\uacbd\\uc0c1\\ubd81\\ub3c4\",\"\\uc804\\ub77c\\ub0a8\\ub3c4\",\"\\ucda9\\uccad\\ub0a8\\ub3c4\",\"\\uacbd\\uc0c1\\ub0a8\\ub3c4\",\"\\uacbd\\uae30\\ub3c4\",\"\\uac15\\uc6d0\\ub3c4\",\"\\uc804\\ub77c\\ubd81\\ub3c4\",\"\\ucda9\\uccad\\ubd81\\ub3c4\",\"\\uc6b8\\uc0b0\\uad11\\uc5ed\\uc2dc\",\"\\ub300\\uad6c\\uad11\\uc5ed\\uc2dc\",\"\\uc778\\ucc9c\\uad11\\uc5ed\\uc2dc\",\"\\uc81c\\uc8fc\\ud2b9\\ubcc4\\uc790\\uce58\\ub3c4\",\"\\ub300\\uc804\\uad11\\uc5ed\\uc2dc\",\"\\uc11c\\uc6b8\\ud2b9\\ubcc4\\uc2dc\",\"\\ubd80\\uc0b0\\uad11\\uc5ed\\uc2dc\",\"\\uad11\\uc8fc\\uad11\\uc5ed\\uc2dc\"]},\"yaxis\":{\"anchor\":\"x\",\"domain\":[0.0,1.0],\"title\":{\"text\":\"\"}},\"legend\":{\"title\":{\"text\":\"\\uc2dc\\ub3c4\"},\"tracegroupgap\":0},\"title\":{\"text\":\"\\ud658\\uacbd\\uc624\\uc5fc\\ub3c4\"},\"barmode\":\"relative\"},                        {\"responsive\": true}                    ).then(function(){\n",
       "                            \n",
       "var gd = document.getElementById('2054e7f4-70ad-4148-82b8-cc3dac7cf679');\n",
       "var x = new MutationObserver(function (mutations, observer) {{\n",
       "        var display = window.getComputedStyle(gd).display;\n",
       "        if (!display || display === 'none') {{\n",
       "            console.log([gd, 'removed!']);\n",
       "            Plotly.purge(gd);\n",
       "            observer.disconnect();\n",
       "        }}\n",
       "}});\n",
       "\n",
       "// Listen for the removal of the full notebook cells\n",
       "var notebookContainer = gd.closest('#notebook-container');\n",
       "if (notebookContainer) {{\n",
       "    x.observe(notebookContainer, {childList: true});\n",
       "}}\n",
       "\n",
       "// Listen for the clearing of the current output cell\n",
       "var outputEl = gd.closest('.output');\n",
       "if (outputEl) {{\n",
       "    x.observe(outputEl, {childList: true});\n",
       "}}\n",
       "\n",
       "                        })                };                });            </script>        </div>"
      ]
     },
     "metadata": {},
     "output_type": "display_data"
    }
   ],
   "source": [
    "#환경오염지수 시각화\n",
    "#df_시도['환경오염도_농가수비율'] = df_시도['환경오염도'] * df_시도['가축수_비율']\n",
    "df_시도 = df_시도.sort_values('농가수', ascending=False).round(2)\n",
    "fig = px.bar(df_시도, x='시도', y='환경오염도', color='시도', text='환경오염도', title='환경오염도', labels={'환경오염도':''})\n",
    "fig.show(render = 'png')"
   ]
  },
  {
   "cell_type": "code",
   "execution_count": 48,
   "id": "e8e04cdc-ab60-41c3-a530-15eb0a31e7d1",
   "metadata": {
    "colab": {
     "base_uri": "https://localhost:8080/",
     "height": 542
    },
    "executionInfo": {
     "elapsed": 293,
     "status": "ok",
     "timestamp": 1665314438110,
     "user": {
      "displayName": "이준형",
      "userId": "12900679336039541903"
     },
     "user_tz": -540
    },
    "id": "Irx5nzmSb6ug",
    "outputId": "0ccd0df3-3f7c-4ed2-8e7e-cffee49cb347"
   },
   "outputs": [
    {
     "data": {
      "application/vnd.plotly.v1+json": {
       "config": {
        "plotlyServerURL": "https://plot.ly"
       },
       "data": [
        {
         "domain": {
          "x": [
           0,
           1
          ],
          "y": [
           0,
           1
          ]
         },
         "hovertemplate": "시도=%{label}<br>하수처리시설_개수=%{value}<extra></extra>",
         "labels": [
          "경상북도",
          "전라남도",
          "충청남도",
          "경상남도",
          "경기도",
          "강원도",
          "전라북도",
          "충청북도",
          "울산광역시",
          "대구광역시",
          "인천광역시",
          "제주특별자치도",
          "대전광역시",
          "서울특별시",
          "부산광역시",
          "광주광역시"
         ],
         "legendgroup": "",
         "name": "",
         "showlegend": true,
         "textinfo": "percent+label",
         "textposition": "inside",
         "type": "pie",
         "values": [
          420,
          880,
          377,
          594,
          312,
          385,
          485,
          314,
          11,
          11,
          3,
          29,
          0,
          2,
          1,
          2
         ]
        }
       ],
       "layout": {
        "autosize": true,
        "legend": {
         "tracegroupgap": 0
        },
        "template": {
         "data": {
          "bar": [
           {
            "error_x": {
             "color": "#2a3f5f"
            },
            "error_y": {
             "color": "#2a3f5f"
            },
            "marker": {
             "line": {
              "color": "#E5ECF6",
              "width": 0.5
             },
             "pattern": {
              "fillmode": "overlay",
              "size": 10,
              "solidity": 0.2
             }
            },
            "type": "bar"
           }
          ],
          "barpolar": [
           {
            "marker": {
             "line": {
              "color": "#E5ECF6",
              "width": 0.5
             },
             "pattern": {
              "fillmode": "overlay",
              "size": 10,
              "solidity": 0.2
             }
            },
            "type": "barpolar"
           }
          ],
          "carpet": [
           {
            "aaxis": {
             "endlinecolor": "#2a3f5f",
             "gridcolor": "white",
             "linecolor": "white",
             "minorgridcolor": "white",
             "startlinecolor": "#2a3f5f"
            },
            "baxis": {
             "endlinecolor": "#2a3f5f",
             "gridcolor": "white",
             "linecolor": "white",
             "minorgridcolor": "white",
             "startlinecolor": "#2a3f5f"
            },
            "type": "carpet"
           }
          ],
          "choropleth": [
           {
            "colorbar": {
             "outlinewidth": 0,
             "ticks": ""
            },
            "type": "choropleth"
           }
          ],
          "contour": [
           {
            "colorbar": {
             "outlinewidth": 0,
             "ticks": ""
            },
            "colorscale": [
             [
              0,
              "#0d0887"
             ],
             [
              0.1111111111111111,
              "#46039f"
             ],
             [
              0.2222222222222222,
              "#7201a8"
             ],
             [
              0.3333333333333333,
              "#9c179e"
             ],
             [
              0.4444444444444444,
              "#bd3786"
             ],
             [
              0.5555555555555556,
              "#d8576b"
             ],
             [
              0.6666666666666666,
              "#ed7953"
             ],
             [
              0.7777777777777778,
              "#fb9f3a"
             ],
             [
              0.8888888888888888,
              "#fdca26"
             ],
             [
              1,
              "#f0f921"
             ]
            ],
            "type": "contour"
           }
          ],
          "contourcarpet": [
           {
            "colorbar": {
             "outlinewidth": 0,
             "ticks": ""
            },
            "type": "contourcarpet"
           }
          ],
          "heatmap": [
           {
            "colorbar": {
             "outlinewidth": 0,
             "ticks": ""
            },
            "colorscale": [
             [
              0,
              "#0d0887"
             ],
             [
              0.1111111111111111,
              "#46039f"
             ],
             [
              0.2222222222222222,
              "#7201a8"
             ],
             [
              0.3333333333333333,
              "#9c179e"
             ],
             [
              0.4444444444444444,
              "#bd3786"
             ],
             [
              0.5555555555555556,
              "#d8576b"
             ],
             [
              0.6666666666666666,
              "#ed7953"
             ],
             [
              0.7777777777777778,
              "#fb9f3a"
             ],
             [
              0.8888888888888888,
              "#fdca26"
             ],
             [
              1,
              "#f0f921"
             ]
            ],
            "type": "heatmap"
           }
          ],
          "heatmapgl": [
           {
            "colorbar": {
             "outlinewidth": 0,
             "ticks": ""
            },
            "colorscale": [
             [
              0,
              "#0d0887"
             ],
             [
              0.1111111111111111,
              "#46039f"
             ],
             [
              0.2222222222222222,
              "#7201a8"
             ],
             [
              0.3333333333333333,
              "#9c179e"
             ],
             [
              0.4444444444444444,
              "#bd3786"
             ],
             [
              0.5555555555555556,
              "#d8576b"
             ],
             [
              0.6666666666666666,
              "#ed7953"
             ],
             [
              0.7777777777777778,
              "#fb9f3a"
             ],
             [
              0.8888888888888888,
              "#fdca26"
             ],
             [
              1,
              "#f0f921"
             ]
            ],
            "type": "heatmapgl"
           }
          ],
          "histogram": [
           {
            "marker": {
             "pattern": {
              "fillmode": "overlay",
              "size": 10,
              "solidity": 0.2
             }
            },
            "type": "histogram"
           }
          ],
          "histogram2d": [
           {
            "colorbar": {
             "outlinewidth": 0,
             "ticks": ""
            },
            "colorscale": [
             [
              0,
              "#0d0887"
             ],
             [
              0.1111111111111111,
              "#46039f"
             ],
             [
              0.2222222222222222,
              "#7201a8"
             ],
             [
              0.3333333333333333,
              "#9c179e"
             ],
             [
              0.4444444444444444,
              "#bd3786"
             ],
             [
              0.5555555555555556,
              "#d8576b"
             ],
             [
              0.6666666666666666,
              "#ed7953"
             ],
             [
              0.7777777777777778,
              "#fb9f3a"
             ],
             [
              0.8888888888888888,
              "#fdca26"
             ],
             [
              1,
              "#f0f921"
             ]
            ],
            "type": "histogram2d"
           }
          ],
          "histogram2dcontour": [
           {
            "colorbar": {
             "outlinewidth": 0,
             "ticks": ""
            },
            "colorscale": [
             [
              0,
              "#0d0887"
             ],
             [
              0.1111111111111111,
              "#46039f"
             ],
             [
              0.2222222222222222,
              "#7201a8"
             ],
             [
              0.3333333333333333,
              "#9c179e"
             ],
             [
              0.4444444444444444,
              "#bd3786"
             ],
             [
              0.5555555555555556,
              "#d8576b"
             ],
             [
              0.6666666666666666,
              "#ed7953"
             ],
             [
              0.7777777777777778,
              "#fb9f3a"
             ],
             [
              0.8888888888888888,
              "#fdca26"
             ],
             [
              1,
              "#f0f921"
             ]
            ],
            "type": "histogram2dcontour"
           }
          ],
          "mesh3d": [
           {
            "colorbar": {
             "outlinewidth": 0,
             "ticks": ""
            },
            "type": "mesh3d"
           }
          ],
          "parcoords": [
           {
            "line": {
             "colorbar": {
              "outlinewidth": 0,
              "ticks": ""
             }
            },
            "type": "parcoords"
           }
          ],
          "pie": [
           {
            "automargin": true,
            "type": "pie"
           }
          ],
          "scatter": [
           {
            "marker": {
             "colorbar": {
              "outlinewidth": 0,
              "ticks": ""
             }
            },
            "type": "scatter"
           }
          ],
          "scatter3d": [
           {
            "line": {
             "colorbar": {
              "outlinewidth": 0,
              "ticks": ""
             }
            },
            "marker": {
             "colorbar": {
              "outlinewidth": 0,
              "ticks": ""
             }
            },
            "type": "scatter3d"
           }
          ],
          "scattercarpet": [
           {
            "marker": {
             "colorbar": {
              "outlinewidth": 0,
              "ticks": ""
             }
            },
            "type": "scattercarpet"
           }
          ],
          "scattergeo": [
           {
            "marker": {
             "colorbar": {
              "outlinewidth": 0,
              "ticks": ""
             }
            },
            "type": "scattergeo"
           }
          ],
          "scattergl": [
           {
            "marker": {
             "colorbar": {
              "outlinewidth": 0,
              "ticks": ""
             }
            },
            "type": "scattergl"
           }
          ],
          "scattermapbox": [
           {
            "marker": {
             "colorbar": {
              "outlinewidth": 0,
              "ticks": ""
             }
            },
            "type": "scattermapbox"
           }
          ],
          "scatterpolar": [
           {
            "marker": {
             "colorbar": {
              "outlinewidth": 0,
              "ticks": ""
             }
            },
            "type": "scatterpolar"
           }
          ],
          "scatterpolargl": [
           {
            "marker": {
             "colorbar": {
              "outlinewidth": 0,
              "ticks": ""
             }
            },
            "type": "scatterpolargl"
           }
          ],
          "scatterternary": [
           {
            "marker": {
             "colorbar": {
              "outlinewidth": 0,
              "ticks": ""
             }
            },
            "type": "scatterternary"
           }
          ],
          "surface": [
           {
            "colorbar": {
             "outlinewidth": 0,
             "ticks": ""
            },
            "colorscale": [
             [
              0,
              "#0d0887"
             ],
             [
              0.1111111111111111,
              "#46039f"
             ],
             [
              0.2222222222222222,
              "#7201a8"
             ],
             [
              0.3333333333333333,
              "#9c179e"
             ],
             [
              0.4444444444444444,
              "#bd3786"
             ],
             [
              0.5555555555555556,
              "#d8576b"
             ],
             [
              0.6666666666666666,
              "#ed7953"
             ],
             [
              0.7777777777777778,
              "#fb9f3a"
             ],
             [
              0.8888888888888888,
              "#fdca26"
             ],
             [
              1,
              "#f0f921"
             ]
            ],
            "type": "surface"
           }
          ],
          "table": [
           {
            "cells": {
             "fill": {
              "color": "#EBF0F8"
             },
             "line": {
              "color": "white"
             }
            },
            "header": {
             "fill": {
              "color": "#C8D4E3"
             },
             "line": {
              "color": "white"
             }
            },
            "type": "table"
           }
          ]
         },
         "layout": {
          "annotationdefaults": {
           "arrowcolor": "#2a3f5f",
           "arrowhead": 0,
           "arrowwidth": 1
          },
          "autotypenumbers": "strict",
          "coloraxis": {
           "colorbar": {
            "outlinewidth": 0,
            "ticks": ""
           }
          },
          "colorscale": {
           "diverging": [
            [
             0,
             "#8e0152"
            ],
            [
             0.1,
             "#c51b7d"
            ],
            [
             0.2,
             "#de77ae"
            ],
            [
             0.3,
             "#f1b6da"
            ],
            [
             0.4,
             "#fde0ef"
            ],
            [
             0.5,
             "#f7f7f7"
            ],
            [
             0.6,
             "#e6f5d0"
            ],
            [
             0.7,
             "#b8e186"
            ],
            [
             0.8,
             "#7fbc41"
            ],
            [
             0.9,
             "#4d9221"
            ],
            [
             1,
             "#276419"
            ]
           ],
           "sequential": [
            [
             0,
             "#0d0887"
            ],
            [
             0.1111111111111111,
             "#46039f"
            ],
            [
             0.2222222222222222,
             "#7201a8"
            ],
            [
             0.3333333333333333,
             "#9c179e"
            ],
            [
             0.4444444444444444,
             "#bd3786"
            ],
            [
             0.5555555555555556,
             "#d8576b"
            ],
            [
             0.6666666666666666,
             "#ed7953"
            ],
            [
             0.7777777777777778,
             "#fb9f3a"
            ],
            [
             0.8888888888888888,
             "#fdca26"
            ],
            [
             1,
             "#f0f921"
            ]
           ],
           "sequentialminus": [
            [
             0,
             "#0d0887"
            ],
            [
             0.1111111111111111,
             "#46039f"
            ],
            [
             0.2222222222222222,
             "#7201a8"
            ],
            [
             0.3333333333333333,
             "#9c179e"
            ],
            [
             0.4444444444444444,
             "#bd3786"
            ],
            [
             0.5555555555555556,
             "#d8576b"
            ],
            [
             0.6666666666666666,
             "#ed7953"
            ],
            [
             0.7777777777777778,
             "#fb9f3a"
            ],
            [
             0.8888888888888888,
             "#fdca26"
            ],
            [
             1,
             "#f0f921"
            ]
           ]
          },
          "colorway": [
           "#636efa",
           "#EF553B",
           "#00cc96",
           "#ab63fa",
           "#FFA15A",
           "#19d3f3",
           "#FF6692",
           "#B6E880",
           "#FF97FF",
           "#FECB52"
          ],
          "font": {
           "color": "#2a3f5f"
          },
          "geo": {
           "bgcolor": "white",
           "lakecolor": "white",
           "landcolor": "#E5ECF6",
           "showlakes": true,
           "showland": true,
           "subunitcolor": "white"
          },
          "hoverlabel": {
           "align": "left"
          },
          "hovermode": "closest",
          "mapbox": {
           "style": "light"
          },
          "paper_bgcolor": "white",
          "plot_bgcolor": "#E5ECF6",
          "polar": {
           "angularaxis": {
            "gridcolor": "white",
            "linecolor": "white",
            "ticks": ""
           },
           "bgcolor": "#E5ECF6",
           "radialaxis": {
            "gridcolor": "white",
            "linecolor": "white",
            "ticks": ""
           }
          },
          "scene": {
           "xaxis": {
            "backgroundcolor": "#E5ECF6",
            "gridcolor": "white",
            "gridwidth": 2,
            "linecolor": "white",
            "showbackground": true,
            "ticks": "",
            "zerolinecolor": "white"
           },
           "yaxis": {
            "backgroundcolor": "#E5ECF6",
            "gridcolor": "white",
            "gridwidth": 2,
            "linecolor": "white",
            "showbackground": true,
            "ticks": "",
            "zerolinecolor": "white"
           },
           "zaxis": {
            "backgroundcolor": "#E5ECF6",
            "gridcolor": "white",
            "gridwidth": 2,
            "linecolor": "white",
            "showbackground": true,
            "ticks": "",
            "zerolinecolor": "white"
           }
          },
          "shapedefaults": {
           "line": {
            "color": "#2a3f5f"
           }
          },
          "ternary": {
           "aaxis": {
            "gridcolor": "white",
            "linecolor": "white",
            "ticks": ""
           },
           "baxis": {
            "gridcolor": "white",
            "linecolor": "white",
            "ticks": ""
           },
           "bgcolor": "#E5ECF6",
           "caxis": {
            "gridcolor": "white",
            "linecolor": "white",
            "ticks": ""
           }
          },
          "title": {
           "x": 0.05
          },
          "xaxis": {
           "automargin": true,
           "gridcolor": "white",
           "linecolor": "white",
           "ticks": "",
           "title": {
            "standoff": 15
           },
           "zerolinecolor": "white",
           "zerolinewidth": 2
          },
          "yaxis": {
           "automargin": true,
           "gridcolor": "white",
           "linecolor": "white",
           "ticks": "",
           "title": {
            "standoff": 15
           },
           "zerolinecolor": "white",
           "zerolinewidth": 2
          }
         }
        },
        "title": {
         "text": "시도별 하수처리시설 현황"
        }
       }
      },
      "image/png": "[encoded data removed]",
      "text/html": [
       "<div>                            <div id=\"9f580cb3-e6d1-487e-a5af-c5fb30f25b78\" class=\"plotly-graph-div\" style=\"height:525px; width:100%;\"></div>            <script type=\"text/javascript\">                require([\"plotly\"], function(Plotly) {                    window.PLOTLYENV=window.PLOTLYENV || {};                                    if (document.getElementById(\"9f580cb3-e6d1-487e-a5af-c5fb30f25b78\")) {                    Plotly.newPlot(                        \"9f580cb3-e6d1-487e-a5af-c5fb30f25b78\",                        [{\"domain\":{\"x\":[0.0,1.0],\"y\":[0.0,1.0]},\"hovertemplate\":\"\\uc2dc\\ub3c4=%{label}<br>\\ud558\\uc218\\ucc98\\ub9ac\\uc2dc\\uc124_\\uac1c\\uc218=%{value}<extra></extra>\",\"labels\":[\"\\uacbd\\uc0c1\\ubd81\\ub3c4\",\"\\uc804\\ub77c\\ub0a8\\ub3c4\",\"\\ucda9\\uccad\\ub0a8\\ub3c4\",\"\\uacbd\\uc0c1\\ub0a8\\ub3c4\",\"\\uacbd\\uae30\\ub3c4\",\"\\uac15\\uc6d0\\ub3c4\",\"\\uc804\\ub77c\\ubd81\\ub3c4\",\"\\ucda9\\uccad\\ubd81\\ub3c4\",\"\\uc6b8\\uc0b0\\uad11\\uc5ed\\uc2dc\",\"\\ub300\\uad6c\\uad11\\uc5ed\\uc2dc\",\"\\uc778\\ucc9c\\uad11\\uc5ed\\uc2dc\",\"\\uc81c\\uc8fc\\ud2b9\\ubcc4\\uc790\\uce58\\ub3c4\",\"\\ub300\\uc804\\uad11\\uc5ed\\uc2dc\",\"\\uc11c\\uc6b8\\ud2b9\\ubcc4\\uc2dc\",\"\\ubd80\\uc0b0\\uad11\\uc5ed\\uc2dc\",\"\\uad11\\uc8fc\\uad11\\uc5ed\\uc2dc\"],\"legendgroup\":\"\",\"name\":\"\",\"showlegend\":true,\"values\":[420,880,377,594,312,385,485,314,11,11,3,29,0,2,1,2],\"type\":\"pie\",\"textinfo\":\"percent+label\",\"textposition\":\"inside\"}],                        {\"template\":{\"data\":{\"bar\":[{\"error_x\":{\"color\":\"#2a3f5f\"},\"error_y\":{\"color\":\"#2a3f5f\"},\"marker\":{\"line\":{\"color\":\"#E5ECF6\",\"width\":0.5},\"pattern\":{\"fillmode\":\"overlay\",\"size\":10,\"solidity\":0.2}},\"type\":\"bar\"}],\"barpolar\":[{\"marker\":{\"line\":{\"color\":\"#E5ECF6\",\"width\":0.5},\"pattern\":{\"fillmode\":\"overlay\",\"size\":10,\"solidity\":0.2}},\"type\":\"barpolar\"}],\"carpet\":[{\"aaxis\":{\"endlinecolor\":\"#2a3f5f\",\"gridcolor\":\"white\",\"linecolor\":\"white\",\"minorgridcolor\":\"white\",\"startlinecolor\":\"#2a3f5f\"},\"baxis\":{\"endlinecolor\":\"#2a3f5f\",\"gridcolor\":\"white\",\"linecolor\":\"white\",\"minorgridcolor\":\"white\",\"startlinecolor\":\"#2a3f5f\"},\"type\":\"carpet\"}],\"choropleth\":[{\"colorbar\":{\"outlinewidth\":0,\"ticks\":\"\"},\"type\":\"choropleth\"}],\"contour\":[{\"colorbar\":{\"outlinewidth\":0,\"ticks\":\"\"},\"colorscale\":[[0.0,\"#0d0887\"],[0.1111111111111111,\"#46039f\"],[0.2222222222222222,\"#7201a8\"],[0.3333333333333333,\"#9c179e\"],[0.4444444444444444,\"#bd3786\"],[0.5555555555555556,\"#d8576b\"],[0.6666666666666666,\"#ed7953\"],[0.7777777777777778,\"#fb9f3a\"],[0.8888888888888888,\"#fdca26\"],[1.0,\"#f0f921\"]],\"type\":\"contour\"}],\"contourcarpet\":[{\"colorbar\":{\"outlinewidth\":0,\"ticks\":\"\"},\"type\":\"contourcarpet\"}],\"heatmap\":[{\"colorbar\":{\"outlinewidth\":0,\"ticks\":\"\"},\"colorscale\":[[0.0,\"#0d0887\"],[0.1111111111111111,\"#46039f\"],[0.2222222222222222,\"#7201a8\"],[0.3333333333333333,\"#9c179e\"],[0.4444444444444444,\"#bd3786\"],[0.5555555555555556,\"#d8576b\"],[0.6666666666666666,\"#ed7953\"],[0.7777777777777778,\"#fb9f3a\"],[0.8888888888888888,\"#fdca26\"],[1.0,\"#f0f921\"]],\"type\":\"heatmap\"}],\"heatmapgl\":[{\"colorbar\":{\"outlinewidth\":0,\"ticks\":\"\"},\"colorscale\":[[0.0,\"#0d0887\"],[0.1111111111111111,\"#46039f\"],[0.2222222222222222,\"#7201a8\"],[0.3333333333333333,\"#9c179e\"],[0.4444444444444444,\"#bd3786\"],[0.5555555555555556,\"#d8576b\"],[0.6666666666666666,\"#ed7953\"],[0.7777777777777778,\"#fb9f3a\"],[0.8888888888888888,\"#fdca26\"],[1.0,\"#f0f921\"]],\"type\":\"heatmapgl\"}],\"histogram\":[{\"marker\":{\"pattern\":{\"fillmode\":\"overlay\",\"size\":10,\"solidity\":0.2}},\"type\":\"histogram\"}],\"histogram2d\":[{\"colorbar\":{\"outlinewidth\":0,\"ticks\":\"\"},\"colorscale\":[[0.0,\"#0d0887\"],[0.1111111111111111,\"#46039f\"],[0.2222222222222222,\"#7201a8\"],[0.3333333333333333,\"#9c179e\"],[0.4444444444444444,\"#bd3786\"],[0.5555555555555556,\"#d8576b\"],[0.6666666666666666,\"#ed7953\"],[0.7777777777777778,\"#fb9f3a\"],[0.8888888888888888,\"#fdca26\"],[1.0,\"#f0f921\"]],\"type\":\"histogram2d\"}],\"histogram2dcontour\":[{\"colorbar\":{\"outlinewidth\":0,\"ticks\":\"\"},\"colorscale\":[[0.0,\"#0d0887\"],[0.1111111111111111,\"#46039f\"],[0.2222222222222222,\"#7201a8\"],[0.3333333333333333,\"#9c179e\"],[0.4444444444444444,\"#bd3786\"],[0.5555555555555556,\"#d8576b\"],[0.6666666666666666,\"#ed7953\"],[0.7777777777777778,\"#fb9f3a\"],[0.8888888888888888,\"#fdca26\"],[1.0,\"#f0f921\"]],\"type\":\"histogram2dcontour\"}],\"mesh3d\":[{\"colorbar\":{\"outlinewidth\":0,\"ticks\":\"\"},\"type\":\"mesh3d\"}],\"parcoords\":[{\"line\":{\"colorbar\":{\"outlinewidth\":0,\"ticks\":\"\"}},\"type\":\"parcoords\"}],\"pie\":[{\"automargin\":true,\"type\":\"pie\"}],\"scatter\":[{\"marker\":{\"colorbar\":{\"outlinewidth\":0,\"ticks\":\"\"}},\"type\":\"scatter\"}],\"scatter3d\":[{\"line\":{\"colorbar\":{\"outlinewidth\":0,\"ticks\":\"\"}},\"marker\":{\"colorbar\":{\"outlinewidth\":0,\"ticks\":\"\"}},\"type\":\"scatter3d\"}],\"scattercarpet\":[{\"marker\":{\"colorbar\":{\"outlinewidth\":0,\"ticks\":\"\"}},\"type\":\"scattercarpet\"}],\"scattergeo\":[{\"marker\":{\"colorbar\":{\"outlinewidth\":0,\"ticks\":\"\"}},\"type\":\"scattergeo\"}],\"scattergl\":[{\"marker\":{\"colorbar\":{\"outlinewidth\":0,\"ticks\":\"\"}},\"type\":\"scattergl\"}],\"scattermapbox\":[{\"marker\":{\"colorbar\":{\"outlinewidth\":0,\"ticks\":\"\"}},\"type\":\"scattermapbox\"}],\"scatterpolar\":[{\"marker\":{\"colorbar\":{\"outlinewidth\":0,\"ticks\":\"\"}},\"type\":\"scatterpolar\"}],\"scatterpolargl\":[{\"marker\":{\"colorbar\":{\"outlinewidth\":0,\"ticks\":\"\"}},\"type\":\"scatterpolargl\"}],\"scatterternary\":[{\"marker\":{\"colorbar\":{\"outlinewidth\":0,\"ticks\":\"\"}},\"type\":\"scatterternary\"}],\"surface\":[{\"colorbar\":{\"outlinewidth\":0,\"ticks\":\"\"},\"colorscale\":[[0.0,\"#0d0887\"],[0.1111111111111111,\"#46039f\"],[0.2222222222222222,\"#7201a8\"],[0.3333333333333333,\"#9c179e\"],[0.4444444444444444,\"#bd3786\"],[0.5555555555555556,\"#d8576b\"],[0.6666666666666666,\"#ed7953\"],[0.7777777777777778,\"#fb9f3a\"],[0.8888888888888888,\"#fdca26\"],[1.0,\"#f0f921\"]],\"type\":\"surface\"}],\"table\":[{\"cells\":{\"fill\":{\"color\":\"#EBF0F8\"},\"line\":{\"color\":\"white\"}},\"header\":{\"fill\":{\"color\":\"#C8D4E3\"},\"line\":{\"color\":\"white\"}},\"type\":\"table\"}]},\"layout\":{\"annotationdefaults\":{\"arrowcolor\":\"#2a3f5f\",\"arrowhead\":0,\"arrowwidth\":1},\"autotypenumbers\":\"strict\",\"coloraxis\":{\"colorbar\":{\"outlinewidth\":0,\"ticks\":\"\"}},\"colorscale\":{\"diverging\":[[0,\"#8e0152\"],[0.1,\"#c51b7d\"],[0.2,\"#de77ae\"],[0.3,\"#f1b6da\"],[0.4,\"#fde0ef\"],[0.5,\"#f7f7f7\"],[0.6,\"#e6f5d0\"],[0.7,\"#b8e186\"],[0.8,\"#7fbc41\"],[0.9,\"#4d9221\"],[1,\"#276419\"]],\"sequential\":[[0.0,\"#0d0887\"],[0.1111111111111111,\"#46039f\"],[0.2222222222222222,\"#7201a8\"],[0.3333333333333333,\"#9c179e\"],[0.4444444444444444,\"#bd3786\"],[0.5555555555555556,\"#d8576b\"],[0.6666666666666666,\"#ed7953\"],[0.7777777777777778,\"#fb9f3a\"],[0.8888888888888888,\"#fdca26\"],[1.0,\"#f0f921\"]],\"sequentialminus\":[[0.0,\"#0d0887\"],[0.1111111111111111,\"#46039f\"],[0.2222222222222222,\"#7201a8\"],[0.3333333333333333,\"#9c179e\"],[0.4444444444444444,\"#bd3786\"],[0.5555555555555556,\"#d8576b\"],[0.6666666666666666,\"#ed7953\"],[0.7777777777777778,\"#fb9f3a\"],[0.8888888888888888,\"#fdca26\"],[1.0,\"#f0f921\"]]},\"colorway\":[\"#636efa\",\"#EF553B\",\"#00cc96\",\"#ab63fa\",\"#FFA15A\",\"#19d3f3\",\"#FF6692\",\"#B6E880\",\"#FF97FF\",\"#FECB52\"],\"font\":{\"color\":\"#2a3f5f\"},\"geo\":{\"bgcolor\":\"white\",\"lakecolor\":\"white\",\"landcolor\":\"#E5ECF6\",\"showlakes\":true,\"showland\":true,\"subunitcolor\":\"white\"},\"hoverlabel\":{\"align\":\"left\"},\"hovermode\":\"closest\",\"mapbox\":{\"style\":\"light\"},\"paper_bgcolor\":\"white\",\"plot_bgcolor\":\"#E5ECF6\",\"polar\":{\"angularaxis\":{\"gridcolor\":\"white\",\"linecolor\":\"white\",\"ticks\":\"\"},\"bgcolor\":\"#E5ECF6\",\"radialaxis\":{\"gridcolor\":\"white\",\"linecolor\":\"white\",\"ticks\":\"\"}},\"scene\":{\"xaxis\":{\"backgroundcolor\":\"#E5ECF6\",\"gridcolor\":\"white\",\"gridwidth\":2,\"linecolor\":\"white\",\"showbackground\":true,\"ticks\":\"\",\"zerolinecolor\":\"white\"},\"yaxis\":{\"backgroundcolor\":\"#E5ECF6\",\"gridcolor\":\"white\",\"gridwidth\":2,\"linecolor\":\"white\",\"showbackground\":true,\"ticks\":\"\",\"zerolinecolor\":\"white\"},\"zaxis\":{\"backgroundcolor\":\"#E5ECF6\",\"gridcolor\":\"white\",\"gridwidth\":2,\"linecolor\":\"white\",\"showbackground\":true,\"ticks\":\"\",\"zerolinecolor\":\"white\"}},\"shapedefaults\":{\"line\":{\"color\":\"#2a3f5f\"}},\"ternary\":{\"aaxis\":{\"gridcolor\":\"white\",\"linecolor\":\"white\",\"ticks\":\"\"},\"baxis\":{\"gridcolor\":\"white\",\"linecolor\":\"white\",\"ticks\":\"\"},\"bgcolor\":\"#E5ECF6\",\"caxis\":{\"gridcolor\":\"white\",\"linecolor\":\"white\",\"ticks\":\"\"}},\"title\":{\"x\":0.05},\"xaxis\":{\"automargin\":true,\"gridcolor\":\"white\",\"linecolor\":\"white\",\"ticks\":\"\",\"title\":{\"standoff\":15},\"zerolinecolor\":\"white\",\"zerolinewidth\":2},\"yaxis\":{\"automargin\":true,\"gridcolor\":\"white\",\"linecolor\":\"white\",\"ticks\":\"\",\"title\":{\"standoff\":15},\"zerolinecolor\":\"white\",\"zerolinewidth\":2}}},\"legend\":{\"tracegroupgap\":0},\"title\":{\"text\":\"\\uc2dc\\ub3c4\\ubcc4 \\ud558\\uc218\\ucc98\\ub9ac\\uc2dc\\uc124 \\ud604\\ud669\"}},                        {\"responsive\": true}                    ).then(function(){\n",
       "                            \n",
       "var gd = document.getElementById('9f580cb3-e6d1-487e-a5af-c5fb30f25b78');\n",
       "var x = new MutationObserver(function (mutations, observer) {{\n",
       "        var display = window.getComputedStyle(gd).display;\n",
       "        if (!display || display === 'none') {{\n",
       "            console.log([gd, 'removed!']);\n",
       "            Plotly.purge(gd);\n",
       "            observer.disconnect();\n",
       "        }}\n",
       "}});\n",
       "\n",
       "// Listen for the removal of the full notebook cells\n",
       "var notebookContainer = gd.closest('#notebook-container');\n",
       "if (notebookContainer) {{\n",
       "    x.observe(notebookContainer, {childList: true});\n",
       "}}\n",
       "\n",
       "// Listen for the clearing of the current output cell\n",
       "var outputEl = gd.closest('.output');\n",
       "if (outputEl) {{\n",
       "    x.observe(outputEl, {childList: true});\n",
       "}}\n",
       "\n",
       "                        })                };                });            </script>        </div>"
      ]
     },
     "metadata": {},
     "output_type": "display_data"
    }
   ],
   "source": [
    "fig = px.pie(df_시도, values='하수처리시설_개수', names='시도', title='시도별 하수처리시설 현황', labels={'시도'})\n",
    "fig.update_traces(textposition='inside', textinfo='percent+label')\n",
    "fig.show(render = 'png')"
   ]
  },
  {
   "cell_type": "markdown",
   "id": "c6e487ef-1d49-4907-aee4-caea0e69aa90",
   "metadata": {
    "id": "c6e487ef-1d49-4907-aee4-caea0e69aa90"
   },
   "source": [
    "# 3. 상관분석"
   ]
  },
  {
   "cell_type": "code",
   "execution_count": null,
   "id": "0386ee67-02a9-440e-99ba-bc45b3015ea7",
   "metadata": {
    "id": "0386ee67-02a9-440e-99ba-bc45b3015ea7"
   },
   "outputs": [],
   "source": [
    "df_cor = df.groupby(by=['시도','시군']).sum().corr()"
   ]
  },
  {
   "cell_type": "code",
   "execution_count": null,
   "id": "282720f5-5520-483e-b26c-fce6abb3a7c9",
   "metadata": {
    "id": "282720f5-5520-483e-b26c-fce6abb3a7c9",
    "outputId": "18fb5723-14cb-4f19-ce8b-75d625f14a93"
   },
   "outputs": [
    {
     "name": "stderr",
     "output_type": "stream",
     "text": [
      "C:\\Users\\Juns\\anaconda3\\lib\\site-packages\\matplotlib\\backends\\backend_agg.py:240: RuntimeWarning: Glyph 8722 missing from current font.\n",
      "  font.set_text(s, 0.0, flags=flags)\n",
      "C:\\Users\\Juns\\anaconda3\\lib\\site-packages\\matplotlib\\backends\\backend_agg.py:203: RuntimeWarning: Glyph 8722 missing from current font.\n",
      "  font.set_text(s, 0, flags=flags)\n"
     ]
    },
    {
     "data": {
      "image/png": "[encoded data removed]",
      "text/plain": [
       "<Figure size 720x576 with 2 Axes>"
      ]
     },
     "metadata": {},
     "output_type": "display_data"
    }
   ],
   "source": [
    "plt.figure(figsize=[10,8])\n",
    "\n",
    "sns.heatmap(df_cor, annot=True, cmap=plt.cm.jet)\n",
    "plt.show()"
   ]
  },
  {
   "cell_type": "code",
   "execution_count": null,
   "id": "b5d58286-e319-4295-b3a2-eb056a4cda39",
   "metadata": {
    "id": "b5d58286-e319-4295-b3a2-eb056a4cda39",
    "outputId": "edb08dda-22d6-462e-c47e-fe1b88c65e99"
   },
   "outputs": [
    {
     "data": {
      "text/html": [
       "<div>\n",
       "<style scoped>\n",
       "    .dataframe tbody tr th:only-of-type {\n",
       "        vertical-align: middle;\n",
       "    }\n",
       "\n",
       "    .dataframe tbody tr th {\n",
       "        vertical-align: top;\n",
       "    }\n",
       "\n",
       "    .dataframe thead th {\n",
       "        text-align: right;\n",
       "    }\n",
       "</style>\n",
       "<table border=\"1\" class=\"dataframe\">\n",
       "  <thead>\n",
       "    <tr style=\"text-align: right;\">\n",
       "      <th></th>\n",
       "      <th>폭염일수_2020</th>\n",
       "      <th>읍면동별_농가수</th>\n",
       "      <th>가축분뇨발생량_합계</th>\n",
       "      <th>분뇨처리량_총합계(톤)</th>\n",
       "      <th>분뇨처리량_정화방류(톤)</th>\n",
       "      <th>분뇨처리량_퇴비화(톤)</th>\n",
       "      <th>두수_소계</th>\n",
       "      <th>두수_한육우</th>\n",
       "      <th>두수_젖소</th>\n",
       "      <th>두수_말</th>\n",
       "      <th>두수_돼지</th>\n",
       "      <th>두수_닭·오리</th>\n",
       "      <th>읍면동_면적</th>\n",
       "      <th>하수처리시설_개수</th>\n",
       "      <th>분뇨처리업장_개수</th>\n",
       "      <th>읍면동_총거주자수</th>\n",
       "      <th>질병발생</th>\n",
       "    </tr>\n",
       "  </thead>\n",
       "  <tbody>\n",
       "    <tr>\n",
       "      <th>시군별_수질오염도</th>\n",
       "      <td>-0.013493</td>\n",
       "      <td>-0.051347</td>\n",
       "      <td>0.022855</td>\n",
       "      <td>0.022855</td>\n",
       "      <td>0.040577</td>\n",
       "      <td>0.026227</td>\n",
       "      <td>0.009580</td>\n",
       "      <td>-0.044909</td>\n",
       "      <td>0.127596</td>\n",
       "      <td>-0.008951</td>\n",
       "      <td>0.002292</td>\n",
       "      <td>0.002100</td>\n",
       "      <td>-0.109110</td>\n",
       "      <td>-0.126959</td>\n",
       "      <td>0.013037</td>\n",
       "      <td>0.207740</td>\n",
       "      <td>-0.025932</td>\n",
       "    </tr>\n",
       "    <tr>\n",
       "      <th>시군별_대기오염도</th>\n",
       "      <td>-0.177830</td>\n",
       "      <td>0.008152</td>\n",
       "      <td>0.212704</td>\n",
       "      <td>0.212704</td>\n",
       "      <td>0.178418</td>\n",
       "      <td>0.211703</td>\n",
       "      <td>0.205863</td>\n",
       "      <td>0.057123</td>\n",
       "      <td>0.205585</td>\n",
       "      <td>-0.061457</td>\n",
       "      <td>0.142189</td>\n",
       "      <td>0.198888</td>\n",
       "      <td>-0.211391</td>\n",
       "      <td>-0.228119</td>\n",
       "      <td>0.101407</td>\n",
       "      <td>0.292687</td>\n",
       "      <td>-0.050285</td>\n",
       "    </tr>\n",
       "    <tr>\n",
       "      <th>시군별_토양오염도</th>\n",
       "      <td>-0.030247</td>\n",
       "      <td>0.110732</td>\n",
       "      <td>0.171547</td>\n",
       "      <td>0.171547</td>\n",
       "      <td>0.096270</td>\n",
       "      <td>0.164915</td>\n",
       "      <td>0.134440</td>\n",
       "      <td>0.099837</td>\n",
       "      <td>0.066615</td>\n",
       "      <td>-0.007587</td>\n",
       "      <td>0.121310</td>\n",
       "      <td>0.139858</td>\n",
       "      <td>0.007536</td>\n",
       "      <td>0.048986</td>\n",
       "      <td>0.139529</td>\n",
       "      <td>0.108621</td>\n",
       "      <td>0.029145</td>\n",
       "    </tr>\n",
       "  </tbody>\n",
       "</table>\n",
       "</div>"
      ],
      "text/plain": [
       "           폭염일수_2020  읍면동별_농가수  가축분뇨발생량_합계  분뇨처리량_총합계(톤)  분뇨처리량_정화방류(톤)  \\\n",
       "시군별_수질오염도  -0.013493 -0.051347    0.022855      0.022855       0.040577   \n",
       "시군별_대기오염도  -0.177830  0.008152    0.212704      0.212704       0.178418   \n",
       "시군별_토양오염도  -0.030247  0.110732    0.171547      0.171547       0.096270   \n",
       "\n",
       "           분뇨처리량_퇴비화(톤)     두수_소계    두수_한육우     두수_젖소      두수_말     두수_돼지  \\\n",
       "시군별_수질오염도      0.026227  0.009580 -0.044909  0.127596 -0.008951  0.002292   \n",
       "시군별_대기오염도      0.211703  0.205863  0.057123  0.205585 -0.061457  0.142189   \n",
       "시군별_토양오염도      0.164915  0.134440  0.099837  0.066615 -0.007587  0.121310   \n",
       "\n",
       "            두수_닭·오리    읍면동_면적  하수처리시설_개수  분뇨처리업장_개수  읍면동_총거주자수      질병발생  \n",
       "시군별_수질오염도  0.002100 -0.109110  -0.126959   0.013037   0.207740 -0.025932  \n",
       "시군별_대기오염도  0.198888 -0.211391  -0.228119   0.101407   0.292687 -0.050285  \n",
       "시군별_토양오염도  0.139858  0.007536   0.048986   0.139529   0.108621  0.029145  "
      ]
     },
     "execution_count": 42,
     "metadata": {},
     "output_type": "execute_result"
    }
   ],
   "source": [
    "df_cor.iloc[:3,3:]"
   ]
  },
  {
   "cell_type": "markdown",
   "id": "1ca82c81",
   "metadata": {
    "id": "1ca82c81"
   },
   "source": [
    "# 4. 데이터 변환\n",
    "## 4.1. 로그변환"
   ]
  },
  {
   "cell_type": "code",
   "execution_count": null,
   "id": "5d678e06",
   "metadata": {
    "id": "5d678e06"
   },
   "outputs": [],
   "source": [
    "## 데이터 불러오기\n",
    "df = pd.DataFrame(pd.read_excel('C:/Users/User/Desktop/data/최종_데이터셋/최종_0932.xlsx'))"
   ]
  },
  {
   "cell_type": "code",
   "execution_count": null,
   "id": "37f2ffca",
   "metadata": {
    "id": "37f2ffca",
    "outputId": "e1c54543-505c-49c9-cc0e-9dbb052c1c39"
   },
   "outputs": [
    {
     "data": {
      "text/plain": [
       "Index(['시군코드', '시도', '시군', '폭염일수_2020', '가축분뇨발생량_합계', '분뇨처리_총합', '분뇨처리_정화',\n",
       "       '분뇨처리_퇴비', '읍면동_면적', '하수처리시설_개수', '분뇨처리업장_개수', '읍면동_총거주자수', '질병발생',\n",
       "       '시도별_가축더위지수', '강수량_2020', '가축사육종사자수', '두수_한우', '두수_돼지', '두수_닭_오리',\n",
       "       '두수_말', '두수_소계', '농가수', '농가수_면적비', '가축분뇨발생량_합계_면적비', '읍면동_총거주자수_면적비',\n",
       "       '두수_소계_면적비', '시군별_수질오염도', '시군별_대기오염도', '시군별_토양오염도'],\n",
       "      dtype='object')"
      ]
     },
     "execution_count": 4,
     "metadata": {},
     "output_type": "execute_result"
    }
   ],
   "source": [
    "df.columns"
   ]
  },
  {
   "cell_type": "code",
   "execution_count": null,
   "id": "901aa40a",
   "metadata": {
    "id": "901aa40a"
   },
   "outputs": [],
   "source": [
    "## 수질오염도가 null인 행 제거\n",
    "df = df[~df['시군별_수질오염도'].isnull()]"
   ]
  },
  {
   "cell_type": "code",
   "execution_count": null,
   "id": "5726208e",
   "metadata": {
    "id": "5726208e"
   },
   "outputs": [],
   "source": [
    "## numerical 변수를 정규분포에 가깝게 통계적 변환\n",
    "colums = df.columns[3:]\n",
    "\n",
    "for i in colums:\n",
    "    df[colums] = np.log1p(df[colums])\n",
    "\n",
    "## 표준화\n",
    "from sklearn.preprocessing import MinMaxScaler\n",
    "\n",
    "min_max = MinMaxScaler()\n",
    "df_num1 = pd.DataFrame(min_max.fit_transform(df_num))\n",
    "\n",
    "col = df_num.columns.tolist()\n",
    "df_num1.columns = col \n",
    "df_num1"
   ]
  },
  {
   "cell_type": "code",
   "execution_count": null,
   "id": "936b3141",
   "metadata": {
    "id": "936b3141"
   },
   "outputs": [],
   "source": [
    "df_num = df[['폭염일수_2020', '분뇨처리_총합', '분뇨처리_정화',\n",
    "       '분뇨처리_퇴비', '읍면동_면적', '하수처리시설_개수', '분뇨처리업장_개수', '읍면동_총거주자수', '질병발생',\n",
    "       '시도별_가축더위지수', '강수량_2020', '가축사육종사자수', '두수_한우', '두수_돼지', '두수_닭_오리',\n",
    "       '두수_말', '두수_소계', '농가수', '농가수_면적비', '가축분뇨발생량_합계_면적비', '읍면동_총거주자수_면적비', \n",
    "             '두수_소계_면적비', '시군별_수질오염도', '시군별_대기오염도', '시군별_토양오염도']]"
   ]
  },
  {
   "cell_type": "code",
   "execution_count": null,
   "id": "dddc242e",
   "metadata": {
    "id": "dddc242e",
    "outputId": "2b8d9fe4-c356-413a-c472-6a70b141b1b8"
   },
   "outputs": [
    {
     "data": {
      "text/plain": [
       "시군별_수질오염도    0.180313\n",
       "시군별_대기오염도    0.173794\n",
       "시군별_토양오염도    0.167273\n",
       "dtype: float64"
      ]
     },
     "execution_count": 8,
     "metadata": {},
     "output_type": "execute_result"
    }
   ],
   "source": [
    "df_num.corr().iloc[0:22, 22:25].abs().mean()"
   ]
  },
  {
   "cell_type": "markdown",
   "id": "LGpps43eBWld",
   "metadata": {
    "id": "LGpps43eBWld"
   },
   "source": [
    "## 4.2. 결측치 처리\n",
    "- sklearn 내장모델 활용"
   ]
  },
  {
   "cell_type": "code",
   "execution_count": null,
   "id": "a40272cb",
   "metadata": {
    "id": "a40272cb",
    "outputId": "c5aeba1a-bed7-4680-ffe7-9dd7657bad93"
   },
   "outputs": [
    {
     "data": {
      "text/html": [
       "<div>\n",
       "<style scoped>\n",
       "    .dataframe tbody tr th:only-of-type {\n",
       "        vertical-align: middle;\n",
       "    }\n",
       "\n",
       "    .dataframe tbody tr th {\n",
       "        vertical-align: top;\n",
       "    }\n",
       "\n",
       "    .dataframe thead th {\n",
       "        text-align: right;\n",
       "    }\n",
       "</style>\n",
       "<table border=\"1\" class=\"dataframe\">\n",
       "  <thead>\n",
       "    <tr style=\"text-align: right;\">\n",
       "      <th></th>\n",
       "      <th>폭염일수_2020</th>\n",
       "      <th>분뇨처리_총합</th>\n",
       "      <th>분뇨처리_정화</th>\n",
       "      <th>분뇨처리_퇴비</th>\n",
       "      <th>읍면동_면적</th>\n",
       "      <th>하수처리시설_개수</th>\n",
       "      <th>분뇨처리업장_개수</th>\n",
       "      <th>읍면동_총거주자수</th>\n",
       "      <th>질병발생</th>\n",
       "      <th>시도별_가축더위지수</th>\n",
       "      <th>...</th>\n",
       "      <th>두수_말</th>\n",
       "      <th>두수_소계</th>\n",
       "      <th>농가수</th>\n",
       "      <th>농가수_면적비</th>\n",
       "      <th>가축분뇨발생량_합계_면적비</th>\n",
       "      <th>읍면동_총거주자수_면적비</th>\n",
       "      <th>두수_소계_면적비</th>\n",
       "      <th>시군별_수질오염도</th>\n",
       "      <th>시군별_대기오염도</th>\n",
       "      <th>시군별_토양오염도</th>\n",
       "    </tr>\n",
       "  </thead>\n",
       "  <tbody>\n",
       "    <tr>\n",
       "      <th>0</th>\n",
       "      <td>2.525729</td>\n",
       "      <td>6.192005</td>\n",
       "      <td>4.493691</td>\n",
       "      <td>5.375902</td>\n",
       "      <td>20.764060</td>\n",
       "      <td>2.197225</td>\n",
       "      <td>0.000000</td>\n",
       "      <td>12.262647</td>\n",
       "      <td>0.000000</td>\n",
       "      <td>4.189655</td>\n",
       "      <td>...</td>\n",
       "      <td>3.931826</td>\n",
       "      <td>12.246197</td>\n",
       "      <td>6.431331</td>\n",
       "      <td>5.952161e-07</td>\n",
       "      <td>4.683247e-07</td>\n",
       "      <td>0.000203</td>\n",
       "      <td>0.000200</td>\n",
       "      <td>0.778177</td>\n",
       "      <td>2.726985</td>\n",
       "      <td>4.491721</td>\n",
       "    </tr>\n",
       "    <tr>\n",
       "      <th>1</th>\n",
       "      <td>2.197225</td>\n",
       "      <td>4.934630</td>\n",
       "      <td>1.298474</td>\n",
       "      <td>4.886120</td>\n",
       "      <td>20.310482</td>\n",
       "      <td>2.772589</td>\n",
       "      <td>0.000000</td>\n",
       "      <td>10.186597</td>\n",
       "      <td>1.386294</td>\n",
       "      <td>4.189655</td>\n",
       "      <td>...</td>\n",
       "      <td>2.397895</td>\n",
       "      <td>12.167046</td>\n",
       "      <td>5.697093</td>\n",
       "      <td>4.487723e-07</td>\n",
       "      <td>2.085532e-07</td>\n",
       "      <td>0.000040</td>\n",
       "      <td>0.000291</td>\n",
       "      <td>0.537662</td>\n",
       "      <td>2.657201</td>\n",
       "      <td>4.413671</td>\n",
       "    </tr>\n",
       "    <tr>\n",
       "      <th>2</th>\n",
       "      <td>0.000000</td>\n",
       "      <td>2.836883</td>\n",
       "      <td>0.000000</td>\n",
       "      <td>2.836883</td>\n",
       "      <td>19.028829</td>\n",
       "      <td>0.000000</td>\n",
       "      <td>0.000000</td>\n",
       "      <td>11.498238</td>\n",
       "      <td>0.000000</td>\n",
       "      <td>4.189655</td>\n",
       "      <td>...</td>\n",
       "      <td>0.000000</td>\n",
       "      <td>9.639457</td>\n",
       "      <td>5.673323</td>\n",
       "      <td>1.578636e-06</td>\n",
       "      <td>8.743746e-08</td>\n",
       "      <td>0.000536</td>\n",
       "      <td>0.000084</td>\n",
       "      <td>0.662688</td>\n",
       "      <td>2.848643</td>\n",
       "      <td>4.463492</td>\n",
       "    </tr>\n",
       "    <tr>\n",
       "      <th>3</th>\n",
       "      <td>1.945354</td>\n",
       "      <td>5.333728</td>\n",
       "      <td>0.000000</td>\n",
       "      <td>5.327279</td>\n",
       "      <td>20.896708</td>\n",
       "      <td>3.044522</td>\n",
       "      <td>0.000000</td>\n",
       "      <td>11.049286</td>\n",
       "      <td>0.000000</td>\n",
       "      <td>4.189655</td>\n",
       "      <td>...</td>\n",
       "      <td>3.258097</td>\n",
       "      <td>9.945445</td>\n",
       "      <td>6.335054</td>\n",
       "      <td>4.733510e-07</td>\n",
       "      <td>1.733735e-07</td>\n",
       "      <td>0.000053</td>\n",
       "      <td>0.000018</td>\n",
       "      <td>0.856116</td>\n",
       "      <td>2.634081</td>\n",
       "      <td>5.439228</td>\n",
       "    </tr>\n",
       "    <tr>\n",
       "      <th>4</th>\n",
       "      <td>1.945650</td>\n",
       "      <td>5.577816</td>\n",
       "      <td>0.000000</td>\n",
       "      <td>5.487089</td>\n",
       "      <td>20.542843</td>\n",
       "      <td>3.761200</td>\n",
       "      <td>0.000000</td>\n",
       "      <td>10.401167</td>\n",
       "      <td>0.693147</td>\n",
       "      <td>4.189655</td>\n",
       "      <td>...</td>\n",
       "      <td>0.000000</td>\n",
       "      <td>11.195100</td>\n",
       "      <td>5.958425</td>\n",
       "      <td>4.623212e-07</td>\n",
       "      <td>3.155922e-07</td>\n",
       "      <td>0.000039</td>\n",
       "      <td>0.000087</td>\n",
       "      <td>1.299374</td>\n",
       "      <td>2.886285</td>\n",
       "      <td>4.880527</td>\n",
       "    </tr>\n",
       "    <tr>\n",
       "      <th>...</th>\n",
       "      <td>...</td>\n",
       "      <td>...</td>\n",
       "      <td>...</td>\n",
       "      <td>...</td>\n",
       "      <td>...</td>\n",
       "      <td>...</td>\n",
       "      <td>...</td>\n",
       "      <td>...</td>\n",
       "      <td>...</td>\n",
       "      <td>...</td>\n",
       "      <td>...</td>\n",
       "      <td>...</td>\n",
       "      <td>...</td>\n",
       "      <td>...</td>\n",
       "      <td>...</td>\n",
       "      <td>...</td>\n",
       "      <td>...</td>\n",
       "      <td>...</td>\n",
       "      <td>...</td>\n",
       "      <td>...</td>\n",
       "      <td>...</td>\n",
       "    </tr>\n",
       "    <tr>\n",
       "      <th>200</th>\n",
       "      <td>1.961523</td>\n",
       "      <td>6.083281</td>\n",
       "      <td>0.000000</td>\n",
       "      <td>5.937111</td>\n",
       "      <td>19.815463</td>\n",
       "      <td>1.098612</td>\n",
       "      <td>0.000000</td>\n",
       "      <td>12.149195</td>\n",
       "      <td>0.693147</td>\n",
       "      <td>4.169246</td>\n",
       "      <td>...</td>\n",
       "      <td>0.000000</td>\n",
       "      <td>0.000000</td>\n",
       "      <td>0.000000</td>\n",
       "      <td>0.000000e+00</td>\n",
       "      <td>1.084419e-06</td>\n",
       "      <td>0.000468</td>\n",
       "      <td>0.000000</td>\n",
       "      <td>0.851005</td>\n",
       "      <td>2.980002</td>\n",
       "      <td>4.671894</td>\n",
       "    </tr>\n",
       "    <tr>\n",
       "      <th>201</th>\n",
       "      <td>1.961891</td>\n",
       "      <td>4.990639</td>\n",
       "      <td>0.000000</td>\n",
       "      <td>4.967599</td>\n",
       "      <td>18.674137</td>\n",
       "      <td>0.693147</td>\n",
       "      <td>0.000000</td>\n",
       "      <td>12.302618</td>\n",
       "      <td>1.791759</td>\n",
       "      <td>4.169246</td>\n",
       "      <td>...</td>\n",
       "      <td>0.000000</td>\n",
       "      <td>0.000000</td>\n",
       "      <td>0.000000</td>\n",
       "      <td>0.000000e+00</td>\n",
       "      <td>1.133361e-06</td>\n",
       "      <td>0.001708</td>\n",
       "      <td>0.000000</td>\n",
       "      <td>0.814036</td>\n",
       "      <td>3.147190</td>\n",
       "      <td>4.671894</td>\n",
       "    </tr>\n",
       "    <tr>\n",
       "      <th>202</th>\n",
       "      <td>1.961979</td>\n",
       "      <td>6.863882</td>\n",
       "      <td>0.000000</td>\n",
       "      <td>6.581999</td>\n",
       "      <td>19.185388</td>\n",
       "      <td>0.693147</td>\n",
       "      <td>0.693147</td>\n",
       "      <td>12.173146</td>\n",
       "      <td>1.609438</td>\n",
       "      <td>4.169246</td>\n",
       "      <td>...</td>\n",
       "      <td>0.000000</td>\n",
       "      <td>0.000000</td>\n",
       "      <td>0.000000</td>\n",
       "      <td>0.000000e+00</td>\n",
       "      <td>4.450234e-06</td>\n",
       "      <td>0.000900</td>\n",
       "      <td>0.000000</td>\n",
       "      <td>1.000632</td>\n",
       "      <td>3.180817</td>\n",
       "      <td>4.671894</td>\n",
       "    </tr>\n",
       "    <tr>\n",
       "      <th>203</th>\n",
       "      <td>2.833213</td>\n",
       "      <td>6.003524</td>\n",
       "      <td>0.000000</td>\n",
       "      <td>5.832926</td>\n",
       "      <td>19.083799</td>\n",
       "      <td>1.609438</td>\n",
       "      <td>0.000000</td>\n",
       "      <td>12.485634</td>\n",
       "      <td>0.000000</td>\n",
       "      <td>4.169246</td>\n",
       "      <td>...</td>\n",
       "      <td>0.000000</td>\n",
       "      <td>0.000000</td>\n",
       "      <td>0.000000</td>\n",
       "      <td>0.000000e+00</td>\n",
       "      <td>2.080819e-06</td>\n",
       "      <td>0.001362</td>\n",
       "      <td>0.000000</td>\n",
       "      <td>1.151268</td>\n",
       "      <td>3.232315</td>\n",
       "      <td>4.671894</td>\n",
       "    </tr>\n",
       "    <tr>\n",
       "      <th>204</th>\n",
       "      <td>2.197225</td>\n",
       "      <td>7.018344</td>\n",
       "      <td>5.186322</td>\n",
       "      <td>6.604694</td>\n",
       "      <td>20.705160</td>\n",
       "      <td>4.007333</td>\n",
       "      <td>0.693147</td>\n",
       "      <td>12.249271</td>\n",
       "      <td>0.693147</td>\n",
       "      <td>4.169246</td>\n",
       "      <td>...</td>\n",
       "      <td>0.000000</td>\n",
       "      <td>14.276685</td>\n",
       "      <td>6.670766</td>\n",
       "      <td>8.023973e-07</td>\n",
       "      <td>1.136324e-06</td>\n",
       "      <td>0.000213</td>\n",
       "      <td>0.001614</td>\n",
       "      <td>1.291915</td>\n",
       "      <td>3.029409</td>\n",
       "      <td>4.389002</td>\n",
       "    </tr>\n",
       "  </tbody>\n",
       "</table>\n",
       "<p>205 rows × 25 columns</p>\n",
       "</div>"
      ],
      "text/plain": [
       "     폭염일수_2020   분뇨처리_총합   분뇨처리_정화   분뇨처리_퇴비     읍면동_면적  하수처리시설_개수  분뇨처리업장_개수  \\\n",
       "0     2.525729  6.192005  4.493691  5.375902  20.764060   2.197225   0.000000   \n",
       "1     2.197225  4.934630  1.298474  4.886120  20.310482   2.772589   0.000000   \n",
       "2     0.000000  2.836883  0.000000  2.836883  19.028829   0.000000   0.000000   \n",
       "3     1.945354  5.333728  0.000000  5.327279  20.896708   3.044522   0.000000   \n",
       "4     1.945650  5.577816  0.000000  5.487089  20.542843   3.761200   0.000000   \n",
       "..         ...       ...       ...       ...        ...        ...        ...   \n",
       "200   1.961523  6.083281  0.000000  5.937111  19.815463   1.098612   0.000000   \n",
       "201   1.961891  4.990639  0.000000  4.967599  18.674137   0.693147   0.000000   \n",
       "202   1.961979  6.863882  0.000000  6.581999  19.185388   0.693147   0.693147   \n",
       "203   2.833213  6.003524  0.000000  5.832926  19.083799   1.609438   0.000000   \n",
       "204   2.197225  7.018344  5.186322  6.604694  20.705160   4.007333   0.693147   \n",
       "\n",
       "     읍면동_총거주자수      질병발생  시도별_가축더위지수  ...      두수_말      두수_소계       농가수  \\\n",
       "0    12.262647  0.000000    4.189655  ...  3.931826  12.246197  6.431331   \n",
       "1    10.186597  1.386294    4.189655  ...  2.397895  12.167046  5.697093   \n",
       "2    11.498238  0.000000    4.189655  ...  0.000000   9.639457  5.673323   \n",
       "3    11.049286  0.000000    4.189655  ...  3.258097   9.945445  6.335054   \n",
       "4    10.401167  0.693147    4.189655  ...  0.000000  11.195100  5.958425   \n",
       "..         ...       ...         ...  ...       ...        ...       ...   \n",
       "200  12.149195  0.693147    4.169246  ...  0.000000   0.000000  0.000000   \n",
       "201  12.302618  1.791759    4.169246  ...  0.000000   0.000000  0.000000   \n",
       "202  12.173146  1.609438    4.169246  ...  0.000000   0.000000  0.000000   \n",
       "203  12.485634  0.000000    4.169246  ...  0.000000   0.000000  0.000000   \n",
       "204  12.249271  0.693147    4.169246  ...  0.000000  14.276685  6.670766   \n",
       "\n",
       "          농가수_면적비  가축분뇨발생량_합계_면적비  읍면동_총거주자수_면적비  두수_소계_면적비  시군별_수질오염도  \\\n",
       "0    5.952161e-07    4.683247e-07       0.000203   0.000200   0.778177   \n",
       "1    4.487723e-07    2.085532e-07       0.000040   0.000291   0.537662   \n",
       "2    1.578636e-06    8.743746e-08       0.000536   0.000084   0.662688   \n",
       "3    4.733510e-07    1.733735e-07       0.000053   0.000018   0.856116   \n",
       "4    4.623212e-07    3.155922e-07       0.000039   0.000087   1.299374   \n",
       "..            ...             ...            ...        ...        ...   \n",
       "200  0.000000e+00    1.084419e-06       0.000468   0.000000   0.851005   \n",
       "201  0.000000e+00    1.133361e-06       0.001708   0.000000   0.814036   \n",
       "202  0.000000e+00    4.450234e-06       0.000900   0.000000   1.000632   \n",
       "203  0.000000e+00    2.080819e-06       0.001362   0.000000   1.151268   \n",
       "204  8.023973e-07    1.136324e-06       0.000213   0.001614   1.291915   \n",
       "\n",
       "     시군별_대기오염도  시군별_토양오염도  \n",
       "0     2.726985   4.491721  \n",
       "1     2.657201   4.413671  \n",
       "2     2.848643   4.463492  \n",
       "3     2.634081   5.439228  \n",
       "4     2.886285   4.880527  \n",
       "..         ...        ...  \n",
       "200   2.980002   4.671894  \n",
       "201   3.147190   4.671894  \n",
       "202   3.180817   4.671894  \n",
       "203   3.232315   4.671894  \n",
       "204   3.029409   4.389002  \n",
       "\n",
       "[205 rows x 25 columns]"
      ]
     },
     "execution_count": 9,
     "metadata": {},
     "output_type": "execute_result"
    }
   ],
   "source": [
    "df_num_col = df_num.columns.tolist()\n",
    "from sklearn.experimental import enable_iterative_imputer\n",
    "from sklearn.impute import IterativeImputer\n",
    "\n",
    "imputer = IterativeImputer(max_iter = 10, random_state = 0)\n",
    "df_num = pd.DataFrame(imputer.fit_transform(df_num))\n",
    "\n",
    "df_num.columns = df_num_col\n",
    "df_num"
   ]
  },
  {
   "cell_type": "markdown",
   "id": "rAxFtK0c_zMn",
   "metadata": {
    "id": "rAxFtK0c_zMn"
   },
   "source": [
    "## 4.3. 표준화"
   ]
  },
  {
   "cell_type": "code",
   "execution_count": null,
   "id": "1adb7cfd",
   "metadata": {
    "id": "1adb7cfd",
    "outputId": "c3233346-d8f2-4229-cbd7-383cd989db5d"
   },
   "outputs": [
    {
     "data": {
      "text/html": [
       "<div>\n",
       "<style scoped>\n",
       "    .dataframe tbody tr th:only-of-type {\n",
       "        vertical-align: middle;\n",
       "    }\n",
       "\n",
       "    .dataframe tbody tr th {\n",
       "        vertical-align: top;\n",
       "    }\n",
       "\n",
       "    .dataframe thead th {\n",
       "        text-align: right;\n",
       "    }\n",
       "</style>\n",
       "<table border=\"1\" class=\"dataframe\">\n",
       "  <thead>\n",
       "    <tr style=\"text-align: right;\">\n",
       "      <th></th>\n",
       "      <th>폭염일수_2020</th>\n",
       "      <th>분뇨처리_총합</th>\n",
       "      <th>분뇨처리_정화</th>\n",
       "      <th>분뇨처리_퇴비</th>\n",
       "      <th>읍면동_면적</th>\n",
       "      <th>하수처리시설_개수</th>\n",
       "      <th>분뇨처리업장_개수</th>\n",
       "      <th>읍면동_총거주자수</th>\n",
       "      <th>질병발생</th>\n",
       "      <th>시도별_가축더위지수</th>\n",
       "      <th>...</th>\n",
       "      <th>두수_말</th>\n",
       "      <th>두수_소계</th>\n",
       "      <th>농가수</th>\n",
       "      <th>농가수_면적비</th>\n",
       "      <th>가축분뇨발생량_합계_면적비</th>\n",
       "      <th>읍면동_총거주자수_면적비</th>\n",
       "      <th>두수_소계_면적비</th>\n",
       "      <th>시군별_수질오염도</th>\n",
       "      <th>시군별_대기오염도</th>\n",
       "      <th>시군별_토양오염도</th>\n",
       "    </tr>\n",
       "  </thead>\n",
       "  <tbody>\n",
       "    <tr>\n",
       "      <th>0</th>\n",
       "      <td>0.728771</td>\n",
       "      <td>0.737984</td>\n",
       "      <td>0.647682</td>\n",
       "      <td>0.661564</td>\n",
       "      <td>0.872753</td>\n",
       "      <td>0.520730</td>\n",
       "      <td>0.000000</td>\n",
       "      <td>0.574057</td>\n",
       "      <td>0.000000</td>\n",
       "      <td>0.553841</td>\n",
       "      <td>...</td>\n",
       "      <td>0.431014</td>\n",
       "      <td>0.760597</td>\n",
       "      <td>0.817776</td>\n",
       "      <td>0.131393</td>\n",
       "      <td>0.058740</td>\n",
       "      <td>0.007185</td>\n",
       "      <td>0.008613</td>\n",
       "      <td>0.359676</td>\n",
       "      <td>0.276697</td>\n",
       "      <td>0.324743</td>\n",
       "    </tr>\n",
       "    <tr>\n",
       "      <th>1</th>\n",
       "      <td>0.633985</td>\n",
       "      <td>0.588126</td>\n",
       "      <td>0.187151</td>\n",
       "      <td>0.601291</td>\n",
       "      <td>0.785744</td>\n",
       "      <td>0.657088</td>\n",
       "      <td>0.000000</td>\n",
       "      <td>0.029032</td>\n",
       "      <td>0.349167</td>\n",
       "      <td>0.553841</td>\n",
       "      <td>...</td>\n",
       "      <td>0.262862</td>\n",
       "      <td>0.755681</td>\n",
       "      <td>0.724414</td>\n",
       "      <td>0.099066</td>\n",
       "      <td>0.026158</td>\n",
       "      <td>0.000759</td>\n",
       "      <td>0.012525</td>\n",
       "      <td>0.248509</td>\n",
       "      <td>0.183465</td>\n",
       "      <td>0.296539</td>\n",
       "    </tr>\n",
       "    <tr>\n",
       "      <th>2</th>\n",
       "      <td>0.000000</td>\n",
       "      <td>0.338109</td>\n",
       "      <td>0.000000</td>\n",
       "      <td>0.349110</td>\n",
       "      <td>0.539888</td>\n",
       "      <td>0.000000</td>\n",
       "      <td>0.000000</td>\n",
       "      <td>0.373377</td>\n",
       "      <td>0.000000</td>\n",
       "      <td>0.553841</td>\n",
       "      <td>...</td>\n",
       "      <td>0.000000</td>\n",
       "      <td>0.598695</td>\n",
       "      <td>0.721391</td>\n",
       "      <td>0.348482</td>\n",
       "      <td>0.010967</td>\n",
       "      <td>0.020313</td>\n",
       "      <td>0.003603</td>\n",
       "      <td>0.306296</td>\n",
       "      <td>0.439234</td>\n",
       "      <td>0.314542</td>\n",
       "    </tr>\n",
       "    <tr>\n",
       "      <th>3</th>\n",
       "      <td>0.561311</td>\n",
       "      <td>0.635692</td>\n",
       "      <td>0.000000</td>\n",
       "      <td>0.655580</td>\n",
       "      <td>0.898198</td>\n",
       "      <td>0.721535</td>\n",
       "      <td>0.000000</td>\n",
       "      <td>0.255513</td>\n",
       "      <td>0.000000</td>\n",
       "      <td>0.553841</td>\n",
       "      <td>...</td>\n",
       "      <td>0.357158</td>\n",
       "      <td>0.617700</td>\n",
       "      <td>0.805534</td>\n",
       "      <td>0.104492</td>\n",
       "      <td>0.021746</td>\n",
       "      <td>0.001263</td>\n",
       "      <td>0.000756</td>\n",
       "      <td>0.395699</td>\n",
       "      <td>0.152576</td>\n",
       "      <td>0.667128</td>\n",
       "    </tr>\n",
       "    <tr>\n",
       "      <th>4</th>\n",
       "      <td>0.561396</td>\n",
       "      <td>0.664783</td>\n",
       "      <td>0.000000</td>\n",
       "      <td>0.675247</td>\n",
       "      <td>0.830317</td>\n",
       "      <td>0.891384</td>\n",
       "      <td>0.000000</td>\n",
       "      <td>0.085363</td>\n",
       "      <td>0.174583</td>\n",
       "      <td>0.553841</td>\n",
       "      <td>...</td>\n",
       "      <td>0.000000</td>\n",
       "      <td>0.695314</td>\n",
       "      <td>0.757643</td>\n",
       "      <td>0.102057</td>\n",
       "      <td>0.039584</td>\n",
       "      <td>0.000732</td>\n",
       "      <td>0.003757</td>\n",
       "      <td>0.600574</td>\n",
       "      <td>0.489524</td>\n",
       "      <td>0.465239</td>\n",
       "    </tr>\n",
       "    <tr>\n",
       "      <th>...</th>\n",
       "      <td>...</td>\n",
       "      <td>...</td>\n",
       "      <td>...</td>\n",
       "      <td>...</td>\n",
       "      <td>...</td>\n",
       "      <td>...</td>\n",
       "      <td>...</td>\n",
       "      <td>...</td>\n",
       "      <td>...</td>\n",
       "      <td>...</td>\n",
       "      <td>...</td>\n",
       "      <td>...</td>\n",
       "      <td>...</td>\n",
       "      <td>...</td>\n",
       "      <td>...</td>\n",
       "      <td>...</td>\n",
       "      <td>...</td>\n",
       "      <td>...</td>\n",
       "      <td>...</td>\n",
       "      <td>...</td>\n",
       "      <td>...</td>\n",
       "    </tr>\n",
       "    <tr>\n",
       "      <th>200</th>\n",
       "      <td>0.565976</td>\n",
       "      <td>0.725026</td>\n",
       "      <td>0.000000</td>\n",
       "      <td>0.730627</td>\n",
       "      <td>0.690786</td>\n",
       "      <td>0.260365</td>\n",
       "      <td>0.000000</td>\n",
       "      <td>0.544272</td>\n",
       "      <td>0.174583</td>\n",
       "      <td>0.323955</td>\n",
       "      <td>...</td>\n",
       "      <td>0.000000</td>\n",
       "      <td>0.000000</td>\n",
       "      <td>0.000000</td>\n",
       "      <td>0.000000</td>\n",
       "      <td>0.136015</td>\n",
       "      <td>0.017632</td>\n",
       "      <td>0.000000</td>\n",
       "      <td>0.393337</td>\n",
       "      <td>0.614731</td>\n",
       "      <td>0.389849</td>\n",
       "    </tr>\n",
       "    <tr>\n",
       "      <th>201</th>\n",
       "      <td>0.566082</td>\n",
       "      <td>0.594801</td>\n",
       "      <td>0.000000</td>\n",
       "      <td>0.611318</td>\n",
       "      <td>0.471848</td>\n",
       "      <td>0.164272</td>\n",
       "      <td>0.000000</td>\n",
       "      <td>0.584550</td>\n",
       "      <td>0.451292</td>\n",
       "      <td>0.323955</td>\n",
       "      <td>...</td>\n",
       "      <td>0.000000</td>\n",
       "      <td>0.000000</td>\n",
       "      <td>0.000000</td>\n",
       "      <td>0.000000</td>\n",
       "      <td>0.142153</td>\n",
       "      <td>0.066493</td>\n",
       "      <td>0.000000</td>\n",
       "      <td>0.376250</td>\n",
       "      <td>0.838097</td>\n",
       "      <td>0.389849</td>\n",
       "    </tr>\n",
       "    <tr>\n",
       "      <th>202</th>\n",
       "      <td>0.566108</td>\n",
       "      <td>0.818061</td>\n",
       "      <td>0.000000</td>\n",
       "      <td>0.809987</td>\n",
       "      <td>0.569920</td>\n",
       "      <td>0.164272</td>\n",
       "      <td>0.333333</td>\n",
       "      <td>0.550560</td>\n",
       "      <td>0.405370</td>\n",
       "      <td>0.323955</td>\n",
       "      <td>...</td>\n",
       "      <td>0.000000</td>\n",
       "      <td>0.000000</td>\n",
       "      <td>0.000000</td>\n",
       "      <td>0.000000</td>\n",
       "      <td>0.558176</td>\n",
       "      <td>0.034662</td>\n",
       "      <td>0.000000</td>\n",
       "      <td>0.462495</td>\n",
       "      <td>0.883024</td>\n",
       "      <td>0.389849</td>\n",
       "    </tr>\n",
       "    <tr>\n",
       "      <th>203</th>\n",
       "      <td>0.817493</td>\n",
       "      <td>0.715520</td>\n",
       "      <td>0.000000</td>\n",
       "      <td>0.717806</td>\n",
       "      <td>0.550432</td>\n",
       "      <td>0.381428</td>\n",
       "      <td>0.000000</td>\n",
       "      <td>0.632597</td>\n",
       "      <td>0.000000</td>\n",
       "      <td>0.323955</td>\n",
       "      <td>...</td>\n",
       "      <td>0.000000</td>\n",
       "      <td>0.000000</td>\n",
       "      <td>0.000000</td>\n",
       "      <td>0.000000</td>\n",
       "      <td>0.260989</td>\n",
       "      <td>0.052851</td>\n",
       "      <td>0.000000</td>\n",
       "      <td>0.532119</td>\n",
       "      <td>0.951825</td>\n",
       "      <td>0.389849</td>\n",
       "    </tr>\n",
       "    <tr>\n",
       "      <th>204</th>\n",
       "      <td>0.633985</td>\n",
       "      <td>0.836470</td>\n",
       "      <td>0.747512</td>\n",
       "      <td>0.812780</td>\n",
       "      <td>0.861454</td>\n",
       "      <td>0.949716</td>\n",
       "      <td>0.333333</td>\n",
       "      <td>0.570545</td>\n",
       "      <td>0.174583</td>\n",
       "      <td>0.323955</td>\n",
       "      <td>...</td>\n",
       "      <td>0.000000</td>\n",
       "      <td>0.886708</td>\n",
       "      <td>0.848221</td>\n",
       "      <td>0.177128</td>\n",
       "      <td>0.142525</td>\n",
       "      <td>0.007558</td>\n",
       "      <td>0.069547</td>\n",
       "      <td>0.597127</td>\n",
       "      <td>0.680740</td>\n",
       "      <td>0.287625</td>\n",
       "    </tr>\n",
       "  </tbody>\n",
       "</table>\n",
       "<p>205 rows × 25 columns</p>\n",
       "</div>"
      ],
      "text/plain": [
       "     폭염일수_2020   분뇨처리_총합   분뇨처리_정화   분뇨처리_퇴비    읍면동_면적  하수처리시설_개수  분뇨처리업장_개수  \\\n",
       "0     0.728771  0.737984  0.647682  0.661564  0.872753   0.520730   0.000000   \n",
       "1     0.633985  0.588126  0.187151  0.601291  0.785744   0.657088   0.000000   \n",
       "2     0.000000  0.338109  0.000000  0.349110  0.539888   0.000000   0.000000   \n",
       "3     0.561311  0.635692  0.000000  0.655580  0.898198   0.721535   0.000000   \n",
       "4     0.561396  0.664783  0.000000  0.675247  0.830317   0.891384   0.000000   \n",
       "..         ...       ...       ...       ...       ...        ...        ...   \n",
       "200   0.565976  0.725026  0.000000  0.730627  0.690786   0.260365   0.000000   \n",
       "201   0.566082  0.594801  0.000000  0.611318  0.471848   0.164272   0.000000   \n",
       "202   0.566108  0.818061  0.000000  0.809987  0.569920   0.164272   0.333333   \n",
       "203   0.817493  0.715520  0.000000  0.717806  0.550432   0.381428   0.000000   \n",
       "204   0.633985  0.836470  0.747512  0.812780  0.861454   0.949716   0.333333   \n",
       "\n",
       "     읍면동_총거주자수      질병발생  시도별_가축더위지수  ...      두수_말     두수_소계       농가수  \\\n",
       "0     0.574057  0.000000    0.553841  ...  0.431014  0.760597  0.817776   \n",
       "1     0.029032  0.349167    0.553841  ...  0.262862  0.755681  0.724414   \n",
       "2     0.373377  0.000000    0.553841  ...  0.000000  0.598695  0.721391   \n",
       "3     0.255513  0.000000    0.553841  ...  0.357158  0.617700  0.805534   \n",
       "4     0.085363  0.174583    0.553841  ...  0.000000  0.695314  0.757643   \n",
       "..         ...       ...         ...  ...       ...       ...       ...   \n",
       "200   0.544272  0.174583    0.323955  ...  0.000000  0.000000  0.000000   \n",
       "201   0.584550  0.451292    0.323955  ...  0.000000  0.000000  0.000000   \n",
       "202   0.550560  0.405370    0.323955  ...  0.000000  0.000000  0.000000   \n",
       "203   0.632597  0.000000    0.323955  ...  0.000000  0.000000  0.000000   \n",
       "204   0.570545  0.174583    0.323955  ...  0.000000  0.886708  0.848221   \n",
       "\n",
       "      농가수_면적비  가축분뇨발생량_합계_면적비  읍면동_총거주자수_면적비  두수_소계_면적비  시군별_수질오염도  시군별_대기오염도  \\\n",
       "0    0.131393        0.058740       0.007185   0.008613   0.359676   0.276697   \n",
       "1    0.099066        0.026158       0.000759   0.012525   0.248509   0.183465   \n",
       "2    0.348482        0.010967       0.020313   0.003603   0.306296   0.439234   \n",
       "3    0.104492        0.021746       0.001263   0.000756   0.395699   0.152576   \n",
       "4    0.102057        0.039584       0.000732   0.003757   0.600574   0.489524   \n",
       "..        ...             ...            ...        ...        ...        ...   \n",
       "200  0.000000        0.136015       0.017632   0.000000   0.393337   0.614731   \n",
       "201  0.000000        0.142153       0.066493   0.000000   0.376250   0.838097   \n",
       "202  0.000000        0.558176       0.034662   0.000000   0.462495   0.883024   \n",
       "203  0.000000        0.260989       0.052851   0.000000   0.532119   0.951825   \n",
       "204  0.177128        0.142525       0.007558   0.069547   0.597127   0.680740   \n",
       "\n",
       "     시군별_토양오염도  \n",
       "0     0.324743  \n",
       "1     0.296539  \n",
       "2     0.314542  \n",
       "3     0.667128  \n",
       "4     0.465239  \n",
       "..         ...  \n",
       "200   0.389849  \n",
       "201   0.389849  \n",
       "202   0.389849  \n",
       "203   0.389849  \n",
       "204   0.287625  \n",
       "\n",
       "[205 rows x 25 columns]"
      ]
     },
     "execution_count": 10,
     "metadata": {},
     "output_type": "execute_result"
    }
   ],
   "source": [
    "from sklearn.preprocessing import MinMaxScaler\n",
    "\n",
    "min_max = MinMaxScaler()\n",
    "df_num1 = pd.DataFrame(min_max.fit_transform(df_num))\n",
    "\n",
    "col = df_num.columns.tolist()\n",
    "df_num1.columns = col \n",
    "df_num1"
   ]
  },
  {
   "cell_type": "code",
   "execution_count": null,
   "id": "e02eb1d9",
   "metadata": {
    "id": "e02eb1d9",
    "outputId": "8d6605b7-2b3a-4a51-ed16-0bed1cca43e5"
   },
   "outputs": [
    {
     "data": {
      "text/html": [
       "<div>\n",
       "<style scoped>\n",
       "    .dataframe tbody tr th:only-of-type {\n",
       "        vertical-align: middle;\n",
       "    }\n",
       "\n",
       "    .dataframe tbody tr th {\n",
       "        vertical-align: top;\n",
       "    }\n",
       "\n",
       "    .dataframe thead th {\n",
       "        text-align: right;\n",
       "    }\n",
       "</style>\n",
       "<table border=\"1\" class=\"dataframe\">\n",
       "  <thead>\n",
       "    <tr style=\"text-align: right;\">\n",
       "      <th></th>\n",
       "      <th>폭염일수_2020</th>\n",
       "      <th>분뇨처리_총합</th>\n",
       "      <th>분뇨처리_정화</th>\n",
       "      <th>분뇨처리_퇴비</th>\n",
       "      <th>읍면동_면적</th>\n",
       "      <th>하수처리시설_개수</th>\n",
       "      <th>분뇨처리업장_개수</th>\n",
       "      <th>읍면동_총거주자수</th>\n",
       "      <th>질병발생</th>\n",
       "      <th>시도별_가축더위지수</th>\n",
       "      <th>...</th>\n",
       "      <th>두수_소계</th>\n",
       "      <th>농가수</th>\n",
       "      <th>농가수_면적비</th>\n",
       "      <th>가축분뇨발생량_합계_면적비</th>\n",
       "      <th>읍면동_총거주자수_면적비</th>\n",
       "      <th>두수_소계_면적비</th>\n",
       "      <th>시군별_수질오염도</th>\n",
       "      <th>시군별_대기오염도</th>\n",
       "      <th>시군별_토양오염도</th>\n",
       "      <th>sum</th>\n",
       "    </tr>\n",
       "  </thead>\n",
       "  <tbody>\n",
       "    <tr>\n",
       "      <th>0</th>\n",
       "      <td>0.728771</td>\n",
       "      <td>0.737984</td>\n",
       "      <td>0.647682</td>\n",
       "      <td>0.661564</td>\n",
       "      <td>0.872753</td>\n",
       "      <td>0.520730</td>\n",
       "      <td>0.000000</td>\n",
       "      <td>0.574057</td>\n",
       "      <td>0.000000</td>\n",
       "      <td>0.553841</td>\n",
       "      <td>...</td>\n",
       "      <td>0.760597</td>\n",
       "      <td>0.817776</td>\n",
       "      <td>0.131393</td>\n",
       "      <td>0.058740</td>\n",
       "      <td>0.007185</td>\n",
       "      <td>0.008613</td>\n",
       "      <td>0.359676</td>\n",
       "      <td>0.276697</td>\n",
       "      <td>0.324743</td>\n",
       "      <td>0.961116</td>\n",
       "    </tr>\n",
       "    <tr>\n",
       "      <th>1</th>\n",
       "      <td>0.633985</td>\n",
       "      <td>0.588126</td>\n",
       "      <td>0.187151</td>\n",
       "      <td>0.601291</td>\n",
       "      <td>0.785744</td>\n",
       "      <td>0.657088</td>\n",
       "      <td>0.000000</td>\n",
       "      <td>0.029032</td>\n",
       "      <td>0.349167</td>\n",
       "      <td>0.553841</td>\n",
       "      <td>...</td>\n",
       "      <td>0.755681</td>\n",
       "      <td>0.724414</td>\n",
       "      <td>0.099066</td>\n",
       "      <td>0.026158</td>\n",
       "      <td>0.000759</td>\n",
       "      <td>0.012525</td>\n",
       "      <td>0.248509</td>\n",
       "      <td>0.183465</td>\n",
       "      <td>0.296539</td>\n",
       "      <td>0.728513</td>\n",
       "    </tr>\n",
       "    <tr>\n",
       "      <th>2</th>\n",
       "      <td>0.000000</td>\n",
       "      <td>0.338109</td>\n",
       "      <td>0.000000</td>\n",
       "      <td>0.349110</td>\n",
       "      <td>0.539888</td>\n",
       "      <td>0.000000</td>\n",
       "      <td>0.000000</td>\n",
       "      <td>0.373377</td>\n",
       "      <td>0.000000</td>\n",
       "      <td>0.553841</td>\n",
       "      <td>...</td>\n",
       "      <td>0.598695</td>\n",
       "      <td>0.721391</td>\n",
       "      <td>0.348482</td>\n",
       "      <td>0.010967</td>\n",
       "      <td>0.020313</td>\n",
       "      <td>0.003603</td>\n",
       "      <td>0.306296</td>\n",
       "      <td>0.439234</td>\n",
       "      <td>0.314542</td>\n",
       "      <td>1.060072</td>\n",
       "    </tr>\n",
       "    <tr>\n",
       "      <th>3</th>\n",
       "      <td>0.561311</td>\n",
       "      <td>0.635692</td>\n",
       "      <td>0.000000</td>\n",
       "      <td>0.655580</td>\n",
       "      <td>0.898198</td>\n",
       "      <td>0.721535</td>\n",
       "      <td>0.000000</td>\n",
       "      <td>0.255513</td>\n",
       "      <td>0.000000</td>\n",
       "      <td>0.553841</td>\n",
       "      <td>...</td>\n",
       "      <td>0.617700</td>\n",
       "      <td>0.805534</td>\n",
       "      <td>0.104492</td>\n",
       "      <td>0.021746</td>\n",
       "      <td>0.001263</td>\n",
       "      <td>0.000756</td>\n",
       "      <td>0.395699</td>\n",
       "      <td>0.152576</td>\n",
       "      <td>0.667128</td>\n",
       "      <td>1.215403</td>\n",
       "    </tr>\n",
       "    <tr>\n",
       "      <th>4</th>\n",
       "      <td>0.561396</td>\n",
       "      <td>0.664783</td>\n",
       "      <td>0.000000</td>\n",
       "      <td>0.675247</td>\n",
       "      <td>0.830317</td>\n",
       "      <td>0.891384</td>\n",
       "      <td>0.000000</td>\n",
       "      <td>0.085363</td>\n",
       "      <td>0.174583</td>\n",
       "      <td>0.553841</td>\n",
       "      <td>...</td>\n",
       "      <td>0.695314</td>\n",
       "      <td>0.757643</td>\n",
       "      <td>0.102057</td>\n",
       "      <td>0.039584</td>\n",
       "      <td>0.000732</td>\n",
       "      <td>0.003757</td>\n",
       "      <td>0.600574</td>\n",
       "      <td>0.489524</td>\n",
       "      <td>0.465239</td>\n",
       "      <td>1.555337</td>\n",
       "    </tr>\n",
       "    <tr>\n",
       "      <th>...</th>\n",
       "      <td>...</td>\n",
       "      <td>...</td>\n",
       "      <td>...</td>\n",
       "      <td>...</td>\n",
       "      <td>...</td>\n",
       "      <td>...</td>\n",
       "      <td>...</td>\n",
       "      <td>...</td>\n",
       "      <td>...</td>\n",
       "      <td>...</td>\n",
       "      <td>...</td>\n",
       "      <td>...</td>\n",
       "      <td>...</td>\n",
       "      <td>...</td>\n",
       "      <td>...</td>\n",
       "      <td>...</td>\n",
       "      <td>...</td>\n",
       "      <td>...</td>\n",
       "      <td>...</td>\n",
       "      <td>...</td>\n",
       "      <td>...</td>\n",
       "    </tr>\n",
       "    <tr>\n",
       "      <th>200</th>\n",
       "      <td>0.565976</td>\n",
       "      <td>0.725026</td>\n",
       "      <td>0.000000</td>\n",
       "      <td>0.730627</td>\n",
       "      <td>0.690786</td>\n",
       "      <td>0.260365</td>\n",
       "      <td>0.000000</td>\n",
       "      <td>0.544272</td>\n",
       "      <td>0.174583</td>\n",
       "      <td>0.323955</td>\n",
       "      <td>...</td>\n",
       "      <td>0.000000</td>\n",
       "      <td>0.000000</td>\n",
       "      <td>0.000000</td>\n",
       "      <td>0.136015</td>\n",
       "      <td>0.017632</td>\n",
       "      <td>0.000000</td>\n",
       "      <td>0.393337</td>\n",
       "      <td>0.614731</td>\n",
       "      <td>0.389849</td>\n",
       "      <td>1.397917</td>\n",
       "    </tr>\n",
       "    <tr>\n",
       "      <th>201</th>\n",
       "      <td>0.566082</td>\n",
       "      <td>0.594801</td>\n",
       "      <td>0.000000</td>\n",
       "      <td>0.611318</td>\n",
       "      <td>0.471848</td>\n",
       "      <td>0.164272</td>\n",
       "      <td>0.000000</td>\n",
       "      <td>0.584550</td>\n",
       "      <td>0.451292</td>\n",
       "      <td>0.323955</td>\n",
       "      <td>...</td>\n",
       "      <td>0.000000</td>\n",
       "      <td>0.000000</td>\n",
       "      <td>0.000000</td>\n",
       "      <td>0.142153</td>\n",
       "      <td>0.066493</td>\n",
       "      <td>0.000000</td>\n",
       "      <td>0.376250</td>\n",
       "      <td>0.838097</td>\n",
       "      <td>0.389849</td>\n",
       "      <td>1.604196</td>\n",
       "    </tr>\n",
       "    <tr>\n",
       "      <th>202</th>\n",
       "      <td>0.566108</td>\n",
       "      <td>0.818061</td>\n",
       "      <td>0.000000</td>\n",
       "      <td>0.809987</td>\n",
       "      <td>0.569920</td>\n",
       "      <td>0.164272</td>\n",
       "      <td>0.333333</td>\n",
       "      <td>0.550560</td>\n",
       "      <td>0.405370</td>\n",
       "      <td>0.323955</td>\n",
       "      <td>...</td>\n",
       "      <td>0.000000</td>\n",
       "      <td>0.000000</td>\n",
       "      <td>0.000000</td>\n",
       "      <td>0.558176</td>\n",
       "      <td>0.034662</td>\n",
       "      <td>0.000000</td>\n",
       "      <td>0.462495</td>\n",
       "      <td>0.883024</td>\n",
       "      <td>0.389849</td>\n",
       "      <td>1.735367</td>\n",
       "    </tr>\n",
       "    <tr>\n",
       "      <th>203</th>\n",
       "      <td>0.817493</td>\n",
       "      <td>0.715520</td>\n",
       "      <td>0.000000</td>\n",
       "      <td>0.717806</td>\n",
       "      <td>0.550432</td>\n",
       "      <td>0.381428</td>\n",
       "      <td>0.000000</td>\n",
       "      <td>0.632597</td>\n",
       "      <td>0.000000</td>\n",
       "      <td>0.323955</td>\n",
       "      <td>...</td>\n",
       "      <td>0.000000</td>\n",
       "      <td>0.000000</td>\n",
       "      <td>0.000000</td>\n",
       "      <td>0.260989</td>\n",
       "      <td>0.052851</td>\n",
       "      <td>0.000000</td>\n",
       "      <td>0.532119</td>\n",
       "      <td>0.951825</td>\n",
       "      <td>0.389849</td>\n",
       "      <td>1.873792</td>\n",
       "    </tr>\n",
       "    <tr>\n",
       "      <th>204</th>\n",
       "      <td>0.633985</td>\n",
       "      <td>0.836470</td>\n",
       "      <td>0.747512</td>\n",
       "      <td>0.812780</td>\n",
       "      <td>0.861454</td>\n",
       "      <td>0.949716</td>\n",
       "      <td>0.333333</td>\n",
       "      <td>0.570545</td>\n",
       "      <td>0.174583</td>\n",
       "      <td>0.323955</td>\n",
       "      <td>...</td>\n",
       "      <td>0.886708</td>\n",
       "      <td>0.848221</td>\n",
       "      <td>0.177128</td>\n",
       "      <td>0.142525</td>\n",
       "      <td>0.007558</td>\n",
       "      <td>0.069547</td>\n",
       "      <td>0.597127</td>\n",
       "      <td>0.680740</td>\n",
       "      <td>0.287625</td>\n",
       "      <td>1.565491</td>\n",
       "    </tr>\n",
       "  </tbody>\n",
       "</table>\n",
       "<p>205 rows × 26 columns</p>\n",
       "</div>"
      ],
      "text/plain": [
       "     폭염일수_2020   분뇨처리_총합   분뇨처리_정화   분뇨처리_퇴비    읍면동_면적  하수처리시설_개수  분뇨처리업장_개수  \\\n",
       "0     0.728771  0.737984  0.647682  0.661564  0.872753   0.520730   0.000000   \n",
       "1     0.633985  0.588126  0.187151  0.601291  0.785744   0.657088   0.000000   \n",
       "2     0.000000  0.338109  0.000000  0.349110  0.539888   0.000000   0.000000   \n",
       "3     0.561311  0.635692  0.000000  0.655580  0.898198   0.721535   0.000000   \n",
       "4     0.561396  0.664783  0.000000  0.675247  0.830317   0.891384   0.000000   \n",
       "..         ...       ...       ...       ...       ...        ...        ...   \n",
       "200   0.565976  0.725026  0.000000  0.730627  0.690786   0.260365   0.000000   \n",
       "201   0.566082  0.594801  0.000000  0.611318  0.471848   0.164272   0.000000   \n",
       "202   0.566108  0.818061  0.000000  0.809987  0.569920   0.164272   0.333333   \n",
       "203   0.817493  0.715520  0.000000  0.717806  0.550432   0.381428   0.000000   \n",
       "204   0.633985  0.836470  0.747512  0.812780  0.861454   0.949716   0.333333   \n",
       "\n",
       "     읍면동_총거주자수      질병발생  시도별_가축더위지수  ...     두수_소계       농가수   농가수_면적비  \\\n",
       "0     0.574057  0.000000    0.553841  ...  0.760597  0.817776  0.131393   \n",
       "1     0.029032  0.349167    0.553841  ...  0.755681  0.724414  0.099066   \n",
       "2     0.373377  0.000000    0.553841  ...  0.598695  0.721391  0.348482   \n",
       "3     0.255513  0.000000    0.553841  ...  0.617700  0.805534  0.104492   \n",
       "4     0.085363  0.174583    0.553841  ...  0.695314  0.757643  0.102057   \n",
       "..         ...       ...         ...  ...       ...       ...       ...   \n",
       "200   0.544272  0.174583    0.323955  ...  0.000000  0.000000  0.000000   \n",
       "201   0.584550  0.451292    0.323955  ...  0.000000  0.000000  0.000000   \n",
       "202   0.550560  0.405370    0.323955  ...  0.000000  0.000000  0.000000   \n",
       "203   0.632597  0.000000    0.323955  ...  0.000000  0.000000  0.000000   \n",
       "204   0.570545  0.174583    0.323955  ...  0.886708  0.848221  0.177128   \n",
       "\n",
       "     가축분뇨발생량_합계_면적비  읍면동_총거주자수_면적비  두수_소계_면적비  시군별_수질오염도  시군별_대기오염도  \\\n",
       "0          0.058740       0.007185   0.008613   0.359676   0.276697   \n",
       "1          0.026158       0.000759   0.012525   0.248509   0.183465   \n",
       "2          0.010967       0.020313   0.003603   0.306296   0.439234   \n",
       "3          0.021746       0.001263   0.000756   0.395699   0.152576   \n",
       "4          0.039584       0.000732   0.003757   0.600574   0.489524   \n",
       "..              ...            ...        ...        ...        ...   \n",
       "200        0.136015       0.017632   0.000000   0.393337   0.614731   \n",
       "201        0.142153       0.066493   0.000000   0.376250   0.838097   \n",
       "202        0.558176       0.034662   0.000000   0.462495   0.883024   \n",
       "203        0.260989       0.052851   0.000000   0.532119   0.951825   \n",
       "204        0.142525       0.007558   0.069547   0.597127   0.680740   \n",
       "\n",
       "     시군별_토양오염도       sum  \n",
       "0     0.324743  0.961116  \n",
       "1     0.296539  0.728513  \n",
       "2     0.314542  1.060072  \n",
       "3     0.667128  1.215403  \n",
       "4     0.465239  1.555337  \n",
       "..         ...       ...  \n",
       "200   0.389849  1.397917  \n",
       "201   0.389849  1.604196  \n",
       "202   0.389849  1.735367  \n",
       "203   0.389849  1.873792  \n",
       "204   0.287625  1.565491  \n",
       "\n",
       "[205 rows x 26 columns]"
      ]
     },
     "execution_count": 11,
     "metadata": {},
     "output_type": "execute_result"
    }
   ],
   "source": [
    "df_num1['sum'] = df_num1['시군별_토양오염도'] + df_num1['시군별_대기오염도'] + df_num1['시군별_수질오염도'] \n",
    "df_num1"
   ]
  },
  {
   "cell_type": "code",
   "execution_count": null,
   "id": "b18f99a2",
   "metadata": {
    "id": "b18f99a2"
   },
   "outputs": [],
   "source": [
    "df_종속 = df_num1[['시군별_대기오염도', '시군별_토양오염도', '시군별_수질오염도','sum']]\n",
    "df_num1 = df_num1.drop(columns=['시군별_대기오염도', '시군별_토양오염도', '시군별_수질오염도', 'sum', '농가수'])"
   ]
  },
  {
   "cell_type": "markdown",
   "id": "9a24a02a",
   "metadata": {
    "id": "9a24a02a"
   },
   "source": [
    "##  4.4. 변수 선택"
   ]
  },
  {
   "cell_type": "code",
   "execution_count": null,
   "id": "e9fe1f82",
   "metadata": {
    "code_folding": [
     12
    ],
    "id": "e9fe1f82"
   },
   "outputs": [],
   "source": [
    "import statsmodels.api as sm\n",
    "variables = df_num1.columns.tolist() ## 설명 변수 리스트\n",
    " \n",
    "y = df_종속['sum'] ## 반응 변수\n",
    "selected_variables = [] ## 선택된 변수들\n",
    "sl_enter = 0.05\n",
    "sl_remove = 0.05\n",
    " \n",
    "sv_per_step = [] ## 각 스텝별로 선택된 변수들\n",
    "adjusted_r_squared = [] ## 각 스텝별 수정된 결정계수\n",
    "steps = [] ## 스텝\n",
    "step = 0\n",
    "while len(variables) > 0:\n",
    "    remainder = list(set(variables) - set(selected_variables))\n",
    "    pval = pd.Series(index=remainder) ## 변수의 p-value\n",
    "    ## 기존에 포함된 변수와 새로운 변수 하나씩 돌아가면서 \n",
    "    ## 선형 모형을 적합한다.\n",
    "    for col in remainder: \n",
    "        X = df_num1[selected_variables+[col]]\n",
    "        X = sm.add_constant(X)\n",
    "        model = sm.OLS(y,X).fit()\n",
    "        pval[col] = model.pvalues[col]\n",
    " \n",
    "    min_pval = pval.min()\n",
    "    if min_pval < sl_enter: ## 최소 p-value 값이 기준 값보다 작으면 포함\n",
    "        selected_variables.append(pval.idxmin())\n",
    "        ## 선택된 변수들에대해서\n",
    "        ## 어떤 변수를 제거할지 고른다.\n",
    "        while len(selected_variables) > 0:\n",
    "            selected_X = df_num1[selected_variables]\n",
    "            selected_X = sm.add_constant(selected_X)\n",
    "            selected_pval = sm.OLS(y,selected_X).fit().pvalues[1:] ## 절편항의 p-value는 뺀다\n",
    "            max_pval = selected_pval.max()\n",
    "            if max_pval >= sl_remove: ## 최대 p-value값이 기준값보다 크거나 같으면 제외\n",
    "                remove_variable = selected_pval.idxmax()\n",
    "                selected_variables.remove(remove_variable)\n",
    "            else:\n",
    "                break\n",
    "        \n",
    "        step += 1\n",
    "        steps.append(step)\n",
    "        adj_r_squared = sm.OLS(y,sm.add_constant(df_num1[selected_variables])).fit().rsquared_adj\n",
    "        adjusted_r_squared.append(adj_r_squared)\n",
    "        sv_per_step.append(selected_variables.copy())\n",
    "    else:\n",
    "        break"
   ]
  },
  {
   "cell_type": "code",
   "execution_count": null,
   "id": "9c3e1169",
   "metadata": {
    "id": "9c3e1169",
    "outputId": "96a6ceb9-1452-45f8-c0b6-c05195aec95c"
   },
   "outputs": [
    {
     "data": {
      "text/plain": [
       "['시도별_가축더위지수',\n",
       " '읍면동_총거주자수',\n",
       " '가축분뇨발생량_합계_면적비',\n",
       " '가축사육종사자수',\n",
       " '분뇨처리업장_개수',\n",
       " '분뇨처리_정화']"
      ]
     },
     "execution_count": 14,
     "metadata": {},
     "output_type": "execute_result"
    }
   ],
   "source": [
    "selected_variables"
   ]
  },
  {
   "cell_type": "code",
   "execution_count": null,
   "id": "123ea72e",
   "metadata": {
    "id": "123ea72e",
    "outputId": "be4bc03f-6b13-49e9-a46e-da87dfdb60ed"
   },
   "outputs": [
    {
     "data": {
      "image/png": "[encoded data removed]",
      "text/plain": [
       "<Figure size 720x720 with 1 Axes>"
      ]
     },
     "metadata": {},
     "output_type": "display_data"
    }
   ],
   "source": [
    "# step별 결정계수 변화 확인\n",
    "import matplotlib.pyplot as plt\n",
    "fig = plt.figure(figsize=(10,10))\n",
    "fig.set_facecolor('white')\n",
    " \n",
    "font_size = 15\n",
    "plt.xticks(steps,[f'step {s}\\n'+'\\n'.join(sv_per_step[i]) for i,s in enumerate(steps)], fontsize=12)\n",
    "plt.plot(steps,adjusted_r_squared, marker='o')\n",
    "    \n",
    "plt.ylabel('Adjusted R Squared',fontsize=font_size)\n",
    "plt.grid(True)\n",
    "plt.show()"
   ]
  },
  {
   "cell_type": "code",
   "execution_count": null,
   "id": "1a4ca065",
   "metadata": {
    "id": "1a4ca065",
    "outputId": "f07ea481-8135-4454-9bd1-d3358d14a299"
   },
   "outputs": [
    {
     "data": {
      "text/html": [
       "<table class=\"simpletable\">\n",
       "<caption>OLS Regression Results</caption>\n",
       "<tr>\n",
       "  <th>Dep. Variable:</th>           <td>sum</td>       <th>  R-squared:         </th> <td>   0.533</td>\n",
       "</tr>\n",
       "<tr>\n",
       "  <th>Model:</th>                   <td>OLS</td>       <th>  Adj. R-squared:    </th> <td>   0.519</td>\n",
       "</tr>\n",
       "<tr>\n",
       "  <th>Method:</th>             <td>Least Squares</td>  <th>  F-statistic:       </th> <td>   37.66</td>\n",
       "</tr>\n",
       "<tr>\n",
       "  <th>Date:</th>             <td>Mon, 10 Oct 2022</td> <th>  Prob (F-statistic):</th> <td>2.69e-30</td>\n",
       "</tr>\n",
       "<tr>\n",
       "  <th>Time:</th>                 <td>17:51:43</td>     <th>  Log-Likelihood:    </th> <td> -33.389</td>\n",
       "</tr>\n",
       "<tr>\n",
       "  <th>No. Observations:</th>      <td>   205</td>      <th>  AIC:               </th> <td>   80.78</td>\n",
       "</tr>\n",
       "<tr>\n",
       "  <th>Df Residuals:</th>          <td>   198</td>      <th>  BIC:               </th> <td>   104.0</td>\n",
       "</tr>\n",
       "<tr>\n",
       "  <th>Df Model:</th>              <td>     6</td>      <th>                     </th>     <td> </td>   \n",
       "</tr>\n",
       "<tr>\n",
       "  <th>Covariance Type:</th>      <td>nonrobust</td>    <th>                     </th>     <td> </td>   \n",
       "</tr>\n",
       "</table>\n",
       "<table class=\"simpletable\">\n",
       "<tr>\n",
       "         <td></td>           <th>coef</th>     <th>std err</th>      <th>t</th>      <th>P>|t|</th>  <th>[0.025</th>    <th>0.975]</th>  \n",
       "</tr>\n",
       "<tr>\n",
       "  <th>const</th>          <td>   31.9591</td> <td>    4.957</td> <td>    6.447</td> <td> 0.000</td> <td>   22.184</td> <td>   41.734</td>\n",
       "</tr>\n",
       "<tr>\n",
       "  <th>시도별_가축더위지수</th>     <td>   -7.6110</td> <td>    1.172</td> <td>   -6.494</td> <td> 0.000</td> <td>   -9.922</td> <td>   -5.300</td>\n",
       "</tr>\n",
       "<tr>\n",
       "  <th>읍면동_총거주자수</th>      <td>    0.1391</td> <td>    0.025</td> <td>    5.528</td> <td> 0.000</td> <td>    0.090</td> <td>    0.189</td>\n",
       "</tr>\n",
       "<tr>\n",
       "  <th>가축분뇨발생량_합계_면적비</th> <td> 8.569e+04</td> <td> 2.08e+04</td> <td>    4.129</td> <td> 0.000</td> <td> 4.48e+04</td> <td> 1.27e+05</td>\n",
       "</tr>\n",
       "<tr>\n",
       "  <th>가축사육종사자수</th>       <td>   -0.0834</td> <td>    0.019</td> <td>   -4.381</td> <td> 0.000</td> <td>   -0.121</td> <td>   -0.046</td>\n",
       "</tr>\n",
       "<tr>\n",
       "  <th>분뇨처리업장_개수</th>      <td>    0.1123</td> <td>    0.041</td> <td>    2.751</td> <td> 0.006</td> <td>    0.032</td> <td>    0.193</td>\n",
       "</tr>\n",
       "<tr>\n",
       "  <th>분뇨처리_정화</th>        <td>    0.0240</td> <td>    0.012</td> <td>    2.031</td> <td> 0.044</td> <td>    0.001</td> <td>    0.047</td>\n",
       "</tr>\n",
       "</table>\n",
       "<table class=\"simpletable\">\n",
       "<tr>\n",
       "  <th>Omnibus:</th>       <td> 1.863</td> <th>  Durbin-Watson:     </th> <td>   1.994</td>\n",
       "</tr>\n",
       "<tr>\n",
       "  <th>Prob(Omnibus):</th> <td> 0.394</td> <th>  Jarque-Bera (JB):  </th> <td>   1.579</td>\n",
       "</tr>\n",
       "<tr>\n",
       "  <th>Skew:</th>          <td>-0.065</td> <th>  Prob(JB):          </th> <td>   0.454</td>\n",
       "</tr>\n",
       "<tr>\n",
       "  <th>Kurtosis:</th>      <td> 2.590</td> <th>  Cond. No.          </th> <td>1.39e+07</td>\n",
       "</tr>\n",
       "</table><br/><br/>Notes:<br/>[1] Standard Errors assume that the covariance matrix of the errors is correctly specified.<br/>[2] The condition number is large, 1.39e+07. This might indicate that there are<br/>strong multicollinearity or other numerical problems."
      ],
      "text/plain": [
       "<class 'statsmodels.iolib.summary.Summary'>\n",
       "\"\"\"\n",
       "                            OLS Regression Results                            \n",
       "==============================================================================\n",
       "Dep. Variable:                    sum   R-squared:                       0.533\n",
       "Model:                            OLS   Adj. R-squared:                  0.519\n",
       "Method:                 Least Squares   F-statistic:                     37.66\n",
       "Date:                Mon, 10 Oct 2022   Prob (F-statistic):           2.69e-30\n",
       "Time:                        17:51:43   Log-Likelihood:                -33.389\n",
       "No. Observations:                 205   AIC:                             80.78\n",
       "Df Residuals:                     198   BIC:                             104.0\n",
       "Df Model:                           6                                         \n",
       "Covariance Type:            nonrobust                                         \n",
       "==================================================================================\n",
       "                     coef    std err          t      P>|t|      [0.025      0.975]\n",
       "----------------------------------------------------------------------------------\n",
       "const             31.9591      4.957      6.447      0.000      22.184      41.734\n",
       "시도별_가축더위지수        -7.6110      1.172     -6.494      0.000      -9.922      -5.300\n",
       "읍면동_총거주자수          0.1391      0.025      5.528      0.000       0.090       0.189\n",
       "가축분뇨발생량_합계_면적비  8.569e+04   2.08e+04      4.129      0.000    4.48e+04    1.27e+05\n",
       "가축사육종사자수          -0.0834      0.019     -4.381      0.000      -0.121      -0.046\n",
       "분뇨처리업장_개수          0.1123      0.041      2.751      0.006       0.032       0.193\n",
       "분뇨처리_정화            0.0240      0.012      2.031      0.044       0.001       0.047\n",
       "==============================================================================\n",
       "Omnibus:                        1.863   Durbin-Watson:                   1.994\n",
       "Prob(Omnibus):                  0.394   Jarque-Bera (JB):                1.579\n",
       "Skew:                          -0.065   Prob(JB):                        0.454\n",
       "Kurtosis:                       2.590   Cond. No.                     1.39e+07\n",
       "==============================================================================\n",
       "\n",
       "Notes:\n",
       "[1] Standard Errors assume that the covariance matrix of the errors is correctly specified.\n",
       "[2] The condition number is large, 1.39e+07. This might indicate that there are\n",
       "strong multicollinearity or other numerical problems.\n",
       "\"\"\""
      ]
     },
     "execution_count": 16,
     "metadata": {},
     "output_type": "execute_result"
    }
   ],
   "source": [
    "model = sm.OLS(y, sm.add_constant(pd.DataFrame(df_num[selected_variables]))).fit(disp=0)\n",
    "model.summary()"
   ]
  },
  {
   "cell_type": "markdown",
   "id": "bbe1eac2",
   "metadata": {
    "id": "bbe1eac2"
   },
   "source": [
    "# 5. 지수산출\n",
    "- 회귀계수를 가중치로 활용"
   ]
  },
  {
   "cell_type": "code",
   "execution_count": null,
   "id": "c27b182d",
   "metadata": {
    "id": "c27b182d"
   },
   "outputs": [],
   "source": [
    "new = df_num1[['시도별_가축더위지수', '읍면동_총거주자수', '가축분뇨발생량_합계_면적비', \n",
    "               '가축사육종사자수', '분뇨처리업장_개수', '분뇨처리_정화']]"
   ]
  },
  {
   "cell_type": "code",
   "execution_count": null,
   "id": "92b92b9a",
   "metadata": {
    "id": "92b92b9a",
    "outputId": "f502cb76-0674-43b3-a2de-4837e740a362"
   },
   "outputs": [
    {
     "data": {
      "text/html": [
       "<div>\n",
       "<style scoped>\n",
       "    .dataframe tbody tr th:only-of-type {\n",
       "        vertical-align: middle;\n",
       "    }\n",
       "\n",
       "    .dataframe tbody tr th {\n",
       "        vertical-align: top;\n",
       "    }\n",
       "\n",
       "    .dataframe thead th {\n",
       "        text-align: right;\n",
       "    }\n",
       "</style>\n",
       "<table border=\"1\" class=\"dataframe\">\n",
       "  <thead>\n",
       "    <tr style=\"text-align: right;\">\n",
       "      <th></th>\n",
       "      <th>시도별_가축더위지수</th>\n",
       "      <th>읍면동_총거주자수</th>\n",
       "      <th>가축분뇨발생량_합계_면적비</th>\n",
       "      <th>가축사육종사자수</th>\n",
       "      <th>분뇨처리업장_개수</th>\n",
       "      <th>분뇨처리_정화</th>\n",
       "      <th>index</th>\n",
       "    </tr>\n",
       "  </thead>\n",
       "  <tbody>\n",
       "    <tr>\n",
       "      <th>0</th>\n",
       "      <td>0.553841</td>\n",
       "      <td>0.574057</td>\n",
       "      <td>0.058740</td>\n",
       "      <td>0.721357</td>\n",
       "      <td>0.0</td>\n",
       "      <td>0.647682</td>\n",
       "      <td>5029.271643</td>\n",
       "    </tr>\n",
       "    <tr>\n",
       "      <th>1</th>\n",
       "      <td>0.553841</td>\n",
       "      <td>0.029032</td>\n",
       "      <td>0.026158</td>\n",
       "      <td>0.636634</td>\n",
       "      <td>0.0</td>\n",
       "      <td>0.187151</td>\n",
       "      <td>2237.224690</td>\n",
       "    </tr>\n",
       "  </tbody>\n",
       "</table>\n",
       "</div>"
      ],
      "text/plain": [
       "   시도별_가축더위지수  읍면동_총거주자수  가축분뇨발생량_합계_면적비  가축사육종사자수  분뇨처리업장_개수   분뇨처리_정화  \\\n",
       "0    0.553841   0.574057        0.058740  0.721357        0.0  0.647682   \n",
       "1    0.553841   0.029032        0.026158  0.636634        0.0  0.187151   \n",
       "\n",
       "         index  \n",
       "0  5029.271643  \n",
       "1  2237.224690  "
      ]
     },
     "execution_count": 18,
     "metadata": {},
     "output_type": "execute_result"
    }
   ],
   "source": [
    "new['index'] = new['시도별_가축더위지수'] * (-7.6110) + new['읍면동_총거주자수'] * 0.1391 + new['가축분뇨발생량_합계_면적비'] * 8.569e+04 + new['가축사육종사자수'] * (-0.0834) + new['분뇨처리업장_개수'] * 0.1123 + new['분뇨처리_정화'] * 0.0240\n",
    "new.head(2)"
   ]
  },
  {
   "cell_type": "code",
   "execution_count": null,
   "id": "5d52b2cb",
   "metadata": {
    "id": "5d52b2cb",
    "outputId": "9ad7f6af-9d6b-4a2f-d2d7-cb1d7a2017e0"
   },
   "outputs": [
    {
     "name": "stdout",
     "output_type": "stream",
     "text": [
      "<class 'pandas.core.frame.DataFrame'>\n",
      "RangeIndex: 205 entries, 0 to 204\n",
      "Data columns (total 7 columns):\n",
      " #   Column          Non-Null Count  Dtype  \n",
      "---  ------          --------------  -----  \n",
      " 0   시도별_가축더위지수      205 non-null    float64\n",
      " 1   읍면동_총거주자수       205 non-null    float64\n",
      " 2   가축분뇨발생량_합계_면적비  205 non-null    float64\n",
      " 3   가축사육종사자수        205 non-null    float64\n",
      " 4   분뇨처리업장_개수       205 non-null    float64\n",
      " 5   분뇨처리_정화         205 non-null    float64\n",
      " 6   index           205 non-null    float64\n",
      "dtypes: float64(7)\n",
      "memory usage: 11.3 KB\n"
     ]
    }
   ],
   "source": [
    "new.info()"
   ]
  }
 ],
 "metadata": {
  "colab": {
   "provenance": []
  },
  "kernelspec": {
   "display_name": "Python 3 (ipykernel)",
   "language": "python",
   "name": "python3"
  },
  "language_info": {
   "codemirror_mode": {
    "name": "ipython",
    "version": 3
   },
   "file_extension": ".py",
   "mimetype": "text/x-python",
   "name": "python",
   "nbconvert_exporter": "python",
   "pygments_lexer": "ipython3",
   "version": "3.9.12"
  },
  "toc-autonumbering": false
 },
 "nbformat": 4,
 "nbformat_minor": 5
}
